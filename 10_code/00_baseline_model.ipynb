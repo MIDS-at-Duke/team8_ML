{
 "cells": [
  {
   "cell_type": "markdown",
   "metadata": {},
   "source": [
    "## 0. Dependencies"
   ]
  },
  {
   "cell_type": "markdown",
   "metadata": {},
   "source": [
    "If you have not installed openCV, run the following code"
   ]
  },
  {
   "cell_type": "code",
   "execution_count": null,
   "metadata": {},
   "outputs": [],
   "source": [
    "# ! pip install opencv-python"
   ]
  },
  {
   "cell_type": "markdown",
   "metadata": {},
   "source": [
    "## 1. Subsetting and Loading"
   ]
  },
  {
   "cell_type": "code",
   "execution_count": null,
   "metadata": {},
   "outputs": [],
   "source": [
    "import cv2\n",
    "import os\n",
    "import random\n",
    "import numpy as np"
   ]
  },
  {
   "cell_type": "code",
   "execution_count": null,
   "metadata": {},
   "outputs": [],
   "source": [
    "# set a seed\n",
    "random.seed(328)\n",
    "\n",
    "# define dir\n",
    "data_dir = \"./crop_part1\"\n",
    "\n",
    "# random sampling\n",
    "n = 1000\n",
    "fnames_subset = random.sample(os.listdir(data_dir), n)"
   ]
  },
  {
   "cell_type": "markdown",
   "metadata": {},
   "source": [
    "Construct y"
   ]
  },
  {
   "cell_type": "code",
   "execution_count": null,
   "metadata": {},
   "outputs": [],
   "source": [
    "y = [] # 0 (male) or 1 (female)\n",
    "for fname in fnames_subset:\n",
    "    temp = fname.split(\"_\")\n",
    "    y.append(temp[1])\n",
    "    pass\n",
    "\n",
    "y = np.array(y)"
   ]
  },
  {
   "cell_type": "markdown",
   "metadata": {},
   "source": [
    "Construct X as np arrays"
   ]
  },
  {
   "cell_type": "code",
   "execution_count": null,
   "metadata": {},
   "outputs": [],
   "source": [
    "# X: flattened version\n",
    "# X_origin_dict: original version; key: index, value: 3-D np array\n",
    "X_rgb = list()\n",
    "X_origin_dict = dict()\n",
    "for i, fname in enumerate(fnames_subset):\n",
    "    # construct dir\n",
    "    dir = data_dir + \"/\" + fname\n",
    "    \n",
    "    # read the data\n",
    "    dat = cv2.imread(dir)\n",
    "    \n",
    "    # convert to rgb\n",
    "    dat = cv2.cvtColor(dat, cv2.COLOR_BGR2RGB)\n",
    "    \n",
    "    # store the original data\n",
    "    X_origin_dict[i] = dat\n",
    "    \n",
    "    # store the data\n",
    "    X_rgb.append(dat)\n",
    "\n",
    "# convert to np array\n",
    "X_rgb = np.array(X_rgb)\n",
    "print(\"The shape of the X_rgb is:\", X_rgb.shape)\n"
   ]
  },
  {
   "cell_type": "markdown",
   "metadata": {},
   "source": [
    "## 2. Modeling"
   ]
  },
  {
   "cell_type": "code",
   "execution_count": null,
   "metadata": {},
   "outputs": [],
   "source": [
    "from sklearn.model_selection import train_test_split\n",
    "from sklearn.preprocessing import StandardScaler\n",
    "import copy\n",
    "import matplotlib.pyplot as plt\n",
    "import seaborn as sns\n",
    "from sklearn import metrics\n",
    "import time\n",
    "from sklearn.linear_model import LogisticRegression \n",
    "import matplotlib\n",
    "from sklearn import metrics\n",
    "from sklearn.metrics import precision_recall_curve"
   ]
  },
  {
   "cell_type": "code",
   "execution_count": null,
   "metadata": {},
   "outputs": [],
   "source": [
    "X_rgb_train, X_rgb_test, y_train, y_test = train_test_split(\n",
    "    X_rgb, y, test_size=0.2, random_state=329\n",
    ")\n",
    "\n",
    "X_rgb_train, X_rgb_val, y_train, y_val = train_test_split(\n",
    "    X_rgb_train, y_train, test_size=0.2, random_state=525\n",
    ")\n"
   ]
  },
  {
   "cell_type": "code",
   "execution_count": null,
   "metadata": {},
   "outputs": [],
   "source": [
    "X_rgb_flattened_train = np.array([x.flatten() for x in X_rgb_train])\n",
    "X_rgb_flattened_val = np.array([x.flatten() for x in X_rgb_val])\n",
    "X_rgb_flattened_test = np.array([x.flatten() for x in X_rgb_test])"
   ]
  },
  {
   "cell_type": "code",
   "execution_count": null,
   "metadata": {},
   "outputs": [],
   "source": [
    "# feature scaling\n",
    "scaler = StandardScaler()\n",
    "scaler.fit(X_rgb_flattened_train)\n",
    "\n",
    "X_rgb_flattened_train_scaled = X_rgb_flattened_train.copy() \n",
    "X_rgb_flattened_train_scaled = scaler.transform(X_rgb_flattened_train)\n",
    "X_rgb_flattened_val_scaled = scaler.transform(X_rgb_flattened_val)\n",
    "X_rgb_flattened_test_scaled = scaler.transform(X_rgb_flattened_test)\n"
   ]
  },
  {
   "cell_type": "code",
   "execution_count": null,
   "metadata": {},
   "outputs": [],
   "source": [
    "# construct a list of C\n",
    "C = []\n",
    "temp = -4\n",
    "step = (4 - (-4)) / (20 - 1) \n",
    "while temp <= 4:\n",
    "    C.append(temp)\n",
    "    temp += step \n",
    "C.pop()\n",
    "C.append(4)\n",
    "C_log = copy.deepcopy(C)\n",
    "C = np.array(C)\n",
    "C = np.power(10, C)\n",
    "print(\"There are {} C values.\".format(len(C))) \n",
    "print(\"The C values are:\", C)"
   ]
  },
  {
   "cell_type": "code",
   "execution_count": null,
   "metadata": {},
   "outputs": [],
   "source": [
    "# init dictionaries for storing results of each interation\n",
    "num_parameters_l1 = []\n",
    "auc_l1 = []\n",
    "\n",
    "# loop through 20 C values\n",
    "for i, c in enumerate(C):\n",
    "    model_lr = LogisticRegression(\n",
    "        penalty=\"l1\", C=c, solver=\"liblinear\", random_state=214\n",
    "    )\n",
    "\n",
    "    model_lr.fit(X_rgb_flattened_train_scaled, y_train)\n",
    "\n",
    "    # counting non-zero parameters\n",
    "    cnt = 0\n",
    "    for coef in model_lr.coef_.flatten():\n",
    "        if coef != 0:\n",
    "            cnt += 1\n",
    "\n",
    "    num_parameters_l1.append(cnt)\n",
    "\n",
    "    # evaluate on val set\n",
    "    y_val_prob = model_lr.predict_proba(X_rgb_flattened_val_scaled)[:, 1]\n",
    "\n",
    "    # calculating the auc\n",
    "    auc_model_lr = metrics.roc_auc_score(y_val, y_val_prob)\n",
    "    auc_l1.append(auc_model_lr)\n",
    "    pass"
   ]
  },
  {
   "cell_type": "code",
   "execution_count": null,
   "metadata": {},
   "outputs": [],
   "source": [
    "# set format as retina\n",
    "%config InlineBackend.figure_format = \"retina\"\n",
    "\n",
    "# set theme\n",
    "sns.set_theme(style=\"whitegrid\")\n",
    "\n",
    "# set subplots to 2*2\n",
    "fig, axs = plt.subplots(1, 2, figsize=(10, 4))\n",
    "\n",
    "# data for the subplots\n",
    "dat = [num_parameters_l1, auc_l1]\n",
    "\n",
    "y_lab = [\"Numbers of Non-zero Parameters for l1\",\n",
    "         \"Area under the ROC Curve for l1\"]\n",
    "\n",
    "title = [\n",
    "    \"Numbers of Non-zero Parameters vs. log(C) for l1\",\n",
    "    \"Area under the ROC Curve vs. log(c) for l1\"\n",
    "]\n",
    "\n",
    "# make a loop for each plot\n",
    "for i in range(2):\n",
    "    axs[i].plot(C_log, dat[i],\n",
    "                    label=y_lab[i])\n",
    "\n",
    "    # set the title for each subplot\n",
    "    axs[i].set_title(\n",
    "        title[i], fontsize=10\n",
    "    )\n",
    "\n",
    "    # set labels\n",
    "    axs[i].set_xlabel(\"log(C) (base=10)\", fontsize=9)\n",
    "    axs[i].set_ylabel(y_lab[i], fontsize=9)\n",
    "\n",
    "    # set ticks\n",
    "    axs[i].tick_params(labelsize=7)\n",
    "\n",
    "    # set legends\n",
    "    legend = axs[i].legend(prop={\"size\": 8}, loc=\"lower right\")\n",
    "\n",
    "\n",
    "# use tight layout to save space\n",
    "plt.tight_layout()\n",
    "\n",
    "plt.show()"
   ]
  },
  {
   "cell_type": "markdown",
   "metadata": {},
   "source": [
    "$C=0.0886$ is the optimal choice"
   ]
  },
  {
   "cell_type": "code",
   "execution_count": null,
   "metadata": {},
   "outputs": [],
   "source": [
    "max_auc, ind = 0, 0\n",
    "for i, auc in enumerate(auc_l1):\n",
    "    if auc > max_auc:\n",
    "        max_auc = auc\n",
    "        ind = i\n",
    "c_rgb = C[ind]\n",
    "print(\"The best C is: {:.4f}\".format(c_rgb))"
   ]
  },
  {
   "cell_type": "code",
   "execution_count": null,
   "metadata": {},
   "outputs": [],
   "source": [
    "model_lr_rgb = LogisticRegression(\n",
    "    penalty=\"l1\", C=0.0886, solver=\"liblinear\", random_state=214\n",
    ")\n",
    "\n",
    "model_lr_rgb.fit(X_rgb_flattened_train_scaled, y_train)\n",
    "\n",
    "# evaluate on val set\n",
    "y_test_prob = model_lr_rgb.predict_proba(X_rgb_flattened_test_scaled)[:, 1]\n",
    "\n",
    "# calculating the auc\n",
    "auc_model_lr_rgb = metrics.roc_auc_score(y_test, y_test_prob)\n",
    "print(\"The AUC is {:.5f}\".format(auc_model_lr_rgb))"
   ]
  },
  {
   "cell_type": "markdown",
   "metadata": {},
   "source": [
    "The grey-scale input is tried next."
   ]
  },
  {
   "cell_type": "code",
   "execution_count": null,
   "metadata": {},
   "outputs": [],
   "source": [
    "X_grey_train = np.array([cv2.cvtColor(dt, cv2.COLOR_BGR2GRAY) for dt in X_rgb_train])\n",
    "X_grey_val = np.array([cv2.cvtColor(dt, cv2.COLOR_BGR2GRAY) for dt in X_rgb_val])\n",
    "X_grey_test = np.array([cv2.cvtColor(dt, cv2.COLOR_BGR2GRAY) for dt in X_rgb_test])"
   ]
  },
  {
   "cell_type": "code",
   "execution_count": null,
   "metadata": {},
   "outputs": [],
   "source": [
    "X_grey_flattened_train = np.array([x.flatten() for x in X_grey_train])\n",
    "X_grey_flattened_val = np.array([x.flatten() for x in X_grey_val])\n",
    "X_grey_flattened_test = np.array([x.flatten() for x in X_grey_test])"
   ]
  },
  {
   "cell_type": "code",
   "execution_count": null,
   "metadata": {},
   "outputs": [],
   "source": [
    "# feature scaling\n",
    "scaler = StandardScaler()\n",
    "scaler.fit(X_grey_flattened_train)\n",
    "\n",
    "X_grey_flattened_train_scaled = X_grey_flattened_train.copy() \n",
    "X_grey_flattened_train_scaled = scaler.transform(X_grey_flattened_train)\n",
    "X_grey_flattened_val_scaled = scaler.transform(X_grey_flattened_val)\n",
    "X_grey_flattened_test_scaled = scaler.transform(X_grey_flattened_test)"
   ]
  },
  {
   "cell_type": "code",
   "execution_count": null,
   "metadata": {},
   "outputs": [],
   "source": [
    "# init dictionaries for storing results of each interation\n",
    "num_parameters_l1_grey = []\n",
    "auc_l1_grey = []\n",
    "\n",
    "# loop through 20 C values\n",
    "for i, c in enumerate(C):\n",
    "    model_lr = LogisticRegression(\n",
    "        penalty=\"l1\", C=c, solver=\"liblinear\", random_state=214\n",
    "    )\n",
    "\n",
    "    model_lr.fit(X_grey_flattened_train_scaled, y_train)\n",
    "\n",
    "    # counting non-zero parameters\n",
    "    cnt = 0\n",
    "    for coef in model_lr.coef_.flatten():\n",
    "        if coef != 0:\n",
    "            cnt += 1\n",
    "\n",
    "    num_parameters_l1_grey.append(cnt)\n",
    "\n",
    "    # evaluate on val set\n",
    "    y_val_prob = model_lr.predict_proba(X_grey_flattened_val_scaled)[:, 1]\n",
    "\n",
    "    # calculating the auc\n",
    "    auc_model_lr = metrics.roc_auc_score(y_val, y_val_prob)\n",
    "    auc_l1_grey.append(auc_model_lr)\n",
    "    pass"
   ]
  },
  {
   "cell_type": "code",
   "execution_count": null,
   "metadata": {},
   "outputs": [],
   "source": [
    "# set format as retina\n",
    "%config InlineBackend.figure_format = \"retina\"\n",
    "\n",
    "# set theme\n",
    "sns.set_theme(style=\"whitegrid\")\n",
    "\n",
    "# set subplots to 2*2\n",
    "fig, axs = plt.subplots(1, 2, figsize=(10, 4))\n",
    "\n",
    "# data for the subplots\n",
    "dat = [num_parameters_l1_grey, auc_l1_grey]\n",
    "\n",
    "y_lab = [\"Numbers of Non-zero Parameters for Data in Grey-scale\",\n",
    "         \"Area under the ROC Curve for Data in Grey-scale\"]\n",
    "\n",
    "title = [\n",
    "    \"Numbers of Non-zero Parameters vs. log(C) for Data in Grey-scale\",\n",
    "    \"Area under the ROC Curve vs. log(c) for Data in Grey-scale\"\n",
    "]\n",
    "\n",
    "# make a loop for each plot\n",
    "for i in range(2):\n",
    "    axs[i].plot(C_log, dat[i],\n",
    "                    label=y_lab[i])\n",
    "\n",
    "    # set the title for each subplot\n",
    "    axs[i].set_title(\n",
    "        title[i], fontsize=10\n",
    "    )\n",
    "\n",
    "    # set labels\n",
    "    axs[i].set_xlabel(\"log(C) (base=10)\", fontsize=9)\n",
    "    axs[i].set_ylabel(y_lab[i], fontsize=9)\n",
    "\n",
    "    # set ticks\n",
    "    axs[i].tick_params(labelsize=7)\n",
    "\n",
    "    # set legends\n",
    "    legend = axs[i].legend(prop={\"size\": 8}, loc=\"lower right\")\n",
    "\n",
    "\n",
    "# use tight layout to save space\n",
    "plt.tight_layout()\n",
    "\n",
    "plt.show()"
   ]
  },
  {
   "cell_type": "code",
   "execution_count": null,
   "metadata": {},
   "outputs": [],
   "source": [
    "max_auc, ind = 0, 0\n",
    "for i, auc in enumerate(auc_l1_grey):\n",
    "    if auc > max_auc:\n",
    "        max_auc = auc\n",
    "        ind = i\n",
    "c_grey = C[ind]\n",
    "print(\"The best C is: {:.4f}\".format(c_grey))"
   ]
  },
  {
   "cell_type": "code",
   "execution_count": null,
   "metadata": {},
   "outputs": [],
   "source": [
    "model_lr_rgb = LogisticRegression(\n",
    "    penalty=\"l1\", C=0.2336, solver=\"liblinear\", random_state=214\n",
    ")\n",
    "\n",
    "model_lr_rgb.fit(X_grey_flattened_train_scaled, y_train)\n",
    "\n",
    "# evaluate on val set\n",
    "y_test_prob = model_lr_rgb.predict_proba(X_rgb_flattened_test_scaled)[:, 1]\n",
    "\n",
    "# calculating the auc\n",
    "auc_model_lr_rgb = metrics.roc_auc_score(y_test, y_test_prob)\n",
    "print(\"The AUC is {:.5f}\".format(auc_model_lr_rgb))"
   ]
  },
  {
   "cell_type": "markdown",
   "metadata": {},
   "source": [
    "The grey-scale input is worse in this case. It may because of some information loss."
   ]
  }
 ],
 "metadata": {
  "interpreter": {
   "hash": "f38515062e2865a726c0b6997065476dfc4e8a8459005a9797c2f60ed67f0f78"
  },
  "kernelspec": {
   "display_name": "Python 3.9.7 ('base')",
   "language": "python",
   "name": "python3"
  },
  "language_info": {
   "codemirror_mode": {
    "name": "ipython",
    "version": 3
   },
   "file_extension": ".py",
   "mimetype": "text/x-python",
   "name": "python",
   "nbconvert_exporter": "python",
   "pygments_lexer": "ipython3",
   "version": "3.9.7"
  },
  "orig_nbformat": 4
 },
 "nbformat": 4,
 "nbformat_minor": 2
}
