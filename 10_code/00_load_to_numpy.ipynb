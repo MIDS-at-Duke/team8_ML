{
 "cells": [
  {
   "cell_type": "markdown",
   "metadata": {},
   "source": [
    "## 0. Dependencies"
   ]
  },
  {
   "cell_type": "markdown",
   "metadata": {},
   "source": [
    "If you have not installed openCV, run the following code"
   ]
  },
  {
   "cell_type": "code",
   "execution_count": 1,
   "metadata": {},
   "outputs": [],
   "source": [
    "# ! pip install opencv-python"
   ]
  },
  {
   "cell_type": "markdown",
   "metadata": {},
   "source": [
    "## 1. Subsetting and Loading"
   ]
  },
  {
   "cell_type": "code",
   "execution_count": 2,
   "metadata": {},
   "outputs": [],
   "source": [
    "import cv2\n",
    "import os\n",
    "import random\n",
    "import numpy as np"
   ]
  },
  {
   "cell_type": "code",
   "execution_count": 4,
   "metadata": {},
   "outputs": [],
   "source": [
    "# set a seed\n",
    "random.seed(328)\n",
    "\n",
    "# define dir\n",
    "data_dir = \"./crop_part1\"\n",
    "\n",
    "# random sampling\n",
    "n = 1000\n",
    "fnames_subset = random.sample(os.listdir(data_dir), n)"
   ]
  },
  {
   "cell_type": "markdown",
   "metadata": {},
   "source": [
    "Construct y"
   ]
  },
  {
   "cell_type": "code",
   "execution_count": 5,
   "metadata": {},
   "outputs": [],
   "source": [
    "y = [] # 0 (male) or 1 (female)\n",
    "for fname in fnames_subset:\n",
    "    temp = fname.split(\"_\")\n",
    "    y.append(temp[1])\n",
    "    pass\n",
    "\n",
    "y = np.array(y)"
   ]
  },
  {
   "cell_type": "markdown",
   "metadata": {},
   "source": [
    "Construct X as np arrays"
   ]
  },
  {
   "cell_type": "code",
   "execution_count": 10,
   "metadata": {},
   "outputs": [
    {
     "name": "stdout",
     "output_type": "stream",
     "text": [
      "The shape of the X_rgb is: (1000, 120000)\n",
      "The shape of the X_grey is: (1000, 40000)\n"
     ]
    }
   ],
   "source": [
    "# X: flattened version\n",
    "# X_origin_dict: original version; key: index, value: 3-D np array\n",
    "X_rgb, X_grey, X_origin_dict = list(), list(), dict()\n",
    "for i, fname in enumerate(fnames_subset):\n",
    "    # construct dir\n",
    "    dir = data_dir + \"/\" + fname\n",
    "    \n",
    "    # read the data\n",
    "    dat = cv2.imread(dir)\n",
    "    \n",
    "    # store the original data\n",
    "    X_origin_dict[i] = dat\n",
    "    \n",
    "    # convert RGB to Grey-scale\n",
    "    dat_grey = cv2.cvtColor(dat, cv2.COLOR_BGR2GRAY)\n",
    "    \n",
    "    # store the flattened data\n",
    "    X_rgb.append(dat.flatten())\n",
    "    X_grey.append(dat_grey.flatten())\n",
    "\n",
    "# convert to np array\n",
    "X_rgb = np.array(X_rgb)\n",
    "X_grey = np.array(X_grey)\n",
    "print(\"The shape of the X_rgb is:\", X_rgb.shape)\n",
    "print(\"The shape of the X_grey is:\", X_grey.shape)"
   ]
  }
 ],
 "metadata": {
  "interpreter": {
   "hash": "f38515062e2865a726c0b6997065476dfc4e8a8459005a9797c2f60ed67f0f78"
  },
  "kernelspec": {
   "display_name": "Python 3.9.7 ('base')",
   "language": "python",
   "name": "python3"
  },
  "language_info": {
   "codemirror_mode": {
    "name": "ipython",
    "version": 3
   },
   "file_extension": ".py",
   "mimetype": "text/x-python",
   "name": "python",
   "nbconvert_exporter": "python",
   "pygments_lexer": "ipython3",
   "version": "3.9.7"
  },
  "orig_nbformat": 4
 },
 "nbformat": 4,
 "nbformat_minor": 2
}
