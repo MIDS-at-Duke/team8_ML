{
 "cells": [
  {
   "cell_type": "code",
   "execution_count": 1,
   "id": "c18e919b-bcee-4308-8b52-cf0c1b527c4c",
   "metadata": {},
   "outputs": [
    {
     "name": "stdout",
     "output_type": "stream",
     "text": [
      "Collecting opencv-python\n",
      "  Downloading opencv_python-4.5.5.64-cp36-abi3-win_amd64.whl (35.4 MB)\n",
      "Requirement already satisfied: numpy>=1.17.3 in c:\\users\\jhlda\\anaconda3\\lib\\site-packages (from opencv-python) (1.20.1)\n",
      "Installing collected packages: opencv-python\n",
      "Successfully installed opencv-python-4.5.5.64\n"
     ]
    }
   ],
   "source": [
    "## Install dependencies\n",
    "! pip install opencv-python"
   ]
  },
  {
   "cell_type": "code",
   "execution_count": 2,
   "id": "8bf656cf-56ba-4491-8271-03ba138b2092",
   "metadata": {},
   "outputs": [],
   "source": [
    "import cv2\n",
    "import os\n",
    "import random\n",
    "import numpy as np"
   ]
  },
  {
   "cell_type": "code",
   "execution_count": 13,
   "id": "e8b9a68a-1200-4c53-9fed-72a37fa5bc45",
   "metadata": {},
   "outputs": [],
   "source": [
    "# importing the \"tarfile\" module\n",
    "import tarfile\n",
    "  \n",
    "# open file\n",
    "file = tarfile.open('crop_part1.tar.gz')\n",
    "  \n",
    "# extracting file\n",
    "file.extractall('./crop_part1')\n",
    "  \n",
    "file.close()"
   ]
  },
  {
   "cell_type": "code",
   "execution_count": 69,
   "id": "79ab45e3-9d98-4847-aaae-d6df6b273146",
   "metadata": {},
   "outputs": [],
   "source": [
    "# set a seed\n",
    "data_dir = \"C:/Users/jhlda/OneDrive/Documents/Duke/IDS 705/final_proj/10_code/crop_part1/crop_part1\"\n",
    "fnames_subset = os.listdir(data_dir)"
   ]
  },
  {
   "cell_type": "code",
   "execution_count": 71,
   "id": "82e9f85e-c88b-49fa-8cb8-b53619b3297a",
   "metadata": {},
   "outputs": [],
   "source": [
    "y = [] # 0 (male) or 1 (female)\n",
    "for fname in fnames_subset:\n",
    "    temp = fname.split(\"_\")\n",
    "    y.append(temp[1])\n",
    "    pass\n",
    "\n",
    "y = np.array(y)"
   ]
  },
  {
   "cell_type": "code",
   "execution_count": 72,
   "id": "f919fb29-f1d0-4921-97de-cee4e8f213d0",
   "metadata": {},
   "outputs": [
    {
     "data": {
      "text/plain": [
       "1    5407\n",
       "0    4372\n",
       "3       1\n",
       "dtype: int64"
      ]
     },
     "execution_count": 72,
     "metadata": {},
     "output_type": "execute_result"
    }
   ],
   "source": [
    "import pandas as pd\n",
    "pd.Series(y).value_counts()"
   ]
  },
  {
   "cell_type": "code",
   "execution_count": 73,
   "id": "232d1613-9162-4cd1-82b2-26cb4ca628eb",
   "metadata": {},
   "outputs": [
    {
     "data": {
      "text/plain": [
       "array([7884], dtype=int64)"
      ]
     },
     "execution_count": 73,
     "metadata": {},
     "output_type": "execute_result"
    }
   ],
   "source": [
    "import numpy as np\n",
    "np.where(y=='3')[0]"
   ]
  },
  {
   "cell_type": "code",
   "execution_count": 75,
   "id": "9dcf6fa0-af3c-4b7d-8b5d-8322e1b3aea0",
   "metadata": {},
   "outputs": [
    {
     "name": "stdout",
     "output_type": "stream",
     "text": [
      "The shape of the X_rgb is: (9780, 200, 200, 3)\n"
     ]
    }
   ],
   "source": [
    "# X: flattened version\n",
    "# X_origin_dict: original version; key: index, value: 3-D np array\n",
    "X_rgb = list()\n",
    "X_origin_dict = dict()\n",
    "for i, fname in enumerate(fnames_subset):\n",
    "    # construct dir\n",
    "    dir = data_dir + \"/\" + fname\n",
    "    \n",
    "    # read the data\n",
    "    dat = cv2.imread(dir)\n",
    "    \n",
    "    # convert to rgb\n",
    "    dat = cv2.cvtColor(dat, cv2.COLOR_BGR2RGB)\n",
    "    \n",
    "    # store the original data\n",
    "    X_origin_dict[i] = dat\n",
    "    \n",
    "    # store the data\n",
    "    X_rgb.append(dat)\n",
    "\n",
    "# convert to np array\n",
    "X_rgb = np.array(X_rgb)\n",
    "print(\"The shape of the X_rgb is:\", X_rgb.shape)"
   ]
  },
  {
   "cell_type": "code",
   "execution_count": 83,
   "id": "b5c4ebc8-6b15-42e9-9aee-89f89ea32815",
   "metadata": {},
   "outputs": [],
   "source": [
    "y = np.delete(y, 7884)\n",
    "X_rgb = np.delete(X_rgb, 7884)"
   ]
  },
  {
   "cell_type": "markdown",
   "id": "cf2a23df-43cb-411c-968c-affd6d8f3ac2",
   "metadata": {},
   "source": [
    "# Modelling: Random Forest"
   ]
  },
  {
   "cell_type": "code",
   "execution_count": 85,
   "id": "1a141967-75f4-4e60-b311-c48b46c3d790",
   "metadata": {},
   "outputs": [],
   "source": [
    "from sklearn.model_selection import train_test_split\n",
    "from sklearn.preprocessing import StandardScaler\n",
    "import copy\n",
    "import matplotlib.pyplot as plt\n",
    "import seaborn as sns\n",
    "from sklearn import metrics\n",
    "import time\n",
    "from sklearn.ensemble import RandomForestClassifier\n",
    "import matplotlib\n",
    "from sklearn import metrics\n",
    "from sklearn.metrics import precision_recall_curve"
   ]
  },
  {
   "cell_type": "code",
   "execution_count": 86,
   "id": "a01d190c-e3c4-41bf-b808-1e39e2f219c3",
   "metadata": {},
   "outputs": [
    {
     "name": "stdout",
     "output_type": "stream",
     "text": [
      "Collecting cuml\n",
      "  Downloading cuml-0.6.1.post1.tar.gz (1.1 kB)\n",
      "Building wheels for collected packages: cuml\n",
      "  Building wheel for cuml (setup.py): started\n",
      "  Building wheel for cuml (setup.py): finished with status 'error'\n",
      "  Running setup.py clean for cuml\n",
      "Failed to build cuml\n",
      "Installing collected packages: cuml\n",
      "    Running setup.py install for cuml: started\n",
      "    Running setup.py install for cuml: finished with status 'error'\n"
     ]
    },
    {
     "name": "stderr",
     "output_type": "stream",
     "text": [
      "  ERROR: Command errored out with exit status 1:\n",
      "   command: 'C:\\Users\\jhlda\\anaconda3\\python.exe' -u -c 'import sys, setuptools, tokenize; sys.argv[0] = '\"'\"'C:\\\\Users\\\\jhlda\\\\AppData\\\\Local\\\\Temp\\\\pip-install-zbygn_kn\\\\cuml_778e1ef05e4146b4b00df8d046a77d03\\\\setup.py'\"'\"'; __file__='\"'\"'C:\\\\Users\\\\jhlda\\\\AppData\\\\Local\\\\Temp\\\\pip-install-zbygn_kn\\\\cuml_778e1ef05e4146b4b00df8d046a77d03\\\\setup.py'\"'\"';f=getattr(tokenize, '\"'\"'open'\"'\"', open)(__file__);code=f.read().replace('\"'\"'\\r\\n'\"'\"', '\"'\"'\\n'\"'\"');f.close();exec(compile(code, __file__, '\"'\"'exec'\"'\"'))' bdist_wheel -d 'C:\\Users\\jhlda\\AppData\\Local\\Temp\\pip-wheel-7mj_fued'\n",
      "       cwd: C:\\Users\\jhlda\\AppData\\Local\\Temp\\pip-install-zbygn_kn\\cuml_778e1ef05e4146b4b00df8d046a77d03\\\n",
      "  Complete output (25 lines):\n",
      "  running bdist_wheel\n",
      "  running build\n",
      "  installing to build\\bdist.win-amd64\\wheel\n",
      "  running install\n",
      "  Traceback (most recent call last):\n",
      "    File \"<string>\", line 1, in <module>\n",
      "    File \"C:\\Users\\jhlda\\AppData\\Local\\Temp\\pip-install-zbygn_kn\\cuml_778e1ef05e4146b4b00df8d046a77d03\\setup.py\", line 18, in <module>\n",
      "      setup(name=pkg,\n",
      "    File \"C:\\Users\\jhlda\\anaconda3\\lib\\site-packages\\setuptools\\__init__.py\", line 153, in setup\n",
      "      return distutils.core.setup(**attrs)\n",
      "    File \"C:\\Users\\jhlda\\anaconda3\\lib\\distutils\\core.py\", line 148, in setup\n",
      "      dist.run_commands()\n",
      "    File \"C:\\Users\\jhlda\\anaconda3\\lib\\distutils\\dist.py\", line 966, in run_commands\n",
      "      self.run_command(cmd)\n",
      "    File \"C:\\Users\\jhlda\\anaconda3\\lib\\distutils\\dist.py\", line 985, in run_command\n",
      "      cmd_obj.run()\n",
      "    File \"C:\\Users\\jhlda\\anaconda3\\lib\\site-packages\\wheel\\bdist_wheel.py\", line 335, in run\n",
      "      self.run_command('install')\n",
      "    File \"C:\\Users\\jhlda\\anaconda3\\lib\\distutils\\cmd.py\", line 313, in run_command\n",
      "      self.distribution.run_command(command)\n",
      "    File \"C:\\Users\\jhlda\\anaconda3\\lib\\distutils\\dist.py\", line 985, in run_command\n",
      "      cmd_obj.run()\n",
      "    File \"C:\\Users\\jhlda\\AppData\\Local\\Temp\\pip-install-zbygn_kn\\cuml_778e1ef05e4146b4b00df8d046a77d03\\setup.py\", line 15, in run\n",
      "      raise Exception(long_description)\n",
      "  Exception: Please install cuml via the rapidsai conda channel. See https://rapids.ai/start.html for instructions.\n",
      "  ----------------------------------------\n",
      "  ERROR: Failed building wheel for cuml\n",
      "    ERROR: Command errored out with exit status 1:\n",
      "     command: 'C:\\Users\\jhlda\\anaconda3\\python.exe' -u -c 'import sys, setuptools, tokenize; sys.argv[0] = '\"'\"'C:\\\\Users\\\\jhlda\\\\AppData\\\\Local\\\\Temp\\\\pip-install-zbygn_kn\\\\cuml_778e1ef05e4146b4b00df8d046a77d03\\\\setup.py'\"'\"'; __file__='\"'\"'C:\\\\Users\\\\jhlda\\\\AppData\\\\Local\\\\Temp\\\\pip-install-zbygn_kn\\\\cuml_778e1ef05e4146b4b00df8d046a77d03\\\\setup.py'\"'\"';f=getattr(tokenize, '\"'\"'open'\"'\"', open)(__file__);code=f.read().replace('\"'\"'\\r\\n'\"'\"', '\"'\"'\\n'\"'\"');f.close();exec(compile(code, __file__, '\"'\"'exec'\"'\"'))' install --record 'C:\\Users\\jhlda\\AppData\\Local\\Temp\\pip-record-qs875gj_\\install-record.txt' --single-version-externally-managed --compile --install-headers 'C:\\Users\\jhlda\\anaconda3\\Include\\cuml'\n",
      "         cwd: C:\\Users\\jhlda\\AppData\\Local\\Temp\\pip-install-zbygn_kn\\cuml_778e1ef05e4146b4b00df8d046a77d03\\\n",
      "    Complete output (16 lines):\n",
      "    running install\n",
      "    Traceback (most recent call last):\n",
      "      File \"<string>\", line 1, in <module>\n",
      "      File \"C:\\Users\\jhlda\\AppData\\Local\\Temp\\pip-install-zbygn_kn\\cuml_778e1ef05e4146b4b00df8d046a77d03\\setup.py\", line 18, in <module>\n",
      "        setup(name=pkg,\n",
      "      File \"C:\\Users\\jhlda\\anaconda3\\lib\\site-packages\\setuptools\\__init__.py\", line 153, in setup\n",
      "        return distutils.core.setup(**attrs)\n",
      "      File \"C:\\Users\\jhlda\\anaconda3\\lib\\distutils\\core.py\", line 148, in setup\n",
      "        dist.run_commands()\n",
      "      File \"C:\\Users\\jhlda\\anaconda3\\lib\\distutils\\dist.py\", line 966, in run_commands\n",
      "        self.run_command(cmd)\n",
      "      File \"C:\\Users\\jhlda\\anaconda3\\lib\\distutils\\dist.py\", line 985, in run_command\n",
      "        cmd_obj.run()\n",
      "      File \"C:\\Users\\jhlda\\AppData\\Local\\Temp\\pip-install-zbygn_kn\\cuml_778e1ef05e4146b4b00df8d046a77d03\\setup.py\", line 15, in run\n",
      "        raise Exception(long_description)\n",
      "    Exception: Please install cuml via the rapidsai conda channel. See https://rapids.ai/start.html for instructions.\n",
      "    ----------------------------------------\n",
      "ERROR: Command errored out with exit status 1: 'C:\\Users\\jhlda\\anaconda3\\python.exe' -u -c 'import sys, setuptools, tokenize; sys.argv[0] = '\"'\"'C:\\\\Users\\\\jhlda\\\\AppData\\\\Local\\\\Temp\\\\pip-install-zbygn_kn\\\\cuml_778e1ef05e4146b4b00df8d046a77d03\\\\setup.py'\"'\"'; __file__='\"'\"'C:\\\\Users\\\\jhlda\\\\AppData\\\\Local\\\\Temp\\\\pip-install-zbygn_kn\\\\cuml_778e1ef05e4146b4b00df8d046a77d03\\\\setup.py'\"'\"';f=getattr(tokenize, '\"'\"'open'\"'\"', open)(__file__);code=f.read().replace('\"'\"'\\r\\n'\"'\"', '\"'\"'\\n'\"'\"');f.close();exec(compile(code, __file__, '\"'\"'exec'\"'\"'))' install --record 'C:\\Users\\jhlda\\AppData\\Local\\Temp\\pip-record-qs875gj_\\install-record.txt' --single-version-externally-managed --compile --install-headers 'C:\\Users\\jhlda\\anaconda3\\Include\\cuml' Check the logs for full command output.\n"
     ]
    }
   ],
   "source": [
    "!pip install cuml"
   ]
  },
  {
   "cell_type": "code",
   "execution_count": null,
   "id": "876b877e-6cc8-4a81-9eb0-123752a83cfc",
   "metadata": {},
   "outputs": [],
   "source": []
  }
 ],
 "metadata": {
  "kernelspec": {
   "display_name": "Python 3",
   "language": "python",
   "name": "python3"
  },
  "language_info": {
   "codemirror_mode": {
    "name": "ipython",
    "version": 3
   },
   "file_extension": ".py",
   "mimetype": "text/x-python",
   "name": "python",
   "nbconvert_exporter": "python",
   "pygments_lexer": "ipython3",
   "version": "3.8.8"
  }
 },
 "nbformat": 4,
 "nbformat_minor": 5
}
