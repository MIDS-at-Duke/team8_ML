{
 "cells": [
  {
   "cell_type": "code",
   "execution_count": 100,
   "metadata": {},
   "outputs": [],
   "source": [
    "import cv2\n",
    "import os\n",
    "import random\n",
    "import numpy as np\n",
    "import pandas as pd"
   ]
  },
  {
   "cell_type": "code",
   "execution_count": 101,
   "metadata": {},
   "outputs": [],
   "source": [
    "# define dir\n",
    "data_dir = \"../../crop_part1\"\n",
    "fnames_subset = os.listdir(data_dir)"
   ]
  },
  {
   "cell_type": "code",
   "execution_count": 102,
   "metadata": {},
   "outputs": [],
   "source": [
    "# remove two files from the data set that do not follow the naming convention, therefore have not been labelled correctly and can't be used\n",
    "del fnames_subset[8903]\n",
    "del fnames_subset[6680]"
   ]
  },
  {
   "cell_type": "markdown",
   "metadata": {},
   "source": [
    "## Pre-Processing"
   ]
  },
  {
   "cell_type": "code",
   "execution_count": 103,
   "metadata": {},
   "outputs": [],
   "source": [
    "# X: flattened version\n",
    "# X_origin_dict: original version; key: index, value: 3-D np array\n",
    "X_rgb = list()\n",
    "X_origin_dict = dict()\n",
    "for i, fname in enumerate(fnames_subset):\n",
    "    # construct dir\n",
    "    dir = data_dir + \"/\" + fname\n",
    "    \n",
    "    # read the data\n",
    "    dat = cv2.imread(dir)\n",
    "\n",
    "    dat = cv2.cvtColor(dat, cv2.COLOR_BGR2RGB)\n",
    "    \n",
    "    # store the original data\n",
    "    X_origin_dict[i] = dat\n",
    "    \n",
    "    # store the data\n",
    "    X_rgb.append(dat)\n",
    "\n",
    "# convert to np array\n",
    "#X_rgb1 = np.array(X_rgb)\n",
    "#print(\"The shape of the X_rgb is:\", X_rgb1.shape)"
   ]
  },
  {
   "cell_type": "markdown",
   "metadata": {},
   "source": [
    "Combine data into a data frame"
   ]
  },
  {
   "cell_type": "code",
   "execution_count": 104,
   "metadata": {},
   "outputs": [],
   "source": [
    "df = pd.DataFrame(columns=[\"image\", \"age\", \"race\", \"gender\"])\n",
    "age = []\n",
    "race = []\n",
    "gender =[]\n",
    "for fname in fnames_subset:\n",
    "    temp = fname.split(\"_\")\n",
    "    age.append(temp[0])\n",
    "    race.append(temp[2])\n",
    "    gender.append(temp[1])\n",
    "    pass"
   ]
  },
  {
   "cell_type": "code",
   "execution_count": 105,
   "metadata": {},
   "outputs": [],
   "source": [
    "# combine indian and asian labels into one \"asian\" label\n",
    "race = ['2' if i=='3' else i for i in race]\n",
    "# relabel \"other\" to 3\n",
    "race = ['3' if i=='4' else i for i in race]"
   ]
  },
  {
   "cell_type": "code",
   "execution_count": 106,
   "metadata": {},
   "outputs": [],
   "source": [
    "# assign lists into the dataframe\n",
    "df.image = X_rgb\n",
    "df.age = [int(i) for i in age]\n",
    "df.race = [int(i) for i in race]\n",
    "df.gender = [int(i) for i in gender]"
   ]
  },
  {
   "cell_type": "code",
   "execution_count": 107,
   "metadata": {},
   "outputs": [
    {
     "data": {
      "text/html": [
       "<div>\n",
       "<style scoped>\n",
       "    .dataframe tbody tr th:only-of-type {\n",
       "        vertical-align: middle;\n",
       "    }\n",
       "\n",
       "    .dataframe tbody tr th {\n",
       "        vertical-align: top;\n",
       "    }\n",
       "\n",
       "    .dataframe thead th {\n",
       "        text-align: right;\n",
       "    }\n",
       "</style>\n",
       "<table border=\"1\" class=\"dataframe\">\n",
       "  <thead>\n",
       "    <tr style=\"text-align: right;\">\n",
       "      <th></th>\n",
       "      <th>image</th>\n",
       "      <th>age</th>\n",
       "      <th>race</th>\n",
       "      <th>gender</th>\n",
       "    </tr>\n",
       "  </thead>\n",
       "  <tbody>\n",
       "    <tr>\n",
       "      <th>0</th>\n",
       "      <td>[[[93, 107, 74], [90, 104, 71], [87, 101, 68],...</td>\n",
       "      <td>9</td>\n",
       "      <td>2</td>\n",
       "      <td>1</td>\n",
       "    </tr>\n",
       "    <tr>\n",
       "      <th>1</th>\n",
       "      <td>[[[97, 63, 51], [95, 61, 49], [91, 57, 45], [8...</td>\n",
       "      <td>1</td>\n",
       "      <td>2</td>\n",
       "      <td>1</td>\n",
       "    </tr>\n",
       "    <tr>\n",
       "      <th>2</th>\n",
       "      <td>[[[13, 5, 2], [16, 8, 5], [17, 9, 6], [16, 8, ...</td>\n",
       "      <td>16</td>\n",
       "      <td>0</td>\n",
       "      <td>0</td>\n",
       "    </tr>\n",
       "    <tr>\n",
       "      <th>3</th>\n",
       "      <td>[[[84, 55, 37], [85, 56, 38], [89, 58, 40], [9...</td>\n",
       "      <td>1</td>\n",
       "      <td>2</td>\n",
       "      <td>1</td>\n",
       "    </tr>\n",
       "    <tr>\n",
       "      <th>4</th>\n",
       "      <td>[[[25, 24, 20], [22, 21, 17], [20, 19, 15], [2...</td>\n",
       "      <td>26</td>\n",
       "      <td>1</td>\n",
       "      <td>1</td>\n",
       "    </tr>\n",
       "    <tr>\n",
       "      <th>...</th>\n",
       "      <td>...</td>\n",
       "      <td>...</td>\n",
       "      <td>...</td>\n",
       "      <td>...</td>\n",
       "    </tr>\n",
       "    <tr>\n",
       "      <th>9773</th>\n",
       "      <td>[[[60, 47, 39], [60, 47, 39], [61, 48, 40], [6...</td>\n",
       "      <td>16</td>\n",
       "      <td>0</td>\n",
       "      <td>1</td>\n",
       "    </tr>\n",
       "    <tr>\n",
       "      <th>9774</th>\n",
       "      <td>[[[6, 8, 3], [6, 8, 3], [6, 8, 3], [5, 7, 2], ...</td>\n",
       "      <td>1</td>\n",
       "      <td>2</td>\n",
       "      <td>1</td>\n",
       "    </tr>\n",
       "    <tr>\n",
       "      <th>9775</th>\n",
       "      <td>[[[113, 102, 84], [107, 96, 78], [98, 87, 69],...</td>\n",
       "      <td>71</td>\n",
       "      <td>0</td>\n",
       "      <td>0</td>\n",
       "    </tr>\n",
       "    <tr>\n",
       "      <th>9776</th>\n",
       "      <td>[[[112, 103, 98], [113, 104, 97], [113, 100, 9...</td>\n",
       "      <td>54</td>\n",
       "      <td>0</td>\n",
       "      <td>0</td>\n",
       "    </tr>\n",
       "    <tr>\n",
       "      <th>9777</th>\n",
       "      <td>[[[114, 114, 114], [111, 111, 111], [101, 101,...</td>\n",
       "      <td>36</td>\n",
       "      <td>0</td>\n",
       "      <td>0</td>\n",
       "    </tr>\n",
       "  </tbody>\n",
       "</table>\n",
       "<p>9778 rows × 4 columns</p>\n",
       "</div>"
      ],
      "text/plain": [
       "                                                  image  age  race  gender\n",
       "0     [[[93, 107, 74], [90, 104, 71], [87, 101, 68],...    9     2       1\n",
       "1     [[[97, 63, 51], [95, 61, 49], [91, 57, 45], [8...    1     2       1\n",
       "2     [[[13, 5, 2], [16, 8, 5], [17, 9, 6], [16, 8, ...   16     0       0\n",
       "3     [[[84, 55, 37], [85, 56, 38], [89, 58, 40], [9...    1     2       1\n",
       "4     [[[25, 24, 20], [22, 21, 17], [20, 19, 15], [2...   26     1       1\n",
       "...                                                 ...  ...   ...     ...\n",
       "9773  [[[60, 47, 39], [60, 47, 39], [61, 48, 40], [6...   16     0       1\n",
       "9774  [[[6, 8, 3], [6, 8, 3], [6, 8, 3], [5, 7, 2], ...    1     2       1\n",
       "9775  [[[113, 102, 84], [107, 96, 78], [98, 87, 69],...   71     0       0\n",
       "9776  [[[112, 103, 98], [113, 104, 97], [113, 100, 9...   54     0       0\n",
       "9777  [[[114, 114, 114], [111, 111, 111], [101, 101,...   36     0       0\n",
       "\n",
       "[9778 rows x 4 columns]"
      ]
     },
     "execution_count": 107,
     "metadata": {},
     "output_type": "execute_result"
    }
   ],
   "source": [
    "df"
   ]
  },
  {
   "cell_type": "code",
   "execution_count": 108,
   "metadata": {},
   "outputs": [
    {
     "data": {
      "text/plain": [
       "(9778, 4)"
      ]
     },
     "execution_count": 108,
     "metadata": {},
     "output_type": "execute_result"
    }
   ],
   "source": [
    "df.shape"
   ]
  },
  {
   "cell_type": "code",
   "execution_count": 109,
   "metadata": {},
   "outputs": [],
   "source": [
    "#Write data to csv for later usage\n",
    "data_dir2 = \"~/Documents/MIDS_Spring_semester/IDS705_Machinelearning/Final_team_project/team8_ML/20_data\"\n",
    "df.to_csv(f\"{data_dir2}/image_data.csv\")"
   ]
  },
  {
   "cell_type": "markdown",
   "metadata": {},
   "source": [
    "### LOOKING AT DISTRIBUTIONS OF AGE, RACE AND GENDER \n",
    "#### This will help us understand the imbalance in the data"
   ]
  },
  {
   "cell_type": "markdown",
   "metadata": {},
   "source": [
    "Labels\n",
    "\n",
    "[age] is an integer from 0 to 116, indicating the age\n",
    "\n",
    "[gender] is either 0 (male) or 1 (female)\n",
    "\n",
    "[race] is an integer from 0 to 4, denoting White, Black, Asian, Indian, and Others (like Hispanic, Latino, Middle Eastern)"
   ]
  },
  {
   "cell_type": "markdown",
   "metadata": {},
   "source": [
    "#### create a new dataset with labelled data"
   ]
  },
  {
   "cell_type": "code",
   "execution_count": 110,
   "metadata": {},
   "outputs": [],
   "source": [
    "df1 = df.copy()"
   ]
  },
  {
   "cell_type": "code",
   "execution_count": 111,
   "metadata": {},
   "outputs": [
    {
     "data": {
      "text/html": [
       "<div>\n",
       "<style scoped>\n",
       "    .dataframe tbody tr th:only-of-type {\n",
       "        vertical-align: middle;\n",
       "    }\n",
       "\n",
       "    .dataframe tbody tr th {\n",
       "        vertical-align: top;\n",
       "    }\n",
       "\n",
       "    .dataframe thead th {\n",
       "        text-align: right;\n",
       "    }\n",
       "</style>\n",
       "<table border=\"1\" class=\"dataframe\">\n",
       "  <thead>\n",
       "    <tr style=\"text-align: right;\">\n",
       "      <th></th>\n",
       "      <th>image</th>\n",
       "      <th>age</th>\n",
       "      <th>race</th>\n",
       "      <th>gender</th>\n",
       "    </tr>\n",
       "  </thead>\n",
       "  <tbody>\n",
       "    <tr>\n",
       "      <th>0</th>\n",
       "      <td>[[[93, 107, 74], [90, 104, 71], [87, 101, 68],...</td>\n",
       "      <td>9</td>\n",
       "      <td>2</td>\n",
       "      <td>1</td>\n",
       "    </tr>\n",
       "    <tr>\n",
       "      <th>1</th>\n",
       "      <td>[[[97, 63, 51], [95, 61, 49], [91, 57, 45], [8...</td>\n",
       "      <td>1</td>\n",
       "      <td>2</td>\n",
       "      <td>1</td>\n",
       "    </tr>\n",
       "    <tr>\n",
       "      <th>2</th>\n",
       "      <td>[[[13, 5, 2], [16, 8, 5], [17, 9, 6], [16, 8, ...</td>\n",
       "      <td>16</td>\n",
       "      <td>0</td>\n",
       "      <td>0</td>\n",
       "    </tr>\n",
       "    <tr>\n",
       "      <th>3</th>\n",
       "      <td>[[[84, 55, 37], [85, 56, 38], [89, 58, 40], [9...</td>\n",
       "      <td>1</td>\n",
       "      <td>2</td>\n",
       "      <td>1</td>\n",
       "    </tr>\n",
       "    <tr>\n",
       "      <th>4</th>\n",
       "      <td>[[[25, 24, 20], [22, 21, 17], [20, 19, 15], [2...</td>\n",
       "      <td>26</td>\n",
       "      <td>1</td>\n",
       "      <td>1</td>\n",
       "    </tr>\n",
       "  </tbody>\n",
       "</table>\n",
       "</div>"
      ],
      "text/plain": [
       "                                               image  age  race  gender\n",
       "0  [[[93, 107, 74], [90, 104, 71], [87, 101, 68],...    9     2       1\n",
       "1  [[[97, 63, 51], [95, 61, 49], [91, 57, 45], [8...    1     2       1\n",
       "2  [[[13, 5, 2], [16, 8, 5], [17, 9, 6], [16, 8, ...   16     0       0\n",
       "3  [[[84, 55, 37], [85, 56, 38], [89, 58, 40], [9...    1     2       1\n",
       "4  [[[25, 24, 20], [22, 21, 17], [20, 19, 15], [2...   26     1       1"
      ]
     },
     "execution_count": 111,
     "metadata": {},
     "output_type": "execute_result"
    }
   ],
   "source": [
    "df1.head()"
   ]
  },
  {
   "cell_type": "markdown",
   "metadata": {},
   "source": [
    "#### Race"
   ]
  },
  {
   "cell_type": "code",
   "execution_count": 112,
   "metadata": {},
   "outputs": [],
   "source": [
    "#Writing a function that creates dummy variable for eacg race\n",
    "def races(x):\n",
    "        if x == 0 : return \"white\"\n",
    "        if x == 1 : return \"black\"\n",
    "        if x == 2 : return \"asian\"\n",
    "        if x == 3 : return \"others\"\n",
    "\n",
    "df1['race1'] = df1['race'].apply(races)"
   ]
  },
  {
   "cell_type": "code",
   "execution_count": 113,
   "metadata": {},
   "outputs": [
    {
     "data": {
      "text/plain": [
       "white     5265\n",
       "asian     3005\n",
       "others    1103\n",
       "black      405\n",
       "Name: race1, dtype: int64"
      ]
     },
     "execution_count": 113,
     "metadata": {},
     "output_type": "execute_result"
    }
   ],
   "source": [
    "df1[\"race1\"].value_counts()"
   ]
  },
  {
   "cell_type": "markdown",
   "metadata": {},
   "source": [
    "#### Gender"
   ]
  },
  {
   "cell_type": "code",
   "execution_count": 114,
   "metadata": {},
   "outputs": [],
   "source": [
    "#Writing a function that creates dummy variable for each gender\n",
    "def genda(x):\n",
    "        if x == 0 : return \"male\"\n",
    "        if x == 1 : return \"female\"\n",
    "df1['gender1'] = df1['gender'].apply(genda)"
   ]
  },
  {
   "cell_type": "code",
   "execution_count": 115,
   "metadata": {},
   "outputs": [
    {
     "data": {
      "text/plain": [
       "female    5406\n",
       "male      4372\n",
       "Name: gender1, dtype: int64"
      ]
     },
     "execution_count": 115,
     "metadata": {},
     "output_type": "execute_result"
    }
   ],
   "source": [
    "df1[\"gender1\"].value_counts()"
   ]
  },
  {
   "cell_type": "markdown",
   "metadata": {},
   "source": [
    "#### Age"
   ]
  },
  {
   "cell_type": "code",
   "execution_count": 116,
   "metadata": {},
   "outputs": [],
   "source": [
    "#categorising age into age groups\n",
    "df1.loc[(df1.age < 13),  'AgeGroup'] = 'Kid'\n",
    "df1.loc[(df1.age >= 13) & (df1.age < 26 ),  'AgeGroup'] = 'Adolescents'\n",
    "df1.loc[(df1.age >= 26) & (df1.age < 46 ),  'AgeGroup'] = 'Adults'\n",
    "df1.loc[(df1.age >= 46),  'AgeGroup'] = 'mature'"
   ]
  },
  {
   "cell_type": "code",
   "execution_count": 117,
   "metadata": {},
   "outputs": [
    {
     "data": {
      "text/plain": [
       "Kid            3255\n",
       "mature         2682\n",
       "Adults         2115\n",
       "Adolescents    1726\n",
       "Name: AgeGroup, dtype: int64"
      ]
     },
     "execution_count": 117,
     "metadata": {},
     "output_type": "execute_result"
    }
   ],
   "source": [
    "df1[\"AgeGroup\"].value_counts()"
   ]
  },
  {
   "cell_type": "markdown",
   "metadata": {},
   "source": [
    "### Visualising the classes for the different variables above"
   ]
  },
  {
   "cell_type": "code",
   "execution_count": 118,
   "metadata": {},
   "outputs": [],
   "source": [
    "import numpy as np\n",
    "import matplotlib.pyplot as plt"
   ]
  },
  {
   "cell_type": "markdown",
   "metadata": {},
   "source": [
    "#### Racial Groupings"
   ]
  },
  {
   "cell_type": "code",
   "execution_count": 119,
   "metadata": {},
   "outputs": [
    {
     "data": {
      "text/plain": [
       "Text(0, 0.5, 'Number of images')"
      ]
     },
     "execution_count": 119,
     "metadata": {},
     "output_type": "execute_result"
    },
    {
     "data": {
      "image/png": "[encoded data removed]",
      "text/plain": [
       "<Figure size 432x288 with 1 Axes>"
      ]
     },
     "metadata": {
      "needs_background": "light"
     },
     "output_type": "display_data"
    }
   ],
   "source": [
    "# Create a sample dataframe with an text index\n",
    "race_d = pd.DataFrame(\n",
    "    {\"race1\": [5265, 3005, 405, 1103]}, \n",
    "    index=[\"white\", \"asian\", \"black\", \"others\"])\n",
    "# Plot a bar chart\n",
    "#race_d.plot(kind=\"bar\")\n",
    "from matplotlib import pyplot as plt\n",
    "race_d['race1'].plot(kind=\"bar\", title=\"Bar plot showing racial groupings\", color ='maroon')\n",
    "plt.xticks(rotation=0, horizontalalignment=\"center\")\n",
    "plt.title(\"Bar plot showing images by racial groupings\")\n",
    "plt.xlabel(\"Races\")\n",
    "plt.ylabel(\"Number of images\")"
   ]
  },
  {
   "cell_type": "markdown",
   "metadata": {},
   "source": [
    "#### Gender"
   ]
  },
  {
   "cell_type": "code",
   "execution_count": 120,
   "metadata": {},
   "outputs": [
    {
     "data": {
      "text/plain": [
       "Text(0, 0.5, 'Number of images')"
      ]
     },
     "execution_count": 120,
     "metadata": {},
     "output_type": "execute_result"
    },
    {
     "data": {
      "image/png": "[encoded data removed]",
      "text/plain": [
       "<Figure size 432x288 with 1 Axes>"
      ]
     },
     "metadata": {
      "needs_background": "light"
     },
     "output_type": "display_data"
    }
   ],
   "source": [
    "# Create a sample dataframe with an text index\n",
    "gender_d = pd.DataFrame(\n",
    "    {\"gender1\": [5406, 4372]}, \n",
    "    index=[\"female\", \"male\"])\n",
    "# Plot a bar chart\n",
    "#race_d.plot(kind=\"bar\")\n",
    "#from matplotlib import pyplot as plt\n",
    "gender_d['gender1'].plot(kind=\"bar\", title=\"Bar plot showing gender\", color ='green')\n",
    "plt.xticks(rotation=0, horizontalalignment=\"center\")\n",
    "plt.title(\"Bar plot showing images by gender\")\n",
    "plt.xlabel(\"gender\")\n",
    "plt.ylabel(\"Number of images\")"
   ]
  },
  {
   "cell_type": "markdown",
   "metadata": {},
   "source": [
    "#### Age groups"
   ]
  },
  {
   "cell_type": "code",
   "execution_count": 121,
   "metadata": {},
   "outputs": [
    {
     "data": {
      "text/plain": [
       "Text(0, 0.5, 'Number of images')"
      ]
     },
     "execution_count": 121,
     "metadata": {},
     "output_type": "execute_result"
    },
    {
     "data": {
      "image/png": "[encoded data removed]",
      "text/plain": [
       "<Figure size 432x288 with 1 Axes>"
      ]
     },
     "metadata": {
      "needs_background": "light"
     },
     "output_type": "display_data"
    }
   ],
   "source": [
    "# Create a sample dataframe with an text index\n",
    "age_d = pd.DataFrame(\n",
    "    {\"AgeGroup\": [3255, 1726, 2115, 2682]}, \n",
    "    index=[\"<13yrs\", \"13to25yrs\",\"26to45yrs\", \">46yrs\"])\n",
    "# Plot a bar chart\n",
    "#race_d.plot(kind=\"bar\")\n",
    "#from matplotlib import pyplot as plt\n",
    "age_d['AgeGroup'].plot(kind=\"bar\", title=\"Bar plot showing AgeGroups\", color ='blue')\n",
    "plt.xticks(rotation=0, horizontalalignment=\"center\")\n",
    "plt.title(\"Bar plot showing images by AgeGroups\")\n",
    "plt.xlabel(\"AgeGroups\")\n",
    "plt.ylabel(\"Number of images\")"
   ]
  }
 ],
 "metadata": {
  "interpreter": {
   "hash": "39d873a95c4f48ade181154bbc045d365f04c5919d83d7b8737095411c7ad936"
  },
  "kernelspec": {
   "display_name": "Python 3.9.10 ('base')",
   "language": "python",
   "name": "python3"
  },
  "language_info": {
   "codemirror_mode": {
    "name": "ipython",
    "version": 3
   },
   "file_extension": ".py",
   "mimetype": "text/x-python",
   "name": "python",
   "nbconvert_exporter": "python",
   "pygments_lexer": "ipython3",
   "version": "3.9.10"
  },
  "orig_nbformat": 4
 },
 "nbformat": 4,
 "nbformat_minor": 2
}
