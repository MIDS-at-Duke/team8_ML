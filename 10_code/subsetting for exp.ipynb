{
  "cells": [
    {
      "cell_type": "markdown",
      "metadata": {
        "id": "YoIijwAmGJTZ"
      },
      "source": [
        "## 0. Dependencies"
      ]
    },
    {
      "cell_type": "markdown",
      "metadata": {
        "id": "vV78w7piGJTf"
      },
      "source": [
        "If you have not installed openCV, run the following code"
      ]
    },
    {
      "cell_type": "code",
      "execution_count": null,
      "metadata": {
        "id": "dVq88Sg_GJTf"
      },
      "outputs": [],
      "source": [
        "# ! pip install opencv-python"
      ]
    },
    {
      "cell_type": "code",
      "execution_count": 2,
      "metadata": {
        "colab": {
          "base_uri": "https://localhost:8080/"
        },
        "id": "M1Yl7gfFIBq_",
        "outputId": "13474be3-ee4f-4ceb-ed95-b80f220d71fc"
      },
      "outputs": [
        {
          "name": "stdout",
          "output_type": "stream",
          "text": [
            "Mounted at /content/drive\n"
          ]
        }
      ],
      "source": [
        "from google.colab import drive\n",
        "drive.mount('/content/drive')"
      ]
    },
    {
      "cell_type": "code",
      "execution_count": null,
      "metadata": {},
      "outputs": [],
      "source": [
        "from sklearn.model_selection import train_test_split\n",
        "from sklearn.preprocessing import StandardScaler\n",
        "import copy\n",
        "import matplotlib.pyplot as plt\n",
        "import seaborn as sns\n",
        "from sklearn import metrics\n",
        "import time\n",
        "from sklearn.linear_model import LogisticRegression \n",
        "import matplotlib\n",
        "from sklearn import metrics\n",
        "from sklearn.metrics import precision_recall_curve"
      ]
    },
    {
      "cell_type": "markdown",
      "metadata": {
        "id": "AkynfccuGJTh"
      },
      "source": [
        "## 1. Subsetting and Loading"
      ]
    },
    {
      "cell_type": "code",
      "execution_count": 3,
      "metadata": {
        "id": "JyeHfCRlGJTh"
      },
      "outputs": [],
      "source": [
        "import cv2\n",
        "import os\n",
        "import random\n",
        "import numpy as np"
      ]
    },
    {
      "cell_type": "code",
      "execution_count": 115,
      "metadata": {
        "id": "PjHdGVdZGJTi"
      },
      "outputs": [],
      "source": [
        "# set a seed\n",
        "random.seed(328)\n",
        "\n",
        "# define dir\n",
        "data_dir = \"/content/drive/My Drive/crop_part1\"\n",
        "\n",
        "# random sampling from 9780 samples\n",
        "n = 9780\n",
        "fnames_subset = random.sample(os.listdir(data_dir), n)"
      ]
    },
    {
      "cell_type": "markdown",
      "metadata": {
        "id": "2bkfPRthGJTi"
      },
      "source": [
        "Construct y"
      ]
    },
    {
      "cell_type": "code",
      "execution_count": 116,
      "metadata": {
        "id": "4UkHwk3wGJTj"
      },
      "outputs": [],
      "source": [
        "y = [] # 0 (male) or 1 (female)\n",
        "y_race = []\n",
        "for fname in fnames_subset:\n",
        "    temp = fname.split(\"_\")\n",
        "    y.append(int(temp[1]))\n",
        "    if temp[2] in (\"0\", \"1\"):\n",
        "        y_race.append(int(temp[2]))\n",
        "    elif temp[2] in (\"2\", \"3\"):\n",
        "        y_race.append(2)\n",
        "    else:\n",
        "        y_race.append(3)\n",
        "    pass\n",
        "\n"
      ]
    },
    {
      "cell_type": "code",
      "execution_count": null,
      "metadata": {
        "colab": {
          "base_uri": "https://localhost:8080/"
        },
        "id": "KFT5amGmUDl6",
        "outputId": "cbd63195-8a41-4f7e-c4da-a5545d354390"
      },
      "outputs": [
        {
          "data": {
            "text/plain": [
              "array([0, 1])"
            ]
          },
          "execution_count": 51,
          "metadata": {},
          "output_type": "execute_result"
        }
      ],
      "source": [
        "import pandas as pd\n",
        "pd.Series(y).unique()"
      ]
    },
    {
      "cell_type": "markdown",
      "metadata": {
        "id": "0dw6BmhaGJTk"
      },
      "source": [
        "Construct X as np arrays"
      ]
    },
    {
      "cell_type": "code",
      "execution_count": 117,
      "metadata": {
        "id": "L2VQXi67GJTl"
      },
      "outputs": [],
      "source": [
        "# X: flattened version\n",
        "# X_origin_dict: original version; key: index, value: 3-D np array\n",
        "X_rgb = list()\n",
        "X_origin_dict = dict()\n",
        "for i, fname in enumerate(fnames_subset):\n",
        "    # construct dir\n",
        "    dir = data_dir + \"/\" + fname\n",
        "    \n",
        "    # read the data\n",
        "    dat = cv2.imread(dir)\n",
        "\n",
        "    # convert to rgb\n",
        "    dat = cv2.cvtColor(dat, cv2.COLOR_BGR2RGB)\n",
        "    \n",
        "    # store the original data\n",
        "    X_origin_dict[i] = dat\n",
        "    \n",
        "    # store the data\n",
        "    X_rgb.append(dat)\n",
        "\n",
        "\n"
      ]
    },
    {
      "cell_type": "markdown",
      "metadata": {
        "id": "5_LcnAY7VrBR"
      },
      "source": [
        "## 2. Preprocessing"
      ]
    },
    {
      "cell_type": "code",
      "execution_count": 92,
      "metadata": {
        "colab": {
          "base_uri": "https://localhost:8080/",
          "height": 244
        },
        "id": "x2Iawy5WP5vd",
        "outputId": "76feccf4-e756-4e13-ec0b-2a67ea63b85f"
      },
      "outputs": [
        {
          "ename": "NameError",
          "evalue": "ignored",
          "output_type": "error",
          "traceback": [
            "\u001b[0;31m---------------------------------------------------------------------------\u001b[0m",
            "\u001b[0;31mNameError\u001b[0m                                 Traceback (most recent call last)",
            "\u001b[0;32m<ipython-input-92-66d452c209e4>\u001b[0m in \u001b[0;36m<module>\u001b[0;34m()\u001b[0m\n\u001b[1;32m      3\u001b[0m         \u001b[0mdelete\u001b[0m \u001b[0;34m=\u001b[0m \u001b[0mi\u001b[0m\u001b[0;34m\u001b[0m\u001b[0;34m\u001b[0m\u001b[0m\n\u001b[1;32m      4\u001b[0m \u001b[0;34m\u001b[0m\u001b[0m\n\u001b[0;32m----> 5\u001b[0;31m \u001b[0my\u001b[0m\u001b[0;34m.\u001b[0m\u001b[0mpop\u001b[0m\u001b[0;34m(\u001b[0m\u001b[0mdelete\u001b[0m\u001b[0;34m)\u001b[0m\u001b[0;34m\u001b[0m\u001b[0;34m\u001b[0m\u001b[0m\n\u001b[0m\u001b[1;32m      6\u001b[0m \u001b[0my_race\u001b[0m\u001b[0;34m.\u001b[0m\u001b[0mpop\u001b[0m\u001b[0;34m(\u001b[0m\u001b[0mdelete\u001b[0m\u001b[0;34m)\u001b[0m\u001b[0;34m\u001b[0m\u001b[0;34m\u001b[0m\u001b[0m\n\u001b[1;32m      7\u001b[0m \u001b[0mX_rgb\u001b[0m\u001b[0;34m.\u001b[0m\u001b[0mpop\u001b[0m\u001b[0;34m(\u001b[0m\u001b[0mdelete\u001b[0m\u001b[0;34m)\u001b[0m\u001b[0;34m\u001b[0m\u001b[0;34m\u001b[0m\u001b[0m\n",
            "\u001b[0;31mNameError\u001b[0m: name 'delete' is not defined"
          ]
        }
      ],
      "source": [
        "for i, lab in enumerate(y):\n",
        "    if lab == 3:\n",
        "        delete = i\n",
        "\n",
        "y.pop(delete)\n",
        "y_race.pop(delete)\n",
        "X_rgb.pop(delete)"
      ]
    },
    {
      "cell_type": "code",
      "execution_count": 118,
      "metadata": {
        "colab": {
          "base_uri": "https://localhost:8080/"
        },
        "id": "M5Ik5YeAWBIs",
        "outputId": "452109f4-7ddc-4152-cf04-1607fa5deb9c"
      },
      "outputs": [
        {
          "name": "stdout",
          "output_type": "stream",
          "text": [
            "The shape of the X_rgb is: (3000, 200, 200, 3)\n"
          ]
        }
      ],
      "source": [
        "# convert to np array\n",
        "y = np.array(y)\n",
        "y_race = np.array(y_race)\n",
        "X_rgb = np.array(X_rgb)\n",
        "print(\"The shape of the X_rgb is:\", X_rgb.shape)"
      ]
    },
    {
      "cell_type": "markdown",
      "metadata": {
        "id": "ioOuE4QVQ2y9"
      },
      "source": [
        "Subsetting for the expriments"
      ]
    },
    {
      "cell_type": "code",
      "execution_count": 93,
      "metadata": {
        "id": "MhEYjUzbTFdL"
      },
      "outputs": [],
      "source": [
        "import pandas as pd"
      ]
    },
    {
      "cell_type": "code",
      "execution_count": 119,
      "metadata": {
        "id": "JwZyNkhfQ52Q"
      },
      "outputs": [],
      "source": [
        "df = pd.DataFrame({'y': y, 'y_race': y_race, 'img': list(X_rgb)}, columns=['y', 'y_race', 'img'])"
      ]
    },
    {
      "cell_type": "code",
      "execution_count": 51,
      "metadata": {
        "colab": {
          "base_uri": "https://localhost:8080/",
          "height": 206
        },
        "id": "-oX0iWpwTQLx",
        "outputId": "ed95d8e1-47b0-4d0b-df2e-3049a48762a1"
      },
      "outputs": [
        {
          "data": {
            "text/html": [
              "\n",
              "  <div id=\"df-03ce22a3-0f8e-475f-a3bb-3070454342f2\">\n",
              "    <div class=\"colab-df-container\">\n",
              "      <div>\n",
              "<style scoped>\n",
              "    .dataframe tbody tr th:only-of-type {\n",
              "        vertical-align: middle;\n",
              "    }\n",
              "\n",
              "    .dataframe tbody tr th {\n",
              "        vertical-align: top;\n",
              "    }\n",
              "\n",
              "    .dataframe thead th {\n",
              "        text-align: right;\n",
              "    }\n",
              "</style>\n",
              "<table border=\"1\" class=\"dataframe\">\n",
              "  <thead>\n",
              "    <tr style=\"text-align: right;\">\n",
              "      <th></th>\n",
              "      <th>y</th>\n",
              "      <th>y_race</th>\n",
              "      <th>img</th>\n",
              "    </tr>\n",
              "  </thead>\n",
              "  <tbody>\n",
              "    <tr>\n",
              "      <th>0</th>\n",
              "      <td>0</td>\n",
              "      <td>3</td>\n",
              "      <td>[[[150, 121, 107], [150, 121, 107], [149, 120,...</td>\n",
              "    </tr>\n",
              "    <tr>\n",
              "      <th>1</th>\n",
              "      <td>0</td>\n",
              "      <td>3</td>\n",
              "      <td>[[[210, 203, 197], [228, 221, 215], [245, 238,...</td>\n",
              "    </tr>\n",
              "    <tr>\n",
              "      <th>2</th>\n",
              "      <td>0</td>\n",
              "      <td>3</td>\n",
              "      <td>[[[31, 27, 16], [30, 26, 15], [29, 25, 14], [2...</td>\n",
              "    </tr>\n",
              "    <tr>\n",
              "      <th>3</th>\n",
              "      <td>1</td>\n",
              "      <td>3</td>\n",
              "      <td>[[[27, 17, 7], [24, 14, 4], [21, 12, 3], [19, ...</td>\n",
              "    </tr>\n",
              "    <tr>\n",
              "      <th>4</th>\n",
              "      <td>0</td>\n",
              "      <td>3</td>\n",
              "      <td>[[[16, 16, 16], [17, 17, 17], [18, 18, 18], [1...</td>\n",
              "    </tr>\n",
              "  </tbody>\n",
              "</table>\n",
              "</div>\n",
              "      <button class=\"colab-df-convert\" onclick=\"convertToInteractive('df-03ce22a3-0f8e-475f-a3bb-3070454342f2')\"\n",
              "              title=\"Convert this dataframe to an interactive table.\"\n",
              "              style=\"display:none;\">\n",
              "        \n",
              "  <svg xmlns=\"http://www.w3.org/2000/svg\" height=\"24px\"viewBox=\"0 0 24 24\"\n",
              "       width=\"24px\">\n",
              "    <path d=\"M0 0h24v24H0V0z\" fill=\"none\"/>\n",
              "    <path d=\"M18.56 5.44l.94 2.06.94-2.06 2.06-.94-2.06-.94-.94-2.06-.94 2.06-2.06.94zm-11 1L8.5 8.5l.94-2.06 2.06-.94-2.06-.94L8.5 2.5l-.94 2.06-2.06.94zm10 10l.94 2.06.94-2.06 2.06-.94-2.06-.94-.94-2.06-.94 2.06-2.06.94z\"/><path d=\"M17.41 7.96l-1.37-1.37c-.4-.4-.92-.59-1.43-.59-.52 0-1.04.2-1.43.59L10.3 9.45l-7.72 7.72c-.78.78-.78 2.05 0 2.83L4 21.41c.39.39.9.59 1.41.59.51 0 1.02-.2 1.41-.59l7.78-7.78 2.81-2.81c.8-.78.8-2.07 0-2.86zM5.41 20L4 18.59l7.72-7.72 1.47 1.35L5.41 20z\"/>\n",
              "  </svg>\n",
              "      </button>\n",
              "      \n",
              "  <style>\n",
              "    .colab-df-container {\n",
              "      display:flex;\n",
              "      flex-wrap:wrap;\n",
              "      gap: 12px;\n",
              "    }\n",
              "\n",
              "    .colab-df-convert {\n",
              "      background-color: #E8F0FE;\n",
              "      border: none;\n",
              "      border-radius: 50%;\n",
              "      cursor: pointer;\n",
              "      display: none;\n",
              "      fill: #1967D2;\n",
              "      height: 32px;\n",
              "      padding: 0 0 0 0;\n",
              "      width: 32px;\n",
              "    }\n",
              "\n",
              "    .colab-df-convert:hover {\n",
              "      background-color: #E2EBFA;\n",
              "      box-shadow: 0px 1px 2px rgba(60, 64, 67, 0.3), 0px 1px 3px 1px rgba(60, 64, 67, 0.15);\n",
              "      fill: #174EA6;\n",
              "    }\n",
              "\n",
              "    [theme=dark] .colab-df-convert {\n",
              "      background-color: #3B4455;\n",
              "      fill: #D2E3FC;\n",
              "    }\n",
              "\n",
              "    [theme=dark] .colab-df-convert:hover {\n",
              "      background-color: #434B5C;\n",
              "      box-shadow: 0px 1px 3px 1px rgba(0, 0, 0, 0.15);\n",
              "      filter: drop-shadow(0px 1px 2px rgba(0, 0, 0, 0.3));\n",
              "      fill: #FFFFFF;\n",
              "    }\n",
              "  </style>\n",
              "\n",
              "      <script>\n",
              "        const buttonEl =\n",
              "          document.querySelector('#df-03ce22a3-0f8e-475f-a3bb-3070454342f2 button.colab-df-convert');\n",
              "        buttonEl.style.display =\n",
              "          google.colab.kernel.accessAllowed ? 'block' : 'none';\n",
              "\n",
              "        async function convertToInteractive(key) {\n",
              "          const element = document.querySelector('#df-03ce22a3-0f8e-475f-a3bb-3070454342f2');\n",
              "          const dataTable =\n",
              "            await google.colab.kernel.invokeFunction('convertToInteractive',\n",
              "                                                     [key], {});\n",
              "          if (!dataTable) return;\n",
              "\n",
              "          const docLinkHtml = 'Like what you see? Visit the ' +\n",
              "            '<a target=\"_blank\" href=https://colab.research.google.com/notebooks/data_table.ipynb>data table notebook</a>'\n",
              "            + ' to learn more about interactive tables.';\n",
              "          element.innerHTML = '';\n",
              "          dataTable['output_type'] = 'display_data';\n",
              "          await google.colab.output.renderOutput(dataTable, element);\n",
              "          const docLink = document.createElement('div');\n",
              "          docLink.innerHTML = docLinkHtml;\n",
              "          element.appendChild(docLink);\n",
              "        }\n",
              "      </script>\n",
              "    </div>\n",
              "  </div>\n",
              "  "
            ],
            "text/plain": [
              "   y  y_race                                                img\n",
              "0  0       3  [[[150, 121, 107], [150, 121, 107], [149, 120,...\n",
              "1  0       3  [[[210, 203, 197], [228, 221, 215], [245, 238,...\n",
              "2  0       3  [[[31, 27, 16], [30, 26, 15], [29, 25, 14], [2...\n",
              "3  1       3  [[[27, 17, 7], [24, 14, 4], [21, 12, 3], [19, ...\n",
              "4  0       3  [[[16, 16, 16], [17, 17, 17], [18, 18, 18], [1..."
            ]
          },
          "execution_count": 51,
          "metadata": {},
          "output_type": "execute_result"
        }
      ],
      "source": [
        "df.head()"
      ]
    },
    {
      "cell_type": "code",
      "execution_count": 120,
      "metadata": {
        "id": "cC2GqoToUTJL"
      },
      "outputs": [],
      "source": [
        "X_train_exp, X_test_exp, y_train_exp, y_test_exp = train_test_split(\n",
        "    df, y, test_size=0.1, random_state=329\n",
        ")\n",
        "\n",
        "X_train_exp, X_val_exp, y_train_exp, y_val_exp = train_test_split(\n",
        "    X_train_exp, y_train_exp, test_size=(0.1/0.9), random_state=525\n",
        ")"
      ]
    },
    {
      "cell_type": "code",
      "execution_count": 54,
      "metadata": {
        "colab": {
          "base_uri": "https://localhost:8080/",
          "height": 80
        },
        "id": "SlZFlklEVrJd",
        "outputId": "e3afc9f1-2c1f-4436-876c-31048f09a961"
      },
      "outputs": [
        {
          "data": {
            "text/html": [
              "\n",
              "  <div id=\"df-9234b9c1-bfd7-40c4-9bbb-99ce6a5e1115\">\n",
              "    <div class=\"colab-df-container\">\n",
              "      <div>\n",
              "<style scoped>\n",
              "    .dataframe tbody tr th:only-of-type {\n",
              "        vertical-align: middle;\n",
              "    }\n",
              "\n",
              "    .dataframe tbody tr th {\n",
              "        vertical-align: top;\n",
              "    }\n",
              "\n",
              "    .dataframe thead th {\n",
              "        text-align: right;\n",
              "    }\n",
              "</style>\n",
              "<table border=\"1\" class=\"dataframe\">\n",
              "  <thead>\n",
              "    <tr style=\"text-align: right;\">\n",
              "      <th></th>\n",
              "      <th>y</th>\n",
              "      <th>y_race</th>\n",
              "      <th>img</th>\n",
              "    </tr>\n",
              "  </thead>\n",
              "  <tbody>\n",
              "    <tr>\n",
              "      <th>140</th>\n",
              "      <td>0</td>\n",
              "      <td>3</td>\n",
              "      <td>[[[42, 42, 42], [34, 34, 34], [29, 29, 29], [3...</td>\n",
              "    </tr>\n",
              "  </tbody>\n",
              "</table>\n",
              "</div>\n",
              "      <button class=\"colab-df-convert\" onclick=\"convertToInteractive('df-9234b9c1-bfd7-40c4-9bbb-99ce6a5e1115')\"\n",
              "              title=\"Convert this dataframe to an interactive table.\"\n",
              "              style=\"display:none;\">\n",
              "        \n",
              "  <svg xmlns=\"http://www.w3.org/2000/svg\" height=\"24px\"viewBox=\"0 0 24 24\"\n",
              "       width=\"24px\">\n",
              "    <path d=\"M0 0h24v24H0V0z\" fill=\"none\"/>\n",
              "    <path d=\"M18.56 5.44l.94 2.06.94-2.06 2.06-.94-2.06-.94-.94-2.06-.94 2.06-2.06.94zm-11 1L8.5 8.5l.94-2.06 2.06-.94-2.06-.94L8.5 2.5l-.94 2.06-2.06.94zm10 10l.94 2.06.94-2.06 2.06-.94-2.06-.94-.94-2.06-.94 2.06-2.06.94z\"/><path d=\"M17.41 7.96l-1.37-1.37c-.4-.4-.92-.59-1.43-.59-.52 0-1.04.2-1.43.59L10.3 9.45l-7.72 7.72c-.78.78-.78 2.05 0 2.83L4 21.41c.39.39.9.59 1.41.59.51 0 1.02-.2 1.41-.59l7.78-7.78 2.81-2.81c.8-.78.8-2.07 0-2.86zM5.41 20L4 18.59l7.72-7.72 1.47 1.35L5.41 20z\"/>\n",
              "  </svg>\n",
              "      </button>\n",
              "      \n",
              "  <style>\n",
              "    .colab-df-container {\n",
              "      display:flex;\n",
              "      flex-wrap:wrap;\n",
              "      gap: 12px;\n",
              "    }\n",
              "\n",
              "    .colab-df-convert {\n",
              "      background-color: #E8F0FE;\n",
              "      border: none;\n",
              "      border-radius: 50%;\n",
              "      cursor: pointer;\n",
              "      display: none;\n",
              "      fill: #1967D2;\n",
              "      height: 32px;\n",
              "      padding: 0 0 0 0;\n",
              "      width: 32px;\n",
              "    }\n",
              "\n",
              "    .colab-df-convert:hover {\n",
              "      background-color: #E2EBFA;\n",
              "      box-shadow: 0px 1px 2px rgba(60, 64, 67, 0.3), 0px 1px 3px 1px rgba(60, 64, 67, 0.15);\n",
              "      fill: #174EA6;\n",
              "    }\n",
              "\n",
              "    [theme=dark] .colab-df-convert {\n",
              "      background-color: #3B4455;\n",
              "      fill: #D2E3FC;\n",
              "    }\n",
              "\n",
              "    [theme=dark] .colab-df-convert:hover {\n",
              "      background-color: #434B5C;\n",
              "      box-shadow: 0px 1px 3px 1px rgba(0, 0, 0, 0.15);\n",
              "      filter: drop-shadow(0px 1px 2px rgba(0, 0, 0, 0.3));\n",
              "      fill: #FFFFFF;\n",
              "    }\n",
              "  </style>\n",
              "\n",
              "      <script>\n",
              "        const buttonEl =\n",
              "          document.querySelector('#df-9234b9c1-bfd7-40c4-9bbb-99ce6a5e1115 button.colab-df-convert');\n",
              "        buttonEl.style.display =\n",
              "          google.colab.kernel.accessAllowed ? 'block' : 'none';\n",
              "\n",
              "        async function convertToInteractive(key) {\n",
              "          const element = document.querySelector('#df-9234b9c1-bfd7-40c4-9bbb-99ce6a5e1115');\n",
              "          const dataTable =\n",
              "            await google.colab.kernel.invokeFunction('convertToInteractive',\n",
              "                                                     [key], {});\n",
              "          if (!dataTable) return;\n",
              "\n",
              "          const docLinkHtml = 'Like what you see? Visit the ' +\n",
              "            '<a target=\"_blank\" href=https://colab.research.google.com/notebooks/data_table.ipynb>data table notebook</a>'\n",
              "            + ' to learn more about interactive tables.';\n",
              "          element.innerHTML = '';\n",
              "          dataTable['output_type'] = 'display_data';\n",
              "          await google.colab.output.renderOutput(dataTable, element);\n",
              "          const docLink = document.createElement('div');\n",
              "          docLink.innerHTML = docLinkHtml;\n",
              "          element.appendChild(docLink);\n",
              "        }\n",
              "      </script>\n",
              "    </div>\n",
              "  </div>\n",
              "  "
            ],
            "text/plain": [
              "     y  y_race                                                img\n",
              "140  0       3  [[[42, 42, 42], [34, 34, 34], [29, 29, 29], [3..."
            ]
          },
          "execution_count": 54,
          "metadata": {},
          "output_type": "execute_result"
        }
      ],
      "source": [
        "X_train_exp.head(1)"
      ]
    },
    {
      "cell_type": "code",
      "execution_count": 68,
      "metadata": {
        "colab": {
          "base_uri": "https://localhost:8080/"
        },
        "id": "qD5tGUtJXr8W",
        "outputId": "31508e92-4159-4454-c1d2-043b3af2a132"
      },
      "outputs": [
        {
          "data": {
            "text/plain": [
              "array([0, 1, 3, 2])"
            ]
          },
          "execution_count": 68,
          "metadata": {},
          "output_type": "execute_result"
        }
      ],
      "source": [
        "X_train_exp[\"y_race\"].unique()"
      ]
    },
    {
      "cell_type": "markdown",
      "metadata": {
        "id": "7yPfO7TKeWoE"
      },
      "source": [
        "Leave One Out"
      ]
    },
    {
      "cell_type": "code",
      "execution_count": 121,
      "metadata": {
        "id": "ixaywu2jeUp5"
      },
      "outputs": [],
      "source": [
        "data_exp_r = {}\n",
        "for _ in range(4):\n",
        "    data_exp_r[_] = {}\n",
        "    data_exp_r[_][\"train\"] = {}\n",
        "    data_exp_r[_][\"val\"] = {}\n",
        "    data_exp_r[_][\"test\"] = {}\n",
        "\n",
        "\n",
        "for r in range(4):\n",
        "    X_train0 = X_train_exp.loc[(X_train_exp[\"y_race\"] != r)].copy()\n",
        "    X_train_ex0 = X_train0[\"img\"]\n",
        "    y_train_ex0 = X_train0[\"y\"]\n",
        "    X_val0 = X_val_exp.loc[(X_val_exp[\"y_race\"] != r)].copy()\n",
        "    X_val_ex0 = X_val0[\"img\"]\n",
        "    y_val_ex0 = X_val0[\"y\"]\n",
        "    temp = []\n",
        "    for _ in X_train_ex0:\n",
        "        temp.append(np.array(_))\n",
        "    data_exp_r[r][\"train\"][\"X\"] = np.array(temp)\n",
        "    data_exp_r[r][\"train\"][\"y\"] = np.array(y_train_ex0)\n",
        "    temp = []\n",
        "    for _ in X_val_ex0:\n",
        "        temp.append(np.array(_))    \n",
        "    data_exp_r[r][\"val\"][\"X\"] = np.array(temp)\n",
        "    data_exp_r[r][\"val\"][\"y\"] = np.array(y_val_ex0)\n",
        "\n",
        "X_temp, y_temp = [], []\n",
        "for i in range(4):\n",
        "    X_test0 = X_test_exp.loc[(X_test_exp[\"y_race\"] == i)].copy()\n",
        "    X_test_r0 = X_test0[\"img\"]\n",
        "    y_test_r0 = X_test0[\"y\"]\n",
        "    temp = []\n",
        "    for _ in X_test_r0:\n",
        "        temp.append(np.array(_))  \n",
        "    X_temp.append(np.array(temp))\n",
        "    y_temp.append(np.array(y_test_r0))\n",
        "\n",
        "for r in range(4):\n",
        "    data_exp_r[r][\"test\"][\"X\"] = X_temp\n",
        "    data_exp_r[r][\"test\"][\"y\"] = y_temp\n"
      ]
    },
    {
      "cell_type": "code",
      "execution_count": 109,
      "metadata": {
        "colab": {
          "base_uri": "https://localhost:8080/"
        },
        "id": "8ZXH5no-eIME",
        "outputId": "878c4066-46f9-42fc-c480-fb653780e34e"
      },
      "outputs": [
        {
          "data": {
            "text/plain": [
              "numpy.ndarray"
            ]
          },
          "execution_count": 109,
          "metadata": {},
          "output_type": "execute_result"
        }
      ],
      "source": [
        "type(data_exp_r[r][\"train\"][\"X\"])"
      ]
    },
    {
      "cell_type": "markdown",
      "metadata": {
        "id": "ZZcy7O4xP-Xz"
      },
      "source": [
        "80% 20%"
      ]
    },
    {
      "cell_type": "code",
      "execution_count": 125,
      "metadata": {
        "id": "Wla150uce9bd"
      },
      "outputs": [],
      "source": [
        "data_exp_g = {}\n",
        "\n",
        "for _ in range(2):\n",
        "    data_exp_g[_] = {}\n",
        "    data_exp_g[_][\"train\"] = {}\n",
        "    data_exp_g[_][\"val\"] = {}\n",
        "    data_exp_g[_][\"test\"] = {}\n",
        "  \n",
        "for g in range(2):\n",
        "    X_train0 = X_train_exp.loc[(X_train_exp[\"y\"] == g)].copy()\n",
        "\n",
        "    X_train_ex0 = X_train0[\"img\"]\n",
        "    y_train_ex0 = X_train0[\"y\"]\n",
        "\n",
        "    X_train1 = X_train_exp.loc[(X_train_exp[\"y\"] != g)].copy()\n",
        "    X_train_ex1 = X_train1[\"img\"]\n",
        "    y_train_ex1 = X_train1[\"y\"]\n",
        "\n",
        "    target = int(X_train_ex0.shape[0] * 0.25)\n",
        "\n",
        "    X_slice = X_train_ex1[: target]\n",
        "    y_slice = y_train_ex1[: target]\n",
        "    \n",
        "    X_exp_g = pd.concat([X_train_ex0, X_slice])\n",
        "    y_exp_g = pd.concat([y_train_ex0, y_slice])\n",
        "    temp = []\n",
        "    for _ in X_exp_g:\n",
        "        temp.append(np.array(_))\n",
        "    temp = np.array(temp)\n",
        "    data_exp_g[g][\"train\"][\"X\"] = temp\n",
        "    data_exp_g[g][\"train\"][\"y\"] = y_exp_g\n",
        "\n",
        "    # val\n",
        "    X_val0 = X_val_exp.loc[(X_val_exp[\"y\"] == g)].copy()\n",
        "    X_val_ex0 = X_val0[\"img\"]\n",
        "    y_val_ex0 = X_val0[\"y\"]\n",
        "\n",
        "    X_val1 = X_val_exp.loc[(X_val_exp[\"y\"] != g)].copy()\n",
        "    X_val_ex1 = X_val1[\"img\"]\n",
        "    y_val_ex1 = X_val1[\"y\"]\n",
        "\n",
        "    target = int(X_val_ex0.shape[0] * 0.25)\n",
        "\n",
        "    X_slice = X_val_ex1[: target]\n",
        "    y_slice = y_val_ex1[: target]\n",
        "    \n",
        "    X_exp_g = pd.concat([X_val_ex0, X_slice])\n",
        "    y_exp_g = pd.concat([y_val_ex0, y_slice])\n",
        "\n",
        "    temp = []\n",
        "    for _ in X_exp_g:\n",
        "        temp.append(np.array(_))\n",
        "    temp = np.array(temp)\n",
        "    data_exp_g[g][\"val\"][\"X\"] = temp\n",
        "    data_exp_g[g][\"val\"][\"y\"] = y_exp_g  \n",
        "\n",
        "for g in range(2):\n",
        "    X_temp = X_test_exp[\"img\"]\n",
        "    y_temp = X_test_exp[\"y\"]\n",
        "    temp = []\n",
        "    for _ in X_temp:\n",
        "        temp.append(np.array(_))\n",
        "    temp = np.array(temp)\n",
        "    data_exp_g[g][\"test\"][\"X\"] = temp\n",
        "    data_exp_g[g][\"test\"][\"y\"] = np.array(y_temp)\n"
      ]
    },
    {
      "cell_type": "code",
      "execution_count": 126,
      "metadata": {
        "colab": {
          "base_uri": "https://localhost:8080/"
        },
        "id": "UhxmNepngoI4",
        "outputId": "76fb0814-c557-4118-881d-5909a77791d8"
      },
      "outputs": [
        {
          "data": {
            "text/plain": [
              "(300, 200, 200, 3)"
            ]
          },
          "execution_count": 126,
          "metadata": {},
          "output_type": "execute_result"
        }
      ],
      "source": [
        "data_exp_g[0][\"test\"][\"X\"].shape"
      ]
    }
  ],
  "metadata": {
    "accelerator": "GPU",
    "colab": {
      "collapsed_sections": [],
      "machine_shape": "hm",
      "name": "transfer_learning.ipynb",
      "provenance": []
    },
    "interpreter": {
      "hash": "f38515062e2865a726c0b6997065476dfc4e8a8459005a9797c2f60ed67f0f78"
    },
    "kernelspec": {
      "display_name": "Python 3.9.7 ('base')",
      "language": "python",
      "name": "python3"
    },
    "language_info": {
      "codemirror_mode": {
        "name": "ipython",
        "version": 3
      },
      "file_extension": ".py",
      "mimetype": "text/x-python",
      "name": "python",
      "nbconvert_exporter": "python",
      "pygments_lexer": "ipython3",
      "version": "3.9.7"
    },
    "orig_nbformat": 4
  },
  "nbformat": 4,
  "nbformat_minor": 0
}
