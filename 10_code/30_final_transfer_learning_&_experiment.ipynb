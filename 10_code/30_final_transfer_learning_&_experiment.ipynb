{
  "cells": [
    {
      "cell_type": "markdown",
      "metadata": {
        "id": "YoIijwAmGJTZ"
      },
      "source": [
        "## 0. Dependencies"
      ]
    },
    {
      "cell_type": "markdown",
      "metadata": {
        "id": "vV78w7piGJTf"
      },
      "source": [
        "If you have not installed openCV, run the following code"
      ]
    },
    {
      "cell_type": "code",
      "execution_count": null,
      "metadata": {
        "id": "dVq88Sg_GJTf"
      },
      "outputs": [],
      "source": [
        "# ! pip install opencv-python\n"
      ]
    },
    {
      "cell_type": "markdown",
      "metadata": {
        "id": "vrHUchQ_DOuq"
      },
      "source": [
        "Data is from UTKFace\n",
        "https://susanqq.github.io/UTKFace/\n",
        "\n",
        "\"crop_part_1.tar.gz\" in \"Aligned&Cropped Faces\" was used"
      ]
    },
    {
      "cell_type": "markdown",
      "metadata": {
        "id": "_32kQEuuDOur"
      },
      "source": [
        "If you use Google Colab, run the code to monte at the drive."
      ]
    },
    {
      "cell_type": "code",
      "execution_count": null,
      "metadata": {
        "colab": {
          "base_uri": "https://localhost:8080/"
        },
        "id": "M1Yl7gfFIBq_",
        "outputId": "af1d0848-64e8-4a90-8cd6-18574eb8aa7c"
      },
      "outputs": [
        {
          "name": "stdout",
          "output_type": "stream",
          "text": [
            "Mounted at /content/drive\n"
          ]
        }
      ],
      "source": [
        "from google.colab import drive\n",
        "\n",
        "drive.mount(\"/content/drive\")\n"
      ]
    },
    {
      "cell_type": "markdown",
      "metadata": {
        "id": "o6hZTkGWDOus"
      },
      "source": [
        "Load the packages"
      ]
    },
    {
      "cell_type": "code",
      "execution_count": null,
      "metadata": {
        "id": "z9BICZ-NDOus"
      },
      "outputs": [],
      "source": [
        "import cv2\n",
        "import os\n",
        "import time\n",
        "import random\n",
        "import numpy as np\n",
        "import pandas as pd\n"
      ]
    },
    {
      "cell_type": "code",
      "execution_count": null,
      "metadata": {
        "id": "Cqu8MGayDOus"
      },
      "outputs": [],
      "source": [
        "from sklearn.model_selection import train_test_split\n",
        "import copy\n",
        "import matplotlib.pyplot as plt\n",
        "import seaborn as sns\n",
        "from sklearn import metrics\n",
        "import time\n",
        "import matplotlib\n",
        "from sklearn import metrics\n",
        "from sklearn.metrics import precision_recall_curve\n"
      ]
    },
    {
      "cell_type": "code",
      "execution_count": null,
      "metadata": {
        "id": "GB9JyTICDOut"
      },
      "outputs": [],
      "source": [
        "import tensorflow as tf\n",
        "from tensorflow import keras\n",
        "from tensorflow.keras import layers\n"
      ]
    },
    {
      "cell_type": "markdown",
      "metadata": {
        "id": "AkynfccuGJTh"
      },
      "source": [
        "## 1. Subsetting and Loading"
      ]
    },
    {
      "cell_type": "markdown",
      "metadata": {
        "id": "eG4jgnEEDOut"
      },
      "source": [
        "Due to the limitation of time and RAM, subset could be used. Specify $n$ to get n random samples from the whole dataset."
      ]
    },
    {
      "cell_type": "code",
      "execution_count": null,
      "metadata": {
        "id": "PjHdGVdZGJTi"
      },
      "outputs": [],
      "source": [
        "# set a seed\n",
        "random.seed(328)\n",
        "\n",
        "# define dir\n",
        "data_dir = \"/content/drive/My Drive/crop_part1\"\n",
        "\n",
        "# random sampling from 9780 samples\n",
        "n = 9780\n",
        "fnames_subset = random.sample(os.listdir(data_dir), n)\n"
      ]
    },
    {
      "cell_type": "markdown",
      "metadata": {
        "id": "2bkfPRthGJTi"
      },
      "source": [
        "Constructing our response variable(gender) and variable(race). "
      ]
    },
    {
      "cell_type": "code",
      "execution_count": null,
      "metadata": {
        "id": "4UkHwk3wGJTj"
      },
      "outputs": [],
      "source": [
        "y = []  # 0 (male) or 1 (female)\n",
        "y_race = []\n",
        "for fname in fnames_subset:\n",
        "    temp = fname.split(\"_\")\n",
        "    y.append(int(temp[1]))\n",
        "    if temp[2] in (\"0\", \"1\"):\n",
        "        y_race.append(int(temp[2]))\n",
        "    elif temp[2] in (\"2\", \"3\"):\n",
        "        y_race.append(2)\n",
        "    else:\n",
        "        y_race.append(3)\n",
        "    pass\n"
      ]
    },
    {
      "cell_type": "markdown",
      "metadata": {
        "id": "0dw6BmhaGJTk"
      },
      "source": [
        "Storing the values of the pixels into a 4D array. (Number of samples, Red Channel, Green Channel, Blue Channel)"
      ]
    },
    {
      "cell_type": "code",
      "execution_count": null,
      "metadata": {
        "id": "L2VQXi67GJTl"
      },
      "outputs": [],
      "source": [
        "# X: flattened version\n",
        "# X_origin_dict: original version; key: index, value: 3-D np array\n",
        "X_rgb = list()\n",
        "X_origin_dict = dict()\n",
        "for i, fname in enumerate(fnames_subset):\n",
        "    # construct dir\n",
        "    dir = data_dir + \"/\" + fname\n",
        "\n",
        "    # read the data\n",
        "    dat = cv2.imread(dir)\n",
        "\n",
        "    # convert to rgb\n",
        "    dat = cv2.cvtColor(dat, cv2.COLOR_BGR2RGB)\n",
        "\n",
        "    # store the original data\n",
        "    X_origin_dict[i] = dat\n",
        "\n",
        "    # store the data\n",
        "    X_rgb.append(dat)\n"
      ]
    },
    {
      "cell_type": "markdown",
      "metadata": {
        "id": "5_LcnAY7VrBR"
      },
      "source": [
        "## 2. Preprocessing"
      ]
    },
    {
      "cell_type": "markdown",
      "metadata": {
        "id": "qitegYsEDOuw"
      },
      "source": [
        "### Data Cleaning"
      ]
    },
    {
      "cell_type": "markdown",
      "metadata": {
        "id": "TOjiiiXEDOuw"
      },
      "source": [
        "In EDA, we know there is one sample of an unknown label, delete that sample."
      ]
    },
    {
      "cell_type": "code",
      "execution_count": null,
      "metadata": {
        "id": "h6DWFrY2DOuw"
      },
      "outputs": [],
      "source": [
        "find = False\n",
        "for i, lab in enumerate(y):\n",
        "    if lab == 3:\n",
        "        find = True\n",
        "        delete = i\n",
        "\n",
        "if find:\n",
        "    y.pop(delete)\n",
        "    y_race.pop(delete)\n",
        "    X_rgb.pop(delete)\n"
      ]
    },
    {
      "cell_type": "code",
      "execution_count": null,
      "metadata": {
        "colab": {
          "base_uri": "https://localhost:8080/"
        },
        "id": "M5Ik5YeAWBIs",
        "outputId": "c1544825-04e0-4f16-84e0-f21fdec20b48"
      },
      "outputs": [
        {
          "name": "stdout",
          "output_type": "stream",
          "text": [
            "The shape of the X_rgb is: (9779, 200, 200, 3)\n"
          ]
        }
      ],
      "source": [
        "# convert to np array\n",
        "y = np.array(y)\n",
        "y_race = np.array(y_race)\n",
        "X_rgb = np.array(X_rgb)\n",
        "print(\"The shape of the X_rgb is:\", X_rgb.shape)\n"
      ]
    },
    {
      "cell_type": "markdown",
      "metadata": {
        "id": "ioOuE4QVQ2y9"
      },
      "source": [
        "### Subsetting for the expriments"
      ]
    },
    {
      "cell_type": "code",
      "execution_count": null,
      "metadata": {
        "id": "JwZyNkhfQ52Q"
      },
      "outputs": [],
      "source": [
        "df = pd.DataFrame(\n",
        "    {\"y\": y, \"y_race\": y_race, \"img\": list(X_rgb)}, columns=[\"y\", \"y_race\", \"img\"]\n",
        ")\n"
      ]
    },
    {
      "cell_type": "code",
      "execution_count": null,
      "metadata": {
        "colab": {
          "base_uri": "https://localhost:8080/",
          "height": 206
        },
        "id": "-oX0iWpwTQLx",
        "outputId": "ed95d8e1-47b0-4d0b-df2e-3049a48762a1"
      },
      "outputs": [
        {
          "data": {
            "text/html": [
              "\n",
              "  <div id=\"df-03ce22a3-0f8e-475f-a3bb-3070454342f2\">\n",
              "    <div class=\"colab-df-container\">\n",
              "      <div>\n",
              "<style scoped>\n",
              "    .dataframe tbody tr th:only-of-type {\n",
              "        vertical-align: middle;\n",
              "    }\n",
              "\n",
              "    .dataframe tbody tr th {\n",
              "        vertical-align: top;\n",
              "    }\n",
              "\n",
              "    .dataframe thead th {\n",
              "        text-align: right;\n",
              "    }\n",
              "</style>\n",
              "<table border=\"1\" class=\"dataframe\">\n",
              "  <thead>\n",
              "    <tr style=\"text-align: right;\">\n",
              "      <th></th>\n",
              "      <th>y</th>\n",
              "      <th>y_race</th>\n",
              "      <th>img</th>\n",
              "    </tr>\n",
              "  </thead>\n",
              "  <tbody>\n",
              "    <tr>\n",
              "      <th>0</th>\n",
              "      <td>0</td>\n",
              "      <td>3</td>\n",
              "      <td>[[[150, 121, 107], [150, 121, 107], [149, 120,...</td>\n",
              "    </tr>\n",
              "    <tr>\n",
              "      <th>1</th>\n",
              "      <td>0</td>\n",
              "      <td>3</td>\n",
              "      <td>[[[210, 203, 197], [228, 221, 215], [245, 238,...</td>\n",
              "    </tr>\n",
              "    <tr>\n",
              "      <th>2</th>\n",
              "      <td>0</td>\n",
              "      <td>3</td>\n",
              "      <td>[[[31, 27, 16], [30, 26, 15], [29, 25, 14], [2...</td>\n",
              "    </tr>\n",
              "    <tr>\n",
              "      <th>3</th>\n",
              "      <td>1</td>\n",
              "      <td>3</td>\n",
              "      <td>[[[27, 17, 7], [24, 14, 4], [21, 12, 3], [19, ...</td>\n",
              "    </tr>\n",
              "    <tr>\n",
              "      <th>4</th>\n",
              "      <td>0</td>\n",
              "      <td>3</td>\n",
              "      <td>[[[16, 16, 16], [17, 17, 17], [18, 18, 18], [1...</td>\n",
              "    </tr>\n",
              "  </tbody>\n",
              "</table>\n",
              "</div>\n",
              "      <button class=\"colab-df-convert\" onclick=\"convertToInteractive('df-03ce22a3-0f8e-475f-a3bb-3070454342f2')\"\n",
              "              title=\"Convert this dataframe to an interactive table.\"\n",
              "              style=\"display:none;\">\n",
              "        \n",
              "  <svg xmlns=\"http://www.w3.org/2000/svg\" height=\"24px\"viewBox=\"0 0 24 24\"\n",
              "       width=\"24px\">\n",
              "    <path d=\"M0 0h24v24H0V0z\" fill=\"none\"/>\n",
              "    <path d=\"M18.56 5.44l.94 2.06.94-2.06 2.06-.94-2.06-.94-.94-2.06-.94 2.06-2.06.94zm-11 1L8.5 8.5l.94-2.06 2.06-.94-2.06-.94L8.5 2.5l-.94 2.06-2.06.94zm10 10l.94 2.06.94-2.06 2.06-.94-2.06-.94-.94-2.06-.94 2.06-2.06.94z\"/><path d=\"M17.41 7.96l-1.37-1.37c-.4-.4-.92-.59-1.43-.59-.52 0-1.04.2-1.43.59L10.3 9.45l-7.72 7.72c-.78.78-.78 2.05 0 2.83L4 21.41c.39.39.9.59 1.41.59.51 0 1.02-.2 1.41-.59l7.78-7.78 2.81-2.81c.8-.78.8-2.07 0-2.86zM5.41 20L4 18.59l7.72-7.72 1.47 1.35L5.41 20z\"/>\n",
              "  </svg>\n",
              "      </button>\n",
              "      \n",
              "  <style>\n",
              "    .colab-df-container {\n",
              "      display:flex;\n",
              "      flex-wrap:wrap;\n",
              "      gap: 12px;\n",
              "    }\n",
              "\n",
              "    .colab-df-convert {\n",
              "      background-color: #E8F0FE;\n",
              "      border: none;\n",
              "      border-radius: 50%;\n",
              "      cursor: pointer;\n",
              "      display: none;\n",
              "      fill: #1967D2;\n",
              "      height: 32px;\n",
              "      padding: 0 0 0 0;\n",
              "      width: 32px;\n",
              "    }\n",
              "\n",
              "    .colab-df-convert:hover {\n",
              "      background-color: #E2EBFA;\n",
              "      box-shadow: 0px 1px 2px rgba(60, 64, 67, 0.3), 0px 1px 3px 1px rgba(60, 64, 67, 0.15);\n",
              "      fill: #174EA6;\n",
              "    }\n",
              "\n",
              "    [theme=dark] .colab-df-convert {\n",
              "      background-color: #3B4455;\n",
              "      fill: #D2E3FC;\n",
              "    }\n",
              "\n",
              "    [theme=dark] .colab-df-convert:hover {\n",
              "      background-color: #434B5C;\n",
              "      box-shadow: 0px 1px 3px 1px rgba(0, 0, 0, 0.15);\n",
              "      filter: drop-shadow(0px 1px 2px rgba(0, 0, 0, 0.3));\n",
              "      fill: #FFFFFF;\n",
              "    }\n",
              "  </style>\n",
              "\n",
              "      <script>\n",
              "        const buttonEl =\n",
              "          document.querySelector('#df-03ce22a3-0f8e-475f-a3bb-3070454342f2 button.colab-df-convert');\n",
              "        buttonEl.style.display =\n",
              "          google.colab.kernel.accessAllowed ? 'block' : 'none';\n",
              "\n",
              "        async function convertToInteractive(key) {\n",
              "          const element = document.querySelector('#df-03ce22a3-0f8e-475f-a3bb-3070454342f2');\n",
              "          const dataTable =\n",
              "            await google.colab.kernel.invokeFunction('convertToInteractive',\n",
              "                                                     [key], {});\n",
              "          if (!dataTable) return;\n",
              "\n",
              "          const docLinkHtml = 'Like what you see? Visit the ' +\n",
              "            '<a target=\"_blank\" href=https://colab.research.google.com/notebooks/data_table.ipynb>data table notebook</a>'\n",
              "            + ' to learn more about interactive tables.';\n",
              "          element.innerHTML = '';\n",
              "          dataTable['output_type'] = 'display_data';\n",
              "          await google.colab.output.renderOutput(dataTable, element);\n",
              "          const docLink = document.createElement('div');\n",
              "          docLink.innerHTML = docLinkHtml;\n",
              "          element.appendChild(docLink);\n",
              "        }\n",
              "      </script>\n",
              "    </div>\n",
              "  </div>\n",
              "  "
            ],
            "text/plain": [
              "   y  y_race                                                img\n",
              "0  0       3  [[[150, 121, 107], [150, 121, 107], [149, 120,...\n",
              "1  0       3  [[[210, 203, 197], [228, 221, 215], [245, 238,...\n",
              "2  0       3  [[[31, 27, 16], [30, 26, 15], [29, 25, 14], [2...\n",
              "3  1       3  [[[27, 17, 7], [24, 14, 4], [21, 12, 3], [19, ...\n",
              "4  0       3  [[[16, 16, 16], [17, 17, 17], [18, 18, 18], [1..."
            ]
          },
          "execution_count": 51,
          "metadata": {},
          "output_type": "execute_result"
        }
      ],
      "source": [
        "df.head()\n"
      ]
    },
    {
      "cell_type": "markdown",
      "metadata": {
        "id": "yaSjr6SRDOuy"
      },
      "source": [
        "First, train(80%), validation(10%), test(10%) split is performed."
      ]
    },
    {
      "cell_type": "code",
      "execution_count": null,
      "metadata": {
        "id": "cC2GqoToUTJL"
      },
      "outputs": [],
      "source": [
        "X_train_exp, X_test_exp, y_train_exp, y_test_exp = train_test_split(\n",
        "    df, y, test_size=0.1, random_state=329\n",
        ")\n",
        "\n",
        "X_train_exp, X_val_exp, y_train_exp, y_val_exp = train_test_split(\n",
        "    X_train_exp, y_train_exp, test_size=(0.1 / 0.9), random_state=525\n",
        ")\n"
      ]
    },
    {
      "cell_type": "code",
      "execution_count": null,
      "metadata": {
        "colab": {
          "base_uri": "https://localhost:8080/",
          "height": 80
        },
        "id": "SlZFlklEVrJd",
        "outputId": "e3afc9f1-2c1f-4436-876c-31048f09a961"
      },
      "outputs": [
        {
          "data": {
            "text/html": [
              "\n",
              "  <div id=\"df-9234b9c1-bfd7-40c4-9bbb-99ce6a5e1115\">\n",
              "    <div class=\"colab-df-container\">\n",
              "      <div>\n",
              "<style scoped>\n",
              "    .dataframe tbody tr th:only-of-type {\n",
              "        vertical-align: middle;\n",
              "    }\n",
              "\n",
              "    .dataframe tbody tr th {\n",
              "        vertical-align: top;\n",
              "    }\n",
              "\n",
              "    .dataframe thead th {\n",
              "        text-align: right;\n",
              "    }\n",
              "</style>\n",
              "<table border=\"1\" class=\"dataframe\">\n",
              "  <thead>\n",
              "    <tr style=\"text-align: right;\">\n",
              "      <th></th>\n",
              "      <th>y</th>\n",
              "      <th>y_race</th>\n",
              "      <th>img</th>\n",
              "    </tr>\n",
              "  </thead>\n",
              "  <tbody>\n",
              "    <tr>\n",
              "      <th>140</th>\n",
              "      <td>0</td>\n",
              "      <td>3</td>\n",
              "      <td>[[[42, 42, 42], [34, 34, 34], [29, 29, 29], [3...</td>\n",
              "    </tr>\n",
              "  </tbody>\n",
              "</table>\n",
              "</div>\n",
              "      <button class=\"colab-df-convert\" onclick=\"convertToInteractive('df-9234b9c1-bfd7-40c4-9bbb-99ce6a5e1115')\"\n",
              "              title=\"Convert this dataframe to an interactive table.\"\n",
              "              style=\"display:none;\">\n",
              "        \n",
              "  <svg xmlns=\"http://www.w3.org/2000/svg\" height=\"24px\"viewBox=\"0 0 24 24\"\n",
              "       width=\"24px\">\n",
              "    <path d=\"M0 0h24v24H0V0z\" fill=\"none\"/>\n",
              "    <path d=\"M18.56 5.44l.94 2.06.94-2.06 2.06-.94-2.06-.94-.94-2.06-.94 2.06-2.06.94zm-11 1L8.5 8.5l.94-2.06 2.06-.94-2.06-.94L8.5 2.5l-.94 2.06-2.06.94zm10 10l.94 2.06.94-2.06 2.06-.94-2.06-.94-.94-2.06-.94 2.06-2.06.94z\"/><path d=\"M17.41 7.96l-1.37-1.37c-.4-.4-.92-.59-1.43-.59-.52 0-1.04.2-1.43.59L10.3 9.45l-7.72 7.72c-.78.78-.78 2.05 0 2.83L4 21.41c.39.39.9.59 1.41.59.51 0 1.02-.2 1.41-.59l7.78-7.78 2.81-2.81c.8-.78.8-2.07 0-2.86zM5.41 20L4 18.59l7.72-7.72 1.47 1.35L5.41 20z\"/>\n",
              "  </svg>\n",
              "      </button>\n",
              "      \n",
              "  <style>\n",
              "    .colab-df-container {\n",
              "      display:flex;\n",
              "      flex-wrap:wrap;\n",
              "      gap: 12px;\n",
              "    }\n",
              "\n",
              "    .colab-df-convert {\n",
              "      background-color: #E8F0FE;\n",
              "      border: none;\n",
              "      border-radius: 50%;\n",
              "      cursor: pointer;\n",
              "      display: none;\n",
              "      fill: #1967D2;\n",
              "      height: 32px;\n",
              "      padding: 0 0 0 0;\n",
              "      width: 32px;\n",
              "    }\n",
              "\n",
              "    .colab-df-convert:hover {\n",
              "      background-color: #E2EBFA;\n",
              "      box-shadow: 0px 1px 2px rgba(60, 64, 67, 0.3), 0px 1px 3px 1px rgba(60, 64, 67, 0.15);\n",
              "      fill: #174EA6;\n",
              "    }\n",
              "\n",
              "    [theme=dark] .colab-df-convert {\n",
              "      background-color: #3B4455;\n",
              "      fill: #D2E3FC;\n",
              "    }\n",
              "\n",
              "    [theme=dark] .colab-df-convert:hover {\n",
              "      background-color: #434B5C;\n",
              "      box-shadow: 0px 1px 3px 1px rgba(0, 0, 0, 0.15);\n",
              "      filter: drop-shadow(0px 1px 2px rgba(0, 0, 0, 0.3));\n",
              "      fill: #FFFFFF;\n",
              "    }\n",
              "  </style>\n",
              "\n",
              "      <script>\n",
              "        const buttonEl =\n",
              "          document.querySelector('#df-9234b9c1-bfd7-40c4-9bbb-99ce6a5e1115 button.colab-df-convert');\n",
              "        buttonEl.style.display =\n",
              "          google.colab.kernel.accessAllowed ? 'block' : 'none';\n",
              "\n",
              "        async function convertToInteractive(key) {\n",
              "          const element = document.querySelector('#df-9234b9c1-bfd7-40c4-9bbb-99ce6a5e1115');\n",
              "          const dataTable =\n",
              "            await google.colab.kernel.invokeFunction('convertToInteractive',\n",
              "                                                     [key], {});\n",
              "          if (!dataTable) return;\n",
              "\n",
              "          const docLinkHtml = 'Like what you see? Visit the ' +\n",
              "            '<a target=\"_blank\" href=https://colab.research.google.com/notebooks/data_table.ipynb>data table notebook</a>'\n",
              "            + ' to learn more about interactive tables.';\n",
              "          element.innerHTML = '';\n",
              "          dataTable['output_type'] = 'display_data';\n",
              "          await google.colab.output.renderOutput(dataTable, element);\n",
              "          const docLink = document.createElement('div');\n",
              "          docLink.innerHTML = docLinkHtml;\n",
              "          element.appendChild(docLink);\n",
              "        }\n",
              "      </script>\n",
              "    </div>\n",
              "  </div>\n",
              "  "
            ],
            "text/plain": [
              "     y  y_race                                                img\n",
              "140  0       3  [[[42, 42, 42], [34, 34, 34], [29, 29, 29], [3..."
            ]
          },
          "execution_count": 54,
          "metadata": {},
          "output_type": "execute_result"
        }
      ],
      "source": [
        "X_train_exp.head(1)\n"
      ]
    },
    {
      "cell_type": "code",
      "execution_count": null,
      "metadata": {
        "colab": {
          "base_uri": "https://localhost:8080/"
        },
        "id": "qD5tGUtJXr8W",
        "outputId": "31508e92-4159-4454-c1d2-043b3af2a132"
      },
      "outputs": [
        {
          "data": {
            "text/plain": [
              "array([0, 1, 3, 2])"
            ]
          },
          "execution_count": 68,
          "metadata": {},
          "output_type": "execute_result"
        }
      ],
      "source": [
        "X_train_exp[\"y_race\"].unique()\n"
      ]
    },
    {
      "cell_type": "markdown",
      "metadata": {
        "id": "monPP3K3DOuz"
      },
      "source": [
        "### Subsetting for experiments"
      ]
    },
    {
      "cell_type": "markdown",
      "metadata": {
        "id": "7yPfO7TKeWoE"
      },
      "source": [
        "#### Subsetting for race"
      ]
    },
    {
      "cell_type": "markdown",
      "metadata": {
        "id": "9QEV0Ey9DOu0"
      },
      "source": [
        "Exclude one subgroup in a time both in train and validation sets. Detailed explanations are in slides and the report."
      ]
    },
    {
      "cell_type": "code",
      "execution_count": null,
      "metadata": {
        "id": "9K8zoO91DOu0"
      },
      "outputs": [],
      "source": [
        "# Data Structure:\n",
        "# \"data_exp_r\": dict\n",
        "#     key: the subgroup num to exclude, value: dict\n",
        "#           key:[\"train\", \"val\", \"test\"], value: dict\n",
        "#               key:[\"X\", \"y\"], value: data np.array\n"
      ]
    },
    {
      "cell_type": "code",
      "execution_count": null,
      "metadata": {
        "id": "ixaywu2jeUp5"
      },
      "outputs": [],
      "source": [
        "# init the dict\n",
        "data_exp_r = {}\n",
        "for _ in range(4):\n",
        "    data_exp_r[_] = {}\n",
        "    data_exp_r[_][\"train\"] = {}\n",
        "    data_exp_r[_][\"val\"] = {}\n",
        "    data_exp_r[_][\"test\"] = {}\n",
        "\n",
        "# exclude one subgroup at a time\n",
        "for r in range(4):\n",
        "    X_train0 = X_train_exp.loc[(X_train_exp[\"y_race\"] != r)].copy()\n",
        "    X_train_ex0 = X_train0[\"img\"]\n",
        "    y_train_ex0 = X_train0[\"y\"]\n",
        "    X_val0 = X_val_exp.loc[(X_val_exp[\"y_race\"] != r)].copy()\n",
        "    X_val_ex0 = X_val0[\"img\"]\n",
        "    y_val_ex0 = X_val0[\"y\"]\n",
        "    temp = []\n",
        "    for _ in X_train_ex0:\n",
        "        temp.append(np.array(_))\n",
        "    data_exp_r[r][\"train\"][\"X\"] = np.array(temp)\n",
        "    data_exp_r[r][\"train\"][\"y\"] = np.array(y_train_ex0)\n",
        "    temp = []\n",
        "    for _ in X_val_ex0:\n",
        "        temp.append(np.array(_))\n",
        "    data_exp_r[r][\"val\"][\"X\"] = np.array(temp)\n",
        "    data_exp_r[r][\"val\"][\"y\"] = np.array(y_val_ex0)\n",
        "\n",
        "# for test set, we maintain the original ratio of subgroups\n",
        "X_temp, y_temp = [], []\n",
        "for i in range(4):\n",
        "    X_test0 = X_test_exp.loc[(X_test_exp[\"y_race\"] == i)].copy()\n",
        "    X_test_r0 = X_test0[\"img\"]\n",
        "    y_test_r0 = X_test0[\"y\"]\n",
        "    temp = []\n",
        "    for _ in X_test_r0:\n",
        "        temp.append(np.array(_))\n",
        "    X_temp.append(np.array(temp))\n",
        "    y_temp.append(np.array(y_test_r0))\n",
        "\n",
        "for r in range(4):\n",
        "    data_exp_r[r][\"test\"][\"X\"] = X_temp\n",
        "    data_exp_r[r][\"test\"][\"y\"] = y_temp\n"
      ]
    },
    {
      "cell_type": "code",
      "execution_count": null,
      "metadata": {
        "colab": {
          "base_uri": "https://localhost:8080/"
        },
        "id": "8ZXH5no-eIME",
        "outputId": "878c4066-46f9-42fc-c480-fb653780e34e"
      },
      "outputs": [
        {
          "data": {
            "text/plain": [
              "numpy.ndarray"
            ]
          },
          "execution_count": 109,
          "metadata": {},
          "output_type": "execute_result"
        }
      ],
      "source": [
        "type(data_exp_r[r][\"train\"][\"X\"])\n"
      ]
    },
    {
      "cell_type": "markdown",
      "metadata": {
        "id": "ZZcy7O4xP-Xz"
      },
      "source": [
        "#### Subsetting for gender"
      ]
    },
    {
      "cell_type": "markdown",
      "metadata": {
        "id": "Xz7zNmSbDOu1"
      },
      "source": [
        "Constructing subsets containing imbalanced ratio of labels. Specifically, 80% Male + 20% Female, 20% Female + 80% Male both for training and validation datasets."
      ]
    },
    {
      "cell_type": "code",
      "execution_count": null,
      "metadata": {
        "id": "98LSeInRDOu1"
      },
      "outputs": [],
      "source": [
        "# Data Structure:\n",
        "# \"data_exp_g\": dict\n",
        "#     key: [\"0\", \"1\"] for different cases, value: dict\n",
        "#           key:[\"train\", \"val\", \"test\"], value: dict\n",
        "#               key:[\"X\", \"y\"], value: data np.array\n"
      ]
    },
    {
      "cell_type": "code",
      "execution_count": null,
      "metadata": {
        "id": "Wla150uce9bd"
      },
      "outputs": [],
      "source": [
        "# init the data structure\n",
        "data_exp_g = {}\n",
        "\n",
        "for _ in range(2):\n",
        "    data_exp_g[_] = {}\n",
        "    data_exp_g[_][\"train\"] = {}\n",
        "    data_exp_g[_][\"val\"] = {}\n",
        "    data_exp_g[_][\"test\"] = {}\n",
        "\n",
        "# construct 80% and 20% in both train and validation sets\n",
        "for g in range(2):\n",
        "    X_train0 = X_train_exp.loc[(X_train_exp[\"y\"] == g)].copy()\n",
        "\n",
        "    X_train_ex0 = X_train0[\"img\"]\n",
        "    y_train_ex0 = X_train0[\"y\"]\n",
        "\n",
        "    X_train1 = X_train_exp.loc[(X_train_exp[\"y\"] != g)].copy()\n",
        "    X_train_ex1 = X_train1[\"img\"]\n",
        "    y_train_ex1 = X_train1[\"y\"]\n",
        "\n",
        "    target = int(X_train_ex0.shape[0] * 0.25)\n",
        "\n",
        "    X_slice = X_train_ex1[:target]\n",
        "    y_slice = y_train_ex1[:target]\n",
        "\n",
        "    X_exp_g = pd.concat([X_train_ex0, X_slice])\n",
        "    y_exp_g = pd.concat([y_train_ex0, y_slice])\n",
        "    temp = []\n",
        "    for _ in X_exp_g:\n",
        "        temp.append(np.array(_))\n",
        "    temp = np.array(temp)\n",
        "    data_exp_g[g][\"train\"][\"X\"] = temp\n",
        "    data_exp_g[g][\"train\"][\"y\"] = y_exp_g\n",
        "\n",
        "    # validation sets\n",
        "    X_val0 = X_val_exp.loc[(X_val_exp[\"y\"] == g)].copy()\n",
        "    X_val_ex0 = X_val0[\"img\"]\n",
        "    y_val_ex0 = X_val0[\"y\"]\n",
        "\n",
        "    X_val1 = X_val_exp.loc[(X_val_exp[\"y\"] != g)].copy()\n",
        "    X_val_ex1 = X_val1[\"img\"]\n",
        "    y_val_ex1 = X_val1[\"y\"]\n",
        "\n",
        "    # 80% 20% split\n",
        "    target = int(X_val_ex0.shape[0] * 0.25)\n",
        "\n",
        "    X_slice = X_val_ex1[:target]\n",
        "    y_slice = y_val_ex1[:target]\n",
        "\n",
        "    X_exp_g = pd.concat([X_val_ex0, X_slice])\n",
        "    y_exp_g = pd.concat([y_val_ex0, y_slice])\n",
        "\n",
        "    temp = []\n",
        "    for _ in X_exp_g:\n",
        "        temp.append(np.array(_))\n",
        "    temp = np.array(temp)\n",
        "    data_exp_g[g][\"val\"][\"X\"] = temp\n",
        "    data_exp_g[g][\"val\"][\"y\"] = y_exp_g\n",
        "\n",
        "# for test set, we maintain the original ratio of subgroups\n",
        "for g in range(2):\n",
        "    X_temp = X_test_exp[\"img\"]\n",
        "    y_temp = X_test_exp[\"y\"]\n",
        "    temp = []\n",
        "    for _ in X_temp:\n",
        "        temp.append(np.array(_))\n",
        "    temp = np.array(temp)\n",
        "    data_exp_g[g][\"test\"][\"X\"] = temp\n",
        "    data_exp_g[g][\"test\"][\"y\"] = np.array(y_temp)\n"
      ]
    },
    {
      "cell_type": "markdown",
      "metadata": {
        "id": "DgNuFz1HGJTm"
      },
      "source": [
        "## 3. Modeling"
      ]
    },
    {
      "cell_type": "markdown",
      "metadata": {
        "id": "TRMKT5CqDOu2"
      },
      "source": [
        "Train, validation, test split. Train: 80%, validation: 10%, test: 10%"
      ]
    },
    {
      "cell_type": "code",
      "execution_count": null,
      "metadata": {
        "id": "o4oKxbtBGJTo"
      },
      "outputs": [],
      "source": [
        "X_rgb_train, X_rgb_test, y_train, y_test = train_test_split(\n",
        "    X_rgb, y, test_size=0.1, random_state=329\n",
        ")\n",
        "\n",
        "X_rgb_train, X_rgb_val, y_train, y_val = train_test_split(\n",
        "    X_rgb_train, y_train, test_size=(0.1 / 0.9), random_state=525\n",
        ")\n"
      ]
    },
    {
      "cell_type": "markdown",
      "metadata": {
        "id": "jhunM_WaJvFN"
      },
      "source": [
        "Transfer Learning"
      ]
    },
    {
      "cell_type": "markdown",
      "metadata": {
        "id": "X7Gqs2481zgP"
      },
      "source": [
        "The workflow and code are learned from the tutorial of transfer learning & fine-tuning in Keras\n",
        "https://keras.io/guides/transfer_learning/"
      ]
    },
    {
      "cell_type": "markdown",
      "metadata": {
        "id": "RDifWNI4KS7k"
      },
      "source": [
        "Transfer into TSDS object (Tansorflow Dataset Object)"
      ]
    },
    {
      "cell_type": "code",
      "execution_count": null,
      "metadata": {
        "colab": {
          "base_uri": "https://localhost:8080/"
        },
        "id": "TMM-MdyHK3M7",
        "outputId": "a1b2f2ce-6a20-447d-df7f-ad916b537733"
      },
      "outputs": [
        {
          "data": {
            "text/plain": [
              "(800, 200, 200, 3)"
            ]
          },
          "execution_count": 9,
          "metadata": {},
          "output_type": "execute_result"
        }
      ],
      "source": [
        "X_rgb_train.shape\n"
      ]
    },
    {
      "cell_type": "code",
      "execution_count": null,
      "metadata": {
        "id": "992sRSebJ3z9"
      },
      "outputs": [],
      "source": [
        "train_tfds = tf.data.Dataset.from_tensor_slices(\n",
        "    (tf.convert_to_tensor(X_rgb_train), tf.convert_to_tensor(y_train))\n",
        ")\n",
        "val_tfds = tf.data.Dataset.from_tensor_slices(\n",
        "    (tf.convert_to_tensor(X_rgb_val), tf.convert_to_tensor(y_val))\n",
        ")\n",
        "test_tfds = tf.data.Dataset.from_tensor_slices(\n",
        "    (tf.convert_to_tensor(X_rgb_test), tf.convert_to_tensor(y_test))\n",
        ")\n"
      ]
    },
    {
      "cell_type": "markdown",
      "metadata": {
        "id": "yHZ5C_cPQq8N"
      },
      "source": [
        "Prefetch and memory cache to optimize the speed."
      ]
    },
    {
      "cell_type": "code",
      "execution_count": null,
      "metadata": {
        "id": "t3DqcNoHPu7U"
      },
      "outputs": [],
      "source": [
        "train_tfds = train_tfds.cache().batch(32).prefetch(buffer_size=10)\n",
        "val_tfds = val_tfds.cache().batch(32).prefetch(buffer_size=10)\n",
        "test_tfds = test_tfds.cache().batch(32).prefetch(buffer_size=10)\n"
      ]
    },
    {
      "cell_type": "markdown",
      "metadata": {
        "id": "0bAE31rOQ5uf"
      },
      "source": [
        "Data Augmumentation"
      ]
    },
    {
      "cell_type": "code",
      "execution_count": null,
      "metadata": {
        "id": "eN04CmjLQ5YA"
      },
      "outputs": [],
      "source": [
        "data_augmentation = keras.Sequential(\n",
        "    [\n",
        "        layers.RandomFlip(\"horizontal\"),\n",
        "        layers.RandomFlip(\"vertical\"),\n",
        "        layers.RandomRotation(0.1),\n",
        "    ]\n",
        ")\n"
      ]
    },
    {
      "cell_type": "markdown",
      "metadata": {
        "id": "XdWTh3ZVDYpR"
      },
      "source": [
        "Training and evaluation functions"
      ]
    },
    {
      "cell_type": "code",
      "execution_count": null,
      "metadata": {
        "id": "DwFly9cJXJ5y"
      },
      "outputs": [],
      "source": [
        "def buiding_and_tuning_model(\n",
        "    train_tfds, val_tfds, dp, epochs_top=20, epochs_finetuning=10\n",
        "):\n",
        "    \"\"\"Constructing the model, train, and fine-tuning the model\n",
        "\n",
        "    Args:\n",
        "        train_tfds (tfds): training dataset\n",
        "        val_tfds (tfds): validation dataset\n",
        "        dp (float): the dropout rate\n",
        "        epochs_top (int, optional): The number of epochs for training. Defaults to 20.\n",
        "        epochs_finetuning (int, optional): The number of epochs for fine-tuning. Defaults to 10.\n",
        "\n",
        "    Returns:\n",
        "        model object: trained model\n",
        "    \"\"\"\n",
        "    pretrained_model = keras.applications.ResNet101V2(\n",
        "        weights=\"imagenet\",\n",
        "        input_shape=(200, 200, 3),\n",
        "        include_top=False,\n",
        "    )\n",
        "\n",
        "    pretrained_model.trainable = False\n",
        "\n",
        "    # input\n",
        "    input_tensor = keras.Input(shape=(200, 200, 3))\n",
        "    x_aug = data_augmentation(input_tensor)\n",
        "    scale_layer = keras.layers.Rescaling(scale=(1 / (255 / 2)), offset=-1)\n",
        "    x_scaled = scale_layer(x_aug)\n",
        "\n",
        "    # base pre-trained model\n",
        "    x_pretrained = pretrained_model(x_scaled, training=False)\n",
        "\n",
        "    # pooling, dropout, fully-connected layer\n",
        "    x = keras.layers.GlobalAveragePooling2D()(x_pretrained)\n",
        "    x = keras.layers.Dropout(dp)(x)\n",
        "    out_proba = keras.layers.Dense(1)(x)\n",
        "    model = keras.Model(input_tensor, out_proba)\n",
        "\n",
        "    # conpile the model for training\n",
        "    model.compile(\n",
        "        optimizer=keras.optimizers.Adam(),\n",
        "        loss=keras.losses.BinaryCrossentropy(from_logits=True),\n",
        "        metrics=[keras.metrics.BinaryAccuracy()],\n",
        "    )\n",
        "\n",
        "    model.fit(train_tfds, epochs=epochs_top, validation_data=val_tfds)\n",
        "\n",
        "    # fine-tuning the model\n",
        "    pretrained_model.trainable = True\n",
        "    model.compile(\n",
        "        optimizer=keras.optimizers.Adam(1e-5),\n",
        "        loss=keras.losses.BinaryCrossentropy(from_logits=True),\n",
        "        metrics=[keras.metrics.BinaryAccuracy()],\n",
        "    )\n",
        "\n",
        "    model.fit(train_tfds, epochs=epochs_finetuning, validation_data=val_tfds)\n",
        "\n",
        "    return model\n"
      ]
    },
    {
      "cell_type": "code",
      "execution_count": null,
      "metadata": {
        "id": "Q_hPAKY3q4pZ"
      },
      "outputs": [],
      "source": [
        "def model_evl(model, X_test, y_test, verbose):\n",
        "    \"\"\"Evaluating the model on the test set\n",
        "\n",
        "    Args:\n",
        "        model (model): Trained model\n",
        "        X_test (tfds): Test dataset\n",
        "        y_test (np.array): True labels for test set\n",
        "        verbose (bool): Print the AUC and AP or not\n",
        "\n",
        "    Returns:\n",
        "        tuple: output of the model, auc, ap\n",
        "    \"\"\"\n",
        "    # evaluate on test set\n",
        "    y_test_prob = model.predict(X_test)\n",
        "\n",
        "    # calculating the auc\n",
        "    auc_model = metrics.roc_auc_score(y_test, y_test_prob)\n",
        "    if verbose:\n",
        "        print(\"The AUC is {:.5f}\".format(auc_model))\n",
        "\n",
        "    ap_model = metrics.average_precision_score(y_test, y_test_prob)\n",
        "    if verbose:\n",
        "        print(\"The AP is {:.5f}\".format(ap_model))\n",
        "\n",
        "    return y_test_prob, auc_model, ap_model\n"
      ]
    },
    {
      "cell_type": "markdown",
      "metadata": {
        "id": "OP8BlzRBEaDW"
      },
      "source": [
        "For ResNet101V2, the model converges via 20 training epochs. Different dropout rates for different regularization degrees are tuned manually for saving time."
      ]
    },
    {
      "cell_type": "markdown",
      "metadata": {
        "id": "pHKPczSn3Gy4"
      },
      "source": [
        "First round, dropout = [0.1, 0.2, 0.3, 0.4, 0.5] were validated. dropout=0.1 was selected since it achieve the best AUC and AP."
      ]
    },
    {
      "cell_type": "code",
      "execution_count": null,
      "metadata": {
        "id": "n8WImYmaFn3t"
      },
      "outputs": [],
      "source": [
        "dropout = [0.1, 0.2, 0.3, 0.4, 0.5]\n",
        "auc, ap = [], []\n"
      ]
    },
    {
      "cell_type": "code",
      "execution_count": null,
      "metadata": {
        "id": "WTkrhZSQFuIL"
      },
      "outputs": [],
      "source": [
        "for dp in dropout:\n",
        "    model = buiding_and_tuning_model(dp)\n",
        "\n",
        "    # evaluate on test set\n",
        "    y_test_prob = model.predict(X_rgb_test)\n",
        "\n",
        "    # calculating the auc\n",
        "    auc_model = metrics.roc_auc_score(y_test, y_test_prob)\n",
        "    # print(\"The AUC is {:.5f}\".format(auc_model))\n",
        "\n",
        "    ap_model = metrics.average_precision_score(y_test, y_test_prob)\n",
        "    # print(\"The AP is {:.5f}\".format(ap_model))\n",
        "\n",
        "    auc.append(auc_model)\n",
        "    ap.append(ap_model)\n"
      ]
    },
    {
      "cell_type": "code",
      "execution_count": null,
      "metadata": {
        "id": "1RW8dkgpFu2Q"
      },
      "outputs": [],
      "source": [
        "ind, max_auc = 0, 0\n",
        "for i, a in enumerate(auc):\n",
        "    if max_auc < a:\n",
        "        max_auc = a\n",
        "        ind = i\n",
        "print(\"Dropout:\", dropout[ind])\n",
        "print(\"The AUC is {:.5f}\".format(auc_model))\n",
        "print(\"The AP is {:.5f}\".format(ap_model))\n",
        "\n",
        "ind, max_ap = 0, 0\n",
        "for i, a in enumerate(ap):\n",
        "    if max_auc < a:\n",
        "        max_auc = a\n",
        "        ind = i\n",
        "print(\"Dropout:\", dropout[ind])\n",
        "print(\"The AUC is {:.5f}\".format(auc_model))\n",
        "print(\"The AP is {:.5f}\".format(ap_model))\n"
      ]
    },
    {
      "cell_type": "markdown",
      "metadata": {
        "id": "wTqXYtC23VUu"
      },
      "source": [
        "$Dropout = 0.1$ is selected.\n",
        "The AUC is 0.95841; \n",
        "The AP is 0.96352"
      ]
    },
    {
      "cell_type": "markdown",
      "metadata": {
        "id": "lmLzjPaLF57N"
      },
      "source": [
        "Since the optimal value is at the edge. The interval is further expended."
      ]
    },
    {
      "cell_type": "code",
      "execution_count": null,
      "metadata": {
        "id": "qMA8to8F5hl_"
      },
      "outputs": [],
      "source": [
        "dropout = [0.001, 0.05, 0.1]\n",
        "auc, ap = [], []\n"
      ]
    },
    {
      "cell_type": "code",
      "execution_count": null,
      "metadata": {
        "id": "5aVm-nHTX2D-"
      },
      "outputs": [],
      "source": [
        "for dp in dropout:\n",
        "    model = buiding_and_tuning_model(dp)\n",
        "\n",
        "    # evaluate on test set\n",
        "    y_test_prob = model.predict(X_rgb_test)\n",
        "\n",
        "    # calculating the auc\n",
        "    auc_model = metrics.roc_auc_score(y_test, y_test_prob)\n",
        "    # print(\"The AUC is {:.5f}\".format(auc_model))\n",
        "\n",
        "    ap_model = metrics.average_precision_score(y_test, y_test_prob)\n",
        "    # print(\"The AP is {:.5f}\".format(ap_model))\n",
        "\n",
        "    auc.append(auc_model)\n",
        "    ap.append(ap_model)\n",
        "\n",
        "# model.summary()\n"
      ]
    },
    {
      "cell_type": "code",
      "execution_count": null,
      "metadata": {
        "colab": {
          "base_uri": "https://localhost:8080/"
        },
        "id": "VuaoJJF6Qfe4",
        "outputId": "cd8083ae-136c-462d-8b66-879aeefbd16f"
      },
      "outputs": [
        {
          "name": "stdout",
          "output_type": "stream",
          "text": [
            "Dropout: 0.1\n",
            "The AUC is 0.95833\n",
            "The AP is 0.96396\n",
            "Dropout: 0.1\n",
            "The AUC is 0.95833\n",
            "The AP is 0.96396\n"
          ]
        }
      ],
      "source": [
        "ind, max_auc = 0, 0\n",
        "for i, a in enumerate(auc):\n",
        "    if max_auc < a:\n",
        "        max_auc = a\n",
        "        ind = i\n",
        "print(\"Dropout:\", dropout[ind])\n",
        "print(\"The AUC is {:.5f}\".format(auc_model))\n",
        "print(\"The AP is {:.5f}\".format(ap_model))\n",
        "\n",
        "ind, max_ap = 0, 0\n",
        "for i, a in enumerate(ap):\n",
        "    if max_auc < a:\n",
        "        max_auc = a\n",
        "        ind = i\n",
        "print(\"Dropout:\", dropout[ind])\n",
        "print(\"The AUC is {:.5f}\".format(auc_model))\n",
        "print(\"The AP is {:.5f}\".format(ap_model))\n"
      ]
    },
    {
      "cell_type": "markdown",
      "metadata": {
        "id": "G-JcFCnBRZJN"
      },
      "source": [
        "##### $dropout=0.1$ is selected"
      ]
    },
    {
      "cell_type": "markdown",
      "metadata": {
        "id": "7LKX2vY8_G4R"
      },
      "source": [
        "For dropout = 0.1 and 0.5, comparing different models. The following code was run repeatedly with different pre-trained models. The variable \"pretrained_model\" in the \"buiding_and_tuning_model\" was modified each time. The result for dropout = 0.1 using subset of data is listed as below."
      ]
    },
    {
      "cell_type": "markdown",
      "metadata": {
        "id": "K1WdWnN8_ov5"
      },
      "source": [
        "Xception: The AUC is 0.90264\n",
        "The AP is 0.92228"
      ]
    },
    {
      "cell_type": "markdown",
      "metadata": {
        "id": "q8QHjG7FBQPc"
      },
      "source": [
        "VGG19: The AUC is 0.90024\n",
        "The AP is 0.91588"
      ]
    },
    {
      "cell_type": "markdown",
      "metadata": {
        "id": "dqK9IDNkC0z0"
      },
      "source": [
        "ResNet50V2: The AUC is 0.92909\n",
        "The AP is 0.93961"
      ]
    },
    {
      "cell_type": "markdown",
      "metadata": {
        "id": "1d1QcpV4Eo1f"
      },
      "source": [
        "ResNet101V2: The AUC is 0.95833\n",
        "The AP is 0.96396"
      ]
    },
    {
      "cell_type": "markdown",
      "metadata": {
        "id": "D6n_jL36ExkB"
      },
      "source": [
        "ResNet152V2: The AUC is 0.94511 The AP is 0.94842"
      ]
    },
    {
      "cell_type": "markdown",
      "metadata": {
        "id": "LTmsLfE6GR9t"
      },
      "source": [
        "InceptionResNetV2: The AUC is 0.90465 The AP is 0.92814"
      ]
    },
    {
      "cell_type": "markdown",
      "metadata": {
        "id": "dukvncDhHzeI"
      },
      "source": [
        "DenseNet121: The AUC is 0.89263\n",
        "The AP is 0.91395"
      ]
    },
    {
      "cell_type": "markdown",
      "metadata": {
        "id": "thqIO4-LJHDx"
      },
      "source": [
        "DenseNet169: The AUC is 0.93189\n",
        "The AP is 0.94035"
      ]
    },
    {
      "cell_type": "markdown",
      "metadata": {
        "id": "PvsDTqpmdWBe"
      },
      "source": [
        "ResNet101V2 is selected to be part of the final model. The final model is trained as follows."
      ]
    },
    {
      "cell_type": "code",
      "execution_count": null,
      "metadata": {
        "colab": {
          "base_uri": "https://localhost:8080/"
        },
        "id": "A1rX_V8UuB_M",
        "outputId": "53a3a4d9-d049-4ad3-aaf8-4becb460f6b9"
      },
      "outputs": [
        {
          "name": "stdout",
          "output_type": "stream",
          "text": [
            "Downloading data from https://storage.googleapis.com/tensorflow/keras-applications/resnet/resnet101v2_weights_tf_dim_ordering_tf_kernels_notop.h5\n",
            "171319296/171317808 [==============================] - 1s 0us/step\n",
            "171327488/171317808 [==============================] - 1s 0us/step\n",
            "Epoch 1/20\n",
            "245/245 [==============================] - 39s 100ms/step - loss: 0.5387 - binary_accuracy: 0.7105 - val_loss: 0.4627 - val_binary_accuracy: 0.7566\n",
            "Epoch 2/20\n",
            "245/245 [==============================] - 23s 93ms/step - loss: 0.4776 - binary_accuracy: 0.7567 - val_loss: 0.4363 - val_binary_accuracy: 0.7618\n",
            "Epoch 3/20\n",
            "245/245 [==============================] - 23s 93ms/step - loss: 0.4674 - binary_accuracy: 0.7647 - val_loss: 0.4395 - val_binary_accuracy: 0.7587\n",
            "Epoch 4/20\n",
            "245/245 [==============================] - 23s 93ms/step - loss: 0.4566 - binary_accuracy: 0.7656 - val_loss: 0.4237 - val_binary_accuracy: 0.7740\n",
            "Epoch 5/20\n",
            "245/245 [==============================] - 23s 93ms/step - loss: 0.4494 - binary_accuracy: 0.7789 - val_loss: 0.4140 - val_binary_accuracy: 0.7822\n",
            "Epoch 6/20\n",
            "245/245 [==============================] - 23s 92ms/step - loss: 0.4425 - binary_accuracy: 0.7800 - val_loss: 0.4046 - val_binary_accuracy: 0.7894\n",
            "Epoch 7/20\n",
            "245/245 [==============================] - 23s 92ms/step - loss: 0.4469 - binary_accuracy: 0.7754 - val_loss: 0.4011 - val_binary_accuracy: 0.7914\n",
            "Epoch 8/20\n",
            "245/245 [==============================] - 23s 92ms/step - loss: 0.4436 - binary_accuracy: 0.7805 - val_loss: 0.4151 - val_binary_accuracy: 0.7843\n",
            "Epoch 9/20\n",
            "245/245 [==============================] - 23s 92ms/step - loss: 0.4358 - binary_accuracy: 0.7842 - val_loss: 0.4092 - val_binary_accuracy: 0.7791\n",
            "Epoch 10/20\n",
            "245/245 [==============================] - 23s 92ms/step - loss: 0.4381 - binary_accuracy: 0.7851 - val_loss: 0.4054 - val_binary_accuracy: 0.7853\n",
            "Epoch 11/20\n",
            "245/245 [==============================] - 23s 92ms/step - loss: 0.4347 - binary_accuracy: 0.7840 - val_loss: 0.4117 - val_binary_accuracy: 0.7873\n",
            "Epoch 12/20\n",
            "245/245 [==============================] - 23s 93ms/step - loss: 0.4263 - binary_accuracy: 0.7878 - val_loss: 0.4025 - val_binary_accuracy: 0.7955\n",
            "Epoch 13/20\n",
            "245/245 [==============================] - 23s 93ms/step - loss: 0.4249 - binary_accuracy: 0.7888 - val_loss: 0.4078 - val_binary_accuracy: 0.7832\n",
            "Epoch 14/20\n",
            "245/245 [==============================] - 23s 93ms/step - loss: 0.4316 - binary_accuracy: 0.7824 - val_loss: 0.4012 - val_binary_accuracy: 0.7955\n",
            "Epoch 15/20\n",
            "245/245 [==============================] - 23s 92ms/step - loss: 0.4272 - binary_accuracy: 0.7887 - val_loss: 0.3983 - val_binary_accuracy: 0.7955\n",
            "Epoch 16/20\n",
            "245/245 [==============================] - 23s 93ms/step - loss: 0.4350 - binary_accuracy: 0.7874 - val_loss: 0.4045 - val_binary_accuracy: 0.7894\n",
            "Epoch 17/20\n",
            "245/245 [==============================] - 23s 93ms/step - loss: 0.4280 - binary_accuracy: 0.7887 - val_loss: 0.4013 - val_binary_accuracy: 0.7924\n",
            "Epoch 18/20\n",
            "245/245 [==============================] - 23s 94ms/step - loss: 0.4276 - binary_accuracy: 0.7901 - val_loss: 0.4007 - val_binary_accuracy: 0.7863\n",
            "Epoch 19/20\n",
            "245/245 [==============================] - 23s 92ms/step - loss: 0.4313 - binary_accuracy: 0.7893 - val_loss: 0.4003 - val_binary_accuracy: 0.7945\n",
            "Epoch 20/20\n",
            "245/245 [==============================] - 23s 92ms/step - loss: 0.4299 - binary_accuracy: 0.7886 - val_loss: 0.3973 - val_binary_accuracy: 0.7894\n",
            "Epoch 1/10\n",
            "245/245 [==============================] - 79s 280ms/step - loss: 0.4111 - binary_accuracy: 0.8010 - val_loss: 0.3536 - val_binary_accuracy: 0.8098\n",
            "Epoch 2/10\n",
            "245/245 [==============================] - 67s 272ms/step - loss: 0.3553 - binary_accuracy: 0.8292 - val_loss: 0.3034 - val_binary_accuracy: 0.8599\n",
            "Epoch 3/10\n",
            "245/245 [==============================] - 67s 272ms/step - loss: 0.3149 - binary_accuracy: 0.8464 - val_loss: 0.2888 - val_binary_accuracy: 0.8609\n",
            "Epoch 4/10\n",
            "245/245 [==============================] - 67s 272ms/step - loss: 0.2866 - binary_accuracy: 0.8640 - val_loss: 0.2885 - val_binary_accuracy: 0.8589\n",
            "Epoch 5/10\n",
            "245/245 [==============================] - 67s 272ms/step - loss: 0.2721 - binary_accuracy: 0.8724 - val_loss: 0.2861 - val_binary_accuracy: 0.8456\n",
            "Epoch 6/10\n",
            "245/245 [==============================] - 67s 272ms/step - loss: 0.2495 - binary_accuracy: 0.8843 - val_loss: 0.2642 - val_binary_accuracy: 0.8691\n",
            "Epoch 7/10\n",
            "245/245 [==============================] - 67s 272ms/step - loss: 0.2435 - binary_accuracy: 0.8833 - val_loss: 0.2814 - val_binary_accuracy: 0.8732\n",
            "Epoch 8/10\n",
            "245/245 [==============================] - 67s 272ms/step - loss: 0.2335 - binary_accuracy: 0.8935 - val_loss: 0.2583 - val_binary_accuracy: 0.8763\n",
            "Epoch 9/10\n",
            "245/245 [==============================] - 67s 272ms/step - loss: 0.2160 - binary_accuracy: 0.8985 - val_loss: 0.2612 - val_binary_accuracy: 0.8681\n",
            "Epoch 10/10\n",
            "245/245 [==============================] - 67s 272ms/step - loss: 0.2108 - binary_accuracy: 0.9039 - val_loss: 0.2683 - val_binary_accuracy: 0.8691\n",
            "The AUC is 0.95817\n",
            "The AP is 0.96755\n",
            "The total time is 1184.721948s.\n"
          ]
        }
      ],
      "source": [
        "t0 = time.time()\n",
        "model = buiding_and_tuning_model(\n",
        "    train_tfds, val_tfds, 0.1, epochs_top=20, epochs_finetuning=10\n",
        ")\n",
        "y_test_prob, auc, ap = model_evl(model, test_tfds, y_test, True)\n",
        "t1 = time.time()\n",
        "print(\"The total time is {:2f}s.\".format(t1 - t0))\n"
      ]
    },
    {
      "cell_type": "markdown",
      "metadata": {
        "id": "dOwVGuo0E4aU"
      },
      "source": [
        "It took $20$ epochs for the model to converge. When fine-tuning, the learning rate for fine-tuning was set to be $10^{-5}$, the optimizer is Adam. In the final model, $10$ epochs of fine-tuning led to $0.0778$ improvement in case of the binary accuracy in the validation set (from $0.7883$ to $0.8661$)."
      ]
    },
    {
      "cell_type": "code",
      "execution_count": null,
      "metadata": {
        "id": "OsujE8S_KiOK"
      },
      "outputs": [],
      "source": [
        "# variables for visulization\n",
        "models = [\"Final Model with ResNet101V2\"]\n",
        "fpr_dict, tpr_dict = dict(), dict()\n",
        "pc_dict, rc_dict = dict(), dict()\n",
        "auc_dict, ap_dict = dict(), dict()\n",
        "\n",
        "fpr, tpr, thresholds = metrics.roc_curve(y_test, y_test_prob)\n",
        "pc, rc, thresholds = precision_recall_curve(y_test, y_test_prob)\n",
        "\n",
        "fpr_dict[models[0]] = fpr\n",
        "tpr_dict[models[0]] = tpr\n",
        "pc_dict[models[0]] = pc\n",
        "rc_dict[models[0]] = rc\n",
        "auc_dict[models[0]] = auc\n",
        "ap_dict[models[0]] = ap\n"
      ]
    },
    {
      "cell_type": "code",
      "execution_count": null,
      "metadata": {
        "colab": {
          "base_uri": "https://localhost:8080/",
          "height": 431
        },
        "id": "fXPbkzkhLfrM",
        "outputId": "2458a921-b7c8-401d-d3aa-b8bab870c9fe"
      },
      "outputs": [
        {
          "data": {
            "image/png": "[encoded data removed]",
            "text/plain": [
              "<Figure size 720x432 with 2 Axes>"
            ]
          },
          "metadata": {
            "image/png": {
              "height": 414,
              "width": 708
            }
          },
          "output_type": "display_data"
        }
      ],
      "source": [
        "# set format as retina\n",
        "%config InlineBackend.figure_format = \"retina\"\n",
        "\n",
        "# set theme\n",
        "sns.set_theme(style=\"whitegrid\")\n",
        "\n",
        "# set subplots to 1*2\n",
        "fig, axs = plt.subplots(1, 2, figsize=(10,6))\n",
        "\n",
        "# ROC curves\n",
        "for i in range(len(models)):\n",
        "    k = models[i]\n",
        "    axs[0].plot(\n",
        "          fpr_dict[k],\n",
        "          tpr_dict[k],\n",
        "          label=\"ROC curve of {}(AUC = {:.3f})\".format(k, auc_dict[k]),\n",
        "          lw = 1,\n",
        "          alpha = 0.9\n",
        "    )\n",
        "\n",
        "# PR curves\n",
        "# reference line\n",
        "axs[0].plot([0, 1], [0, 1],\n",
        "        linestyle=\"dashed\",\n",
        "        lw=1.5,\n",
        "        color=\"red\",\n",
        "        label=\"Random Guess\")\n",
        "\n",
        "axs[0].set_title(\"Receiver Operating Characteristic Curves\", fontsize = 10)\n",
        "\n",
        "axs[0].set_xlabel(\"False Positive Rate\", fontsize = 10)\n",
        "axs[0].set_ylabel(\"True Positive Rate\", fontsize = 10)\n",
        "\n",
        "axs[0].set_xlim(-0.05, 1)\n",
        "axs[0].set_ylim(0, 1.05)\n",
        "\n",
        "# PR curve for each model\n",
        "for i in range(len(models)):\n",
        "    k = models[i]\n",
        "    axs[1].plot(\n",
        "            rc_dict[k],\n",
        "            pc_dict[k],\n",
        "            label=\"PR curve of {}(AP = {:.3f})\".format(k, ap_dict[k]),\n",
        "            lw = 1,\n",
        "            alpha = 0.9\n",
        "    )\n",
        "\n",
        "\n",
        "# reference line\n",
        "axs[1].axhline(y = np.sum(y_val) / len(y_val),\n",
        "        linestyle=\"dashed\",\n",
        "        lw=1.5,\n",
        "        color=\"red\",\n",
        "        label=\"Random Guess\")\n",
        "\n",
        "axs[1].set_title(\"Precision Recall Curves\", fontsize = 10)\n",
        "\n",
        "axs[1].set_xlabel(\"Recall\", fontsize = 10)\n",
        "axs[1].set_ylabel(\"Precision\", fontsize = 10)\n",
        "\n",
        "axs[1].set_xlim(0, 1.05)\n",
        "axs[1].set_ylim(0, 1.05)\n",
        "\n",
        "for j in range(2):\n",
        "    axs[j].tick_params(labelsize=8)\n",
        "        \n",
        "    legend = axs[j].legend(prop={'size': 8},\n",
        "                           loc=\"upper center\", bbox_to_anchor=(0.5, -0.15))\n",
        "\n",
        "# use tight layout to save space\n",
        "plt.tight_layout()\n",
        "\n",
        "plt.show()"
      ]
    },
    {
      "cell_type": "markdown",
      "metadata": {
        "id": "BO1ILdA6PoRM"
      },
      "source": [
        "##4. Experiments"
      ]
    },
    {
      "cell_type": "code",
      "execution_count": null,
      "metadata": {
        "id": "5EFLSZUUPtS9"
      },
      "outputs": [],
      "source": [
        "def transfer_prefetch(X, y):\n",
        "    \"\"\"Transfer np.array to tfds\n",
        "\n",
        "    Args:\n",
        "        X (np.array): numpy array for predictors\n",
        "        y (np.array): numpy array for the response variable\n",
        "\n",
        "    Returns:\n",
        "        tfds: tfds object for X and y\n",
        "    \"\"\"\n",
        "    train_tfds = tf.data.Dataset.from_tensor_slices(\n",
        "        (tf.convert_to_tensor(X), tf.convert_to_tensor(y))\n",
        "    )\n",
        "    train_tfds = train_tfds.cache().batch(32).prefetch(buffer_size=10)\n",
        "    return train_tfds\n"
      ]
    },
    {
      "cell_type": "markdown",
      "metadata": {
        "id": "mfSiebLugK02"
      },
      "source": [
        "Experiment 1: Held-one-out experiment for different subgroups. Details were introduced in slides and the report."
      ]
    },
    {
      "cell_type": "code",
      "execution_count": null,
      "metadata": {
        "colab": {
          "base_uri": "https://localhost:8080/"
        },
        "id": "DSq1MmD7QtAV",
        "outputId": "2b88652b-0036-442d-c341-bfc6b0543101"
      },
      "outputs": [
        {
          "name": "stdout",
          "output_type": "stream",
          "text": [
            "(3594, 200, 200, 3)\n",
            "Downloading data from https://storage.googleapis.com/tensorflow/keras-applications/resnet/resnet101v2_weights_tf_dim_ordering_tf_kernels_notop.h5\n",
            "171319296/171317808 [==============================] - 3s 0us/step\n",
            "171327488/171317808 [==============================] - 3s 0us/step\n",
            "Epoch 1/20\n",
            "113/113 [==============================] - 37s 174ms/step - loss: 0.6042 - binary_accuracy: 0.6644 - val_loss: 0.5132 - val_binary_accuracy: 0.7215\n",
            "Epoch 2/20\n",
            "113/113 [==============================] - 17s 153ms/step - loss: 0.5482 - binary_accuracy: 0.7042 - val_loss: 0.5052 - val_binary_accuracy: 0.7083\n",
            "Epoch 3/20\n",
            "113/113 [==============================] - 17s 154ms/step - loss: 0.5196 - binary_accuracy: 0.7293 - val_loss: 0.4838 - val_binary_accuracy: 0.7259\n",
            "Epoch 4/20\n",
            "113/113 [==============================] - 18s 156ms/step - loss: 0.5144 - binary_accuracy: 0.7290 - val_loss: 0.4825 - val_binary_accuracy: 0.7325\n",
            "Epoch 5/20\n",
            "113/113 [==============================] - 18s 158ms/step - loss: 0.5084 - binary_accuracy: 0.7298 - val_loss: 0.4544 - val_binary_accuracy: 0.7500\n",
            "Epoch 6/20\n",
            "113/113 [==============================] - 18s 159ms/step - loss: 0.4870 - binary_accuracy: 0.7499 - val_loss: 0.4516 - val_binary_accuracy: 0.7632\n",
            "Epoch 7/20\n",
            "113/113 [==============================] - 18s 160ms/step - loss: 0.4876 - binary_accuracy: 0.7454 - val_loss: 0.4652 - val_binary_accuracy: 0.7456\n",
            "Epoch 8/20\n",
            "113/113 [==============================] - 18s 160ms/step - loss: 0.4914 - binary_accuracy: 0.7454 - val_loss: 0.4600 - val_binary_accuracy: 0.7544\n",
            "Epoch 9/20\n",
            "113/113 [==============================] - 18s 159ms/step - loss: 0.4795 - binary_accuracy: 0.7535 - val_loss: 0.4588 - val_binary_accuracy: 0.7588\n",
            "Epoch 10/20\n",
            "113/113 [==============================] - 18s 159ms/step - loss: 0.4771 - binary_accuracy: 0.7613 - val_loss: 0.4718 - val_binary_accuracy: 0.7325\n",
            "Epoch 11/20\n",
            "113/113 [==============================] - 18s 160ms/step - loss: 0.4907 - binary_accuracy: 0.7496 - val_loss: 0.4515 - val_binary_accuracy: 0.7544\n",
            "Epoch 12/20\n",
            "113/113 [==============================] - 18s 160ms/step - loss: 0.4748 - binary_accuracy: 0.7590 - val_loss: 0.4447 - val_binary_accuracy: 0.7675\n",
            "Epoch 13/20\n",
            "113/113 [==============================] - 18s 160ms/step - loss: 0.4799 - binary_accuracy: 0.7479 - val_loss: 0.4566 - val_binary_accuracy: 0.7544\n",
            "Epoch 14/20\n",
            "113/113 [==============================] - 18s 160ms/step - loss: 0.4798 - binary_accuracy: 0.7579 - val_loss: 0.4510 - val_binary_accuracy: 0.7566\n",
            "Epoch 15/20\n",
            "113/113 [==============================] - 18s 159ms/step - loss: 0.4626 - binary_accuracy: 0.7585 - val_loss: 0.4563 - val_binary_accuracy: 0.7544\n",
            "Epoch 16/20\n",
            "113/113 [==============================] - 18s 159ms/step - loss: 0.4739 - binary_accuracy: 0.7632 - val_loss: 0.4531 - val_binary_accuracy: 0.7544\n",
            "Epoch 17/20\n",
            "113/113 [==============================] - 18s 159ms/step - loss: 0.4731 - binary_accuracy: 0.7532 - val_loss: 0.4569 - val_binary_accuracy: 0.7478\n",
            "Epoch 18/20\n",
            "113/113 [==============================] - 18s 159ms/step - loss: 0.4703 - binary_accuracy: 0.7543 - val_loss: 0.4585 - val_binary_accuracy: 0.7346\n",
            "Epoch 19/20\n",
            "113/113 [==============================] - 18s 159ms/step - loss: 0.4678 - binary_accuracy: 0.7577 - val_loss: 0.4355 - val_binary_accuracy: 0.7610\n",
            "Epoch 20/20\n",
            "113/113 [==============================] - 18s 159ms/step - loss: 0.4676 - binary_accuracy: 0.7705 - val_loss: 0.4482 - val_binary_accuracy: 0.7632\n",
            "Epoch 1/10\n",
            "113/113 [==============================] - 68s 501ms/step - loss: 0.4696 - binary_accuracy: 0.7529 - val_loss: 0.4576 - val_binary_accuracy: 0.7566\n",
            "Epoch 2/10\n",
            "113/113 [==============================] - 54s 476ms/step - loss: 0.4183 - binary_accuracy: 0.7894 - val_loss: 0.3894 - val_binary_accuracy: 0.8092\n",
            "Epoch 3/10\n",
            "113/113 [==============================] - 54s 477ms/step - loss: 0.3988 - binary_accuracy: 0.8036 - val_loss: 0.3688 - val_binary_accuracy: 0.8048\n",
            "Epoch 4/10\n",
            "113/113 [==============================] - 54s 476ms/step - loss: 0.3709 - binary_accuracy: 0.8155 - val_loss: 0.3713 - val_binary_accuracy: 0.8136\n",
            "Epoch 5/10\n",
            "113/113 [==============================] - 54s 477ms/step - loss: 0.3437 - binary_accuracy: 0.8303 - val_loss: 0.3875 - val_binary_accuracy: 0.8070\n",
            "Epoch 6/10\n",
            "113/113 [==============================] - 54s 477ms/step - loss: 0.3232 - binary_accuracy: 0.8459 - val_loss: 0.3500 - val_binary_accuracy: 0.8399\n",
            "Epoch 7/10\n",
            "113/113 [==============================] - 54s 477ms/step - loss: 0.3069 - binary_accuracy: 0.8525 - val_loss: 0.3433 - val_binary_accuracy: 0.8333\n",
            "Epoch 8/10\n",
            "113/113 [==============================] - 54s 477ms/step - loss: 0.2914 - binary_accuracy: 0.8612 - val_loss: 0.3409 - val_binary_accuracy: 0.8355\n",
            "Epoch 9/10\n",
            "113/113 [==============================] - 54s 477ms/step - loss: 0.2662 - binary_accuracy: 0.8840 - val_loss: 0.3918 - val_binary_accuracy: 0.8268\n",
            "Epoch 10/10\n",
            "113/113 [==============================] - 54s 476ms/step - loss: 0.2584 - binary_accuracy: 0.8820 - val_loss: 0.3475 - val_binary_accuracy: 0.8311\n",
            "The AUC is 0.93635\n",
            "The AP is 0.95234\n",
            "The AUC is 0.77381\n",
            "The AP is 0.74491\n",
            "The AUC is 0.92580\n",
            "The AP is 0.95406\n",
            "The AUC is 0.94085\n",
            "The AP is 0.95896\n",
            "(7497, 200, 200, 3)\n",
            "Epoch 1/20\n",
            "235/235 [==============================] - 45s 169ms/step - loss: 0.5400 - binary_accuracy: 0.7186 - val_loss: 0.4439 - val_binary_accuracy: 0.7722\n",
            "Epoch 2/20\n",
            "235/235 [==============================] - 37s 160ms/step - loss: 0.4751 - binary_accuracy: 0.7590 - val_loss: 0.4264 - val_binary_accuracy: 0.7638\n",
            "Epoch 3/20\n",
            "235/235 [==============================] - 37s 159ms/step - loss: 0.4632 - binary_accuracy: 0.7652 - val_loss: 0.4271 - val_binary_accuracy: 0.7606\n",
            "Epoch 4/20\n",
            "235/235 [==============================] - 37s 160ms/step - loss: 0.4510 - binary_accuracy: 0.7758 - val_loss: 0.4159 - val_binary_accuracy: 0.7839\n",
            "Epoch 5/20\n",
            "235/235 [==============================] - 37s 159ms/step - loss: 0.4407 - binary_accuracy: 0.7827 - val_loss: 0.4139 - val_binary_accuracy: 0.7871\n",
            "Epoch 6/20\n",
            "235/235 [==============================] - 37s 159ms/step - loss: 0.4387 - binary_accuracy: 0.7831 - val_loss: 0.4107 - val_binary_accuracy: 0.7881\n",
            "Epoch 7/20\n",
            "235/235 [==============================] - 37s 159ms/step - loss: 0.4442 - binary_accuracy: 0.7739 - val_loss: 0.3988 - val_binary_accuracy: 0.7966\n",
            "Epoch 8/20\n",
            "235/235 [==============================] - 37s 159ms/step - loss: 0.4390 - binary_accuracy: 0.7796 - val_loss: 0.4022 - val_binary_accuracy: 0.7828\n",
            "Epoch 9/20\n",
            "235/235 [==============================] - 37s 159ms/step - loss: 0.4382 - binary_accuracy: 0.7846 - val_loss: 0.3978 - val_binary_accuracy: 0.7924\n",
            "Epoch 10/20\n",
            "235/235 [==============================] - 37s 159ms/step - loss: 0.4358 - binary_accuracy: 0.7850 - val_loss: 0.4008 - val_binary_accuracy: 0.7903\n",
            "Epoch 11/20\n",
            "235/235 [==============================] - 37s 159ms/step - loss: 0.4282 - binary_accuracy: 0.7884 - val_loss: 0.4006 - val_binary_accuracy: 0.7924\n",
            "Epoch 12/20\n",
            "235/235 [==============================] - 37s 159ms/step - loss: 0.4270 - binary_accuracy: 0.7904 - val_loss: 0.3988 - val_binary_accuracy: 0.7934\n",
            "Epoch 13/20\n",
            "235/235 [==============================] - 37s 159ms/step - loss: 0.4328 - binary_accuracy: 0.7868 - val_loss: 0.3963 - val_binary_accuracy: 0.8019\n",
            "Epoch 14/20\n",
            "235/235 [==============================] - 37s 159ms/step - loss: 0.4349 - binary_accuracy: 0.7874 - val_loss: 0.3973 - val_binary_accuracy: 0.7924\n",
            "Epoch 15/20\n",
            "235/235 [==============================] - 37s 159ms/step - loss: 0.4318 - binary_accuracy: 0.7868 - val_loss: 0.3936 - val_binary_accuracy: 0.7934\n",
            "Epoch 16/20\n",
            "235/235 [==============================] - 37s 159ms/step - loss: 0.4281 - binary_accuracy: 0.7906 - val_loss: 0.3963 - val_binary_accuracy: 0.7924\n",
            "Epoch 17/20\n",
            "235/235 [==============================] - 37s 159ms/step - loss: 0.4228 - binary_accuracy: 0.7902 - val_loss: 0.3992 - val_binary_accuracy: 0.7924\n",
            "Epoch 18/20\n",
            "235/235 [==============================] - 37s 159ms/step - loss: 0.4251 - binary_accuracy: 0.7937 - val_loss: 0.3961 - val_binary_accuracy: 0.8008\n",
            "Epoch 19/20\n",
            "235/235 [==============================] - 37s 159ms/step - loss: 0.4262 - binary_accuracy: 0.7921 - val_loss: 0.4029 - val_binary_accuracy: 0.7881\n",
            "Epoch 20/20\n",
            "235/235 [==============================] - 37s 159ms/step - loss: 0.4239 - binary_accuracy: 0.7930 - val_loss: 0.3961 - val_binary_accuracy: 0.7977\n",
            "Epoch 1/10\n",
            "235/235 [==============================] - 125s 489ms/step - loss: 0.4090 - binary_accuracy: 0.7993 - val_loss: 0.3610 - val_binary_accuracy: 0.8167\n",
            "Epoch 2/10\n",
            "235/235 [==============================] - 112s 478ms/step - loss: 0.3516 - binary_accuracy: 0.8358 - val_loss: 0.3122 - val_binary_accuracy: 0.8252\n",
            "Epoch 3/10\n",
            "235/235 [==============================] - 112s 479ms/step - loss: 0.3180 - binary_accuracy: 0.8462 - val_loss: 0.2915 - val_binary_accuracy: 0.8549\n",
            "Epoch 4/10\n",
            "235/235 [==============================] - 112s 478ms/step - loss: 0.2912 - binary_accuracy: 0.8653 - val_loss: 0.2904 - val_binary_accuracy: 0.8496\n",
            "Epoch 5/10\n",
            "235/235 [==============================] - 112s 478ms/step - loss: 0.2782 - binary_accuracy: 0.8715 - val_loss: 0.2945 - val_binary_accuracy: 0.8528\n",
            "Epoch 6/10\n",
            "235/235 [==============================] - 112s 478ms/step - loss: 0.2575 - binary_accuracy: 0.8829 - val_loss: 0.2630 - val_binary_accuracy: 0.8549\n",
            "Epoch 7/10\n",
            "235/235 [==============================] - 112s 478ms/step - loss: 0.2456 - binary_accuracy: 0.8856 - val_loss: 0.2743 - val_binary_accuracy: 0.8602\n",
            "Epoch 8/10\n",
            "235/235 [==============================] - 112s 478ms/step - loss: 0.2303 - binary_accuracy: 0.8953 - val_loss: 0.2760 - val_binary_accuracy: 0.8686\n",
            "Epoch 9/10\n",
            "235/235 [==============================] - 112s 478ms/step - loss: 0.2265 - binary_accuracy: 0.8981 - val_loss: 0.2706 - val_binary_accuracy: 0.8686\n",
            "Epoch 10/10\n",
            "235/235 [==============================] - 112s 478ms/step - loss: 0.2093 - binary_accuracy: 0.9040 - val_loss: 0.2424 - val_binary_accuracy: 0.8888\n",
            "The AUC is 0.98092\n",
            "The AP is 0.98584\n",
            "The AUC is 0.85714\n",
            "The AP is 0.83928\n",
            "The AUC is 0.93013\n",
            "The AP is 0.95277\n",
            "The AUC is 0.94639\n",
            "The AP is 0.95524\n",
            "(5417, 200, 200, 3)\n",
            "Epoch 1/20\n",
            "170/170 [==============================] - 36s 172ms/step - loss: 0.5138 - binary_accuracy: 0.7340 - val_loss: 0.4224 - val_binary_accuracy: 0.7914\n",
            "Epoch 2/20\n",
            "170/170 [==============================] - 27s 161ms/step - loss: 0.4640 - binary_accuracy: 0.7680 - val_loss: 0.3964 - val_binary_accuracy: 0.8121\n",
            "Epoch 3/20\n",
            "170/170 [==============================] - 27s 159ms/step - loss: 0.4445 - binary_accuracy: 0.7803 - val_loss: 0.3846 - val_binary_accuracy: 0.8121\n",
            "Epoch 4/20\n",
            "170/170 [==============================] - 27s 159ms/step - loss: 0.4289 - binary_accuracy: 0.7905 - val_loss: 0.3818 - val_binary_accuracy: 0.8299\n",
            "Epoch 5/20\n",
            "170/170 [==============================] - 27s 160ms/step - loss: 0.4233 - binary_accuracy: 0.7934 - val_loss: 0.3761 - val_binary_accuracy: 0.8240\n",
            "Epoch 6/20\n",
            "170/170 [==============================] - 27s 160ms/step - loss: 0.4184 - binary_accuracy: 0.7986 - val_loss: 0.3745 - val_binary_accuracy: 0.8240\n",
            "Epoch 7/20\n",
            "170/170 [==============================] - 27s 159ms/step - loss: 0.4123 - binary_accuracy: 0.8034 - val_loss: 0.3681 - val_binary_accuracy: 0.8284\n",
            "Epoch 8/20\n",
            "170/170 [==============================] - 27s 159ms/step - loss: 0.4039 - binary_accuracy: 0.8110 - val_loss: 0.3708 - val_binary_accuracy: 0.8284\n",
            "Epoch 9/20\n",
            "170/170 [==============================] - 27s 160ms/step - loss: 0.4076 - binary_accuracy: 0.8100 - val_loss: 0.3689 - val_binary_accuracy: 0.8284\n",
            "Epoch 10/20\n",
            "170/170 [==============================] - 27s 160ms/step - loss: 0.3970 - binary_accuracy: 0.8139 - val_loss: 0.3678 - val_binary_accuracy: 0.8225\n",
            "Epoch 11/20\n",
            "170/170 [==============================] - 27s 160ms/step - loss: 0.3959 - binary_accuracy: 0.8134 - val_loss: 0.3667 - val_binary_accuracy: 0.8195\n",
            "Epoch 12/20\n",
            "170/170 [==============================] - 27s 159ms/step - loss: 0.4010 - binary_accuracy: 0.8071 - val_loss: 0.3652 - val_binary_accuracy: 0.8195\n",
            "Epoch 13/20\n",
            "170/170 [==============================] - 27s 160ms/step - loss: 0.3948 - binary_accuracy: 0.8073 - val_loss: 0.3631 - val_binary_accuracy: 0.8151\n",
            "Epoch 14/20\n",
            "170/170 [==============================] - 27s 160ms/step - loss: 0.4025 - binary_accuracy: 0.8038 - val_loss: 0.3642 - val_binary_accuracy: 0.8195\n",
            "Epoch 15/20\n",
            "170/170 [==============================] - 27s 160ms/step - loss: 0.3979 - binary_accuracy: 0.8106 - val_loss: 0.3680 - val_binary_accuracy: 0.8225\n",
            "Epoch 16/20\n",
            "170/170 [==============================] - 27s 160ms/step - loss: 0.3953 - binary_accuracy: 0.8064 - val_loss: 0.3609 - val_binary_accuracy: 0.8240\n",
            "Epoch 17/20\n",
            "170/170 [==============================] - 27s 160ms/step - loss: 0.3894 - binary_accuracy: 0.8154 - val_loss: 0.3584 - val_binary_accuracy: 0.8269\n",
            "Epoch 18/20\n",
            "170/170 [==============================] - 27s 159ms/step - loss: 0.3901 - binary_accuracy: 0.8141 - val_loss: 0.3660 - val_binary_accuracy: 0.8077\n",
            "Epoch 19/20\n",
            "170/170 [==============================] - 27s 160ms/step - loss: 0.3929 - binary_accuracy: 0.8141 - val_loss: 0.3588 - val_binary_accuracy: 0.8151\n",
            "Epoch 20/20\n",
            "170/170 [==============================] - 27s 160ms/step - loss: 0.3895 - binary_accuracy: 0.8141 - val_loss: 0.3641 - val_binary_accuracy: 0.8402\n",
            "Epoch 1/10\n",
            "170/170 [==============================] - 93s 487ms/step - loss: 0.3789 - binary_accuracy: 0.8193 - val_loss: 0.3256 - val_binary_accuracy: 0.8284\n",
            "Epoch 2/10\n",
            "170/170 [==============================] - 81s 478ms/step - loss: 0.3294 - binary_accuracy: 0.8440 - val_loss: 0.2926 - val_binary_accuracy: 0.8713\n",
            "Epoch 3/10\n",
            "170/170 [==============================] - 81s 478ms/step - loss: 0.2834 - binary_accuracy: 0.8673 - val_loss: 0.2814 - val_binary_accuracy: 0.8609\n",
            "Epoch 4/10\n",
            "170/170 [==============================] - 81s 479ms/step - loss: 0.2598 - binary_accuracy: 0.8819 - val_loss: 0.2574 - val_binary_accuracy: 0.8802\n",
            "Epoch 5/10\n",
            "170/170 [==============================] - 81s 478ms/step - loss: 0.2409 - binary_accuracy: 0.8939 - val_loss: 0.2523 - val_binary_accuracy: 0.8817\n",
            "Epoch 6/10\n",
            "170/170 [==============================] - 81s 477ms/step - loss: 0.2123 - binary_accuracy: 0.9016 - val_loss: 0.2647 - val_binary_accuracy: 0.8861\n",
            "Epoch 7/10\n",
            "170/170 [==============================] - 81s 477ms/step - loss: 0.2002 - binary_accuracy: 0.9125 - val_loss: 0.2461 - val_binary_accuracy: 0.9038\n",
            "Epoch 8/10\n",
            "170/170 [==============================] - 81s 477ms/step - loss: 0.2005 - binary_accuracy: 0.9125 - val_loss: 0.2394 - val_binary_accuracy: 0.8950\n",
            "Epoch 9/10\n",
            "170/170 [==============================] - 81s 477ms/step - loss: 0.1919 - binary_accuracy: 0.9186 - val_loss: 0.2541 - val_binary_accuracy: 0.8964\n",
            "Epoch 10/10\n",
            "170/170 [==============================] - 81s 477ms/step - loss: 0.1734 - binary_accuracy: 0.9260 - val_loss: 0.2294 - val_binary_accuracy: 0.8994\n",
            "The AUC is 0.97182\n",
            "The AP is 0.97803\n",
            "The AUC is 0.87103\n",
            "The AP is 0.85461\n",
            "The AUC is 0.90871\n",
            "The AP is 0.94053\n",
            "The AUC is 0.94406\n",
            "The AP is 0.95085\n",
            "(6961, 200, 200, 3)\n",
            "Epoch 1/20\n",
            "218/218 [==============================] - 43s 169ms/step - loss: 0.5548 - binary_accuracy: 0.7022 - val_loss: 0.4460 - val_binary_accuracy: 0.7669\n",
            "Epoch 2/20\n",
            "218/218 [==============================] - 35s 159ms/step - loss: 0.4831 - binary_accuracy: 0.7585 - val_loss: 0.4325 - val_binary_accuracy: 0.7879\n",
            "Epoch 3/20\n",
            "218/218 [==============================] - 35s 159ms/step - loss: 0.4710 - binary_accuracy: 0.7633 - val_loss: 0.4230 - val_binary_accuracy: 0.7786\n",
            "Epoch 4/20\n",
            "218/218 [==============================] - 35s 159ms/step - loss: 0.4580 - binary_accuracy: 0.7677 - val_loss: 0.4153 - val_binary_accuracy: 0.7716\n",
            "Epoch 5/20\n",
            "218/218 [==============================] - 35s 159ms/step - loss: 0.4494 - binary_accuracy: 0.7691 - val_loss: 0.4212 - val_binary_accuracy: 0.7832\n",
            "Epoch 6/20\n",
            "218/218 [==============================] - 35s 159ms/step - loss: 0.4470 - binary_accuracy: 0.7806 - val_loss: 0.4129 - val_binary_accuracy: 0.7832\n",
            "Epoch 7/20\n",
            "218/218 [==============================] - 35s 159ms/step - loss: 0.4478 - binary_accuracy: 0.7756 - val_loss: 0.4100 - val_binary_accuracy: 0.7809\n",
            "Epoch 8/20\n",
            "218/218 [==============================] - 35s 159ms/step - loss: 0.4417 - binary_accuracy: 0.7819 - val_loss: 0.4086 - val_binary_accuracy: 0.7890\n",
            "Epoch 9/20\n",
            "218/218 [==============================] - 35s 159ms/step - loss: 0.4372 - binary_accuracy: 0.7816 - val_loss: 0.4067 - val_binary_accuracy: 0.7867\n",
            "Epoch 10/20\n",
            "218/218 [==============================] - 35s 159ms/step - loss: 0.4314 - binary_accuracy: 0.7894 - val_loss: 0.4047 - val_binary_accuracy: 0.7925\n",
            "Epoch 11/20\n",
            "218/218 [==============================] - 35s 159ms/step - loss: 0.4254 - binary_accuracy: 0.7865 - val_loss: 0.4068 - val_binary_accuracy: 0.7984\n",
            "Epoch 12/20\n",
            "218/218 [==============================] - 35s 159ms/step - loss: 0.4271 - binary_accuracy: 0.7880 - val_loss: 0.4101 - val_binary_accuracy: 0.7879\n",
            "Epoch 13/20\n",
            "218/218 [==============================] - 35s 159ms/step - loss: 0.4342 - binary_accuracy: 0.7849 - val_loss: 0.4038 - val_binary_accuracy: 0.7855\n",
            "Epoch 14/20\n",
            "218/218 [==============================] - 35s 159ms/step - loss: 0.4309 - binary_accuracy: 0.7897 - val_loss: 0.4054 - val_binary_accuracy: 0.7984\n",
            "Epoch 15/20\n",
            "218/218 [==============================] - 35s 159ms/step - loss: 0.4302 - binary_accuracy: 0.7865 - val_loss: 0.4085 - val_binary_accuracy: 0.7902\n",
            "Epoch 16/20\n",
            "218/218 [==============================] - 35s 159ms/step - loss: 0.4318 - binary_accuracy: 0.7855 - val_loss: 0.4111 - val_binary_accuracy: 0.7972\n",
            "Epoch 17/20\n",
            "218/218 [==============================] - 35s 159ms/step - loss: 0.4300 - binary_accuracy: 0.7867 - val_loss: 0.4195 - val_binary_accuracy: 0.7879\n",
            "Epoch 18/20\n",
            "218/218 [==============================] - 35s 159ms/step - loss: 0.4214 - binary_accuracy: 0.7946 - val_loss: 0.4137 - val_binary_accuracy: 0.7914\n",
            "Epoch 19/20\n",
            "218/218 [==============================] - 35s 159ms/step - loss: 0.4133 - binary_accuracy: 0.7931 - val_loss: 0.4131 - val_binary_accuracy: 0.7855\n",
            "Epoch 20/20\n",
            "218/218 [==============================] - 35s 159ms/step - loss: 0.4187 - binary_accuracy: 0.7884 - val_loss: 0.4119 - val_binary_accuracy: 0.7960\n",
            "Epoch 1/10\n",
            "218/218 [==============================] - 116s 490ms/step - loss: 0.4228 - binary_accuracy: 0.7861 - val_loss: 0.3413 - val_binary_accuracy: 0.8275\n",
            "Epoch 2/10\n",
            "218/218 [==============================] - 104s 477ms/step - loss: 0.3460 - binary_accuracy: 0.8325 - val_loss: 0.3332 - val_binary_accuracy: 0.8322\n",
            "Epoch 3/10\n",
            "218/218 [==============================] - 104s 478ms/step - loss: 0.3137 - binary_accuracy: 0.8483 - val_loss: 0.3048 - val_binary_accuracy: 0.8403\n",
            "Epoch 4/10\n",
            "218/218 [==============================] - 104s 478ms/step - loss: 0.2919 - binary_accuracy: 0.8579 - val_loss: 0.3146 - val_binary_accuracy: 0.8415\n",
            "Epoch 5/10\n",
            "218/218 [==============================] - 104s 478ms/step - loss: 0.2657 - binary_accuracy: 0.8742 - val_loss: 0.2798 - val_binary_accuracy: 0.8613\n",
            "Epoch 6/10\n",
            "218/218 [==============================] - 104s 477ms/step - loss: 0.2501 - binary_accuracy: 0.8828 - val_loss: 0.2774 - val_binary_accuracy: 0.8671\n",
            "Epoch 7/10\n",
            "218/218 [==============================] - 104s 477ms/step - loss: 0.2323 - binary_accuracy: 0.8914 - val_loss: 0.2916 - val_binary_accuracy: 0.8660\n",
            "Epoch 8/10\n",
            "218/218 [==============================] - 104s 477ms/step - loss: 0.2247 - binary_accuracy: 0.8981 - val_loss: 0.2796 - val_binary_accuracy: 0.8648\n",
            "Epoch 9/10\n",
            "218/218 [==============================] - 104s 477ms/step - loss: 0.2038 - binary_accuracy: 0.9072 - val_loss: 0.2847 - val_binary_accuracy: 0.8660\n",
            "Epoch 10/10\n",
            "218/218 [==============================] - 104s 477ms/step - loss: 0.2005 - binary_accuracy: 0.9060 - val_loss: 0.2793 - val_binary_accuracy: 0.8683\n",
            "The AUC is 0.97569\n",
            "The AP is 0.98253\n",
            "The AUC is 0.86508\n",
            "The AP is 0.84655\n",
            "The AUC is 0.92900\n",
            "The AP is 0.95433\n",
            "The AUC is 0.93998\n",
            "The AP is 0.93015\n"
          ]
        }
      ],
      "source": [
        "auc_exp, ap_exp = [], []\n",
        "for r in range(4):\n",
        "    X_exp_train = data_exp_r[r][\"train\"][\"X\"]\n",
        "    y_exp_train = data_exp_r[r][\"train\"][\"y\"]\n",
        "\n",
        "    X_exp_val = data_exp_r[r][\"val\"][\"X\"]\n",
        "    y_exp_val = data_exp_r[r][\"val\"][\"y\"]\n",
        "\n",
        "    X_exp_test = data_exp_r[r][\"test\"][\"X\"]\n",
        "    y_exp_test = data_exp_r[r][\"test\"][\"y\"]\n",
        "\n",
        "    print(X_exp_train.shape)\n",
        "\n",
        "    tfds_exp_train = transfer_prefetch(X_exp_train, y_exp_train)\n",
        "    tfds_exp_val = transfer_prefetch(X_exp_val, y_exp_val)\n",
        "\n",
        "    # training\n",
        "    model = buiding_and_tuning_model(\n",
        "        tfds_exp_train, tfds_exp_val, 0.1, epochs_top=20, epochs_finetuning=10\n",
        "    )\n",
        "\n",
        "    # evaluation\n",
        "    auc_temp, ap_temp = [], []\n",
        "    for t in range(4):\n",
        "        X_exp_test_sub = X_exp_test[t]\n",
        "        y_exp_test_sub = y_exp_test[t]\n",
        "        tfds_exp_test = transfer_prefetch(X_exp_test_sub, y_exp_test_sub)\n",
        "        y_test_prob, auc, ap = model_evl(model, tfds_exp_test, y_exp_test_sub, True)\n",
        "        auc_temp.append(auc)\n",
        "        ap_temp.append(ap)\n",
        "    auc_exp.append(auc_temp)\n",
        "    ap_exp.append(ap_temp)\n"
      ]
    },
    {
      "cell_type": "markdown",
      "metadata": {
        "id": "XAIPHuTweypg"
      },
      "source": [
        "Experiment 2: Imbalanced data (80%, 20%). Details were introduced in slides and the report."
      ]
    },
    {
      "cell_type": "code",
      "execution_count": null,
      "metadata": {
        "colab": {
          "base_uri": "https://localhost:8080/"
        },
        "id": "y4DjPcypTCni",
        "outputId": "4dca8793-317a-4abd-88bc-726d5dfd8027"
      },
      "outputs": [
        {
          "name": "stdout",
          "output_type": "stream",
          "text": [
            "Epoch 1/20\n",
            "69/69 [==============================] - 19s 192ms/step - loss: 0.9521 - binary_accuracy: 0.7932 - val_loss: 1.8544 - val_binary_accuracy: 0.2109\n",
            "Epoch 2/20\n",
            "69/69 [==============================] - 11s 161ms/step - loss: 1.4135 - binary_accuracy: 0.6205 - val_loss: 0.8523 - val_binary_accuracy: 0.6509\n",
            "Epoch 3/20\n",
            "69/69 [==============================] - 11s 162ms/step - loss: 1.0342 - binary_accuracy: 0.6683 - val_loss: 0.9127 - val_binary_accuracy: 0.5855\n",
            "Epoch 4/20\n",
            "69/69 [==============================] - 11s 161ms/step - loss: 0.9764 - binary_accuracy: 0.6802 - val_loss: 0.7641 - val_binary_accuracy: 0.6618\n",
            "Epoch 5/20\n",
            "69/69 [==============================] - 11s 160ms/step - loss: 0.8912 - binary_accuracy: 0.6952 - val_loss: 0.6946 - val_binary_accuracy: 0.7200\n",
            "Epoch 6/20\n",
            "69/69 [==============================] - 11s 159ms/step - loss: 0.8397 - binary_accuracy: 0.7189 - val_loss: 0.6521 - val_binary_accuracy: 0.7455\n",
            "Epoch 7/20\n",
            "69/69 [==============================] - 11s 159ms/step - loss: 0.8162 - binary_accuracy: 0.7298 - val_loss: 0.6361 - val_binary_accuracy: 0.7564\n",
            "Epoch 8/20\n",
            "69/69 [==============================] - 11s 159ms/step - loss: 0.8163 - binary_accuracy: 0.7326 - val_loss: 0.6115 - val_binary_accuracy: 0.7782\n",
            "Epoch 9/20\n",
            "69/69 [==============================] - 11s 159ms/step - loss: 0.8224 - binary_accuracy: 0.7417 - val_loss: 0.6350 - val_binary_accuracy: 0.7527\n",
            "Epoch 10/20\n",
            "69/69 [==============================] - 11s 160ms/step - loss: 0.8054 - binary_accuracy: 0.7435 - val_loss: 0.6164 - val_binary_accuracy: 0.7709\n",
            "Epoch 11/20\n",
            "69/69 [==============================] - 11s 160ms/step - loss: 0.7681 - binary_accuracy: 0.7481 - val_loss: 0.6112 - val_binary_accuracy: 0.7709\n",
            "Epoch 12/20\n",
            "69/69 [==============================] - 11s 160ms/step - loss: 0.7678 - binary_accuracy: 0.7503 - val_loss: 0.5755 - val_binary_accuracy: 0.7927\n",
            "Epoch 13/20\n",
            "69/69 [==============================] - 11s 160ms/step - loss: 0.7366 - binary_accuracy: 0.7544 - val_loss: 0.5929 - val_binary_accuracy: 0.7855\n",
            "Epoch 14/20\n",
            "69/69 [==============================] - 11s 160ms/step - loss: 0.7537 - binary_accuracy: 0.7604 - val_loss: 0.5765 - val_binary_accuracy: 0.8000\n",
            "Epoch 15/20\n",
            "69/69 [==============================] - 11s 159ms/step - loss: 0.7221 - binary_accuracy: 0.7631 - val_loss: 0.6023 - val_binary_accuracy: 0.7855\n",
            "Epoch 16/20\n",
            "69/69 [==============================] - 11s 159ms/step - loss: 0.7351 - binary_accuracy: 0.7686 - val_loss: 0.6240 - val_binary_accuracy: 0.7818\n",
            "Epoch 17/20\n",
            "69/69 [==============================] - 11s 159ms/step - loss: 0.7221 - binary_accuracy: 0.7667 - val_loss: 0.6752 - val_binary_accuracy: 0.7564\n",
            "Epoch 18/20\n",
            "69/69 [==============================] - 11s 159ms/step - loss: 0.7704 - binary_accuracy: 0.7531 - val_loss: 0.6415 - val_binary_accuracy: 0.7818\n",
            "Epoch 19/20\n",
            "69/69 [==============================] - 11s 160ms/step - loss: 0.7370 - binary_accuracy: 0.7658 - val_loss: 0.5753 - val_binary_accuracy: 0.8000\n",
            "Epoch 20/20\n",
            "69/69 [==============================] - 11s 160ms/step - loss: 0.7198 - binary_accuracy: 0.7790 - val_loss: 0.6155 - val_binary_accuracy: 0.7891\n",
            "Epoch 1/10\n",
            "69/69 [==============================] - 46s 519ms/step - loss: 0.7962 - binary_accuracy: 0.8533 - val_loss: 2.0536 - val_binary_accuracy: 0.2000\n",
            "Epoch 2/10\n",
            "69/69 [==============================] - 33s 476ms/step - loss: 0.9281 - binary_accuracy: 0.7112 - val_loss: 0.8026 - val_binary_accuracy: 0.7127\n",
            "Epoch 3/10\n",
            "69/69 [==============================] - 33s 474ms/step - loss: 0.7367 - binary_accuracy: 0.8260 - val_loss: 5.3418 - val_binary_accuracy: 0.2000\n",
            "Epoch 4/10\n",
            "69/69 [==============================] - 33s 476ms/step - loss: 1.1193 - binary_accuracy: 0.6843 - val_loss: 0.6608 - val_binary_accuracy: 0.8000\n",
            "Epoch 5/10\n",
            "69/69 [==============================] - 33s 476ms/step - loss: 0.7249 - binary_accuracy: 0.8875 - val_loss: 4.2466 - val_binary_accuracy: 0.2000\n",
            "Epoch 6/10\n",
            "69/69 [==============================] - 33s 474ms/step - loss: 1.0552 - binary_accuracy: 0.7850 - val_loss: 4.8107 - val_binary_accuracy: 0.2000\n",
            "Epoch 7/10\n",
            "69/69 [==============================] - 33s 474ms/step - loss: 1.5875 - binary_accuracy: 0.7344 - val_loss: 0.6712 - val_binary_accuracy: 0.8000\n",
            "Epoch 8/10\n",
            "69/69 [==============================] - 33s 475ms/step - loss: 0.7088 - binary_accuracy: 0.8000 - val_loss: 0.5673 - val_binary_accuracy: 0.8000\n",
            "Epoch 9/10\n",
            "69/69 [==============================] - 33s 475ms/step - loss: 0.6391 - binary_accuracy: 0.8000 - val_loss: 0.5239 - val_binary_accuracy: 0.8000\n",
            "Epoch 10/10\n",
            "69/69 [==============================] - 33s 475ms/step - loss: 0.5879 - binary_accuracy: 0.8000 - val_loss: 0.5082 - val_binary_accuracy: 0.8000\n",
            "The AUC is 0.67286\n",
            "The AP is 0.73619\n",
            "The AUC is 0.67286\n",
            "The AP is 0.73619\n",
            "Epoch 1/20\n",
            "88/88 [==============================] - 22s 187ms/step - loss: 0.6894 - binary_accuracy: 0.8769 - val_loss: 3.5233 - val_binary_accuracy: 0.1994\n",
            "Epoch 2/20\n",
            "88/88 [==============================] - 14s 160ms/step - loss: 1.6201 - binary_accuracy: 0.6725 - val_loss: 1.7602 - val_binary_accuracy: 0.2023\n",
            "Epoch 3/20\n",
            "88/88 [==============================] - 14s 161ms/step - loss: 1.0595 - binary_accuracy: 0.7053 - val_loss: 1.9379 - val_binary_accuracy: 0.2222\n",
            "Epoch 4/20\n",
            "88/88 [==============================] - 14s 160ms/step - loss: 0.9979 - binary_accuracy: 0.7242 - val_loss: 1.8655 - val_binary_accuracy: 0.2450\n",
            "Epoch 5/20\n",
            "88/88 [==============================] - 14s 159ms/step - loss: 0.9260 - binary_accuracy: 0.7267 - val_loss: 1.7612 - val_binary_accuracy: 0.2821\n",
            "Epoch 6/20\n",
            "88/88 [==============================] - 14s 159ms/step - loss: 0.8471 - binary_accuracy: 0.7403 - val_loss: 1.7736 - val_binary_accuracy: 0.2963\n",
            "Epoch 7/20\n",
            "88/88 [==============================] - 14s 159ms/step - loss: 0.8704 - binary_accuracy: 0.7413 - val_loss: 1.7624 - val_binary_accuracy: 0.3191\n",
            "Epoch 8/20\n",
            "88/88 [==============================] - 14s 159ms/step - loss: 0.8462 - binary_accuracy: 0.7474 - val_loss: 1.6986 - val_binary_accuracy: 0.3590\n",
            "Epoch 9/20\n",
            "88/88 [==============================] - 14s 159ms/step - loss: 0.8306 - binary_accuracy: 0.7542 - val_loss: 1.7083 - val_binary_accuracy: 0.3647\n",
            "Epoch 10/20\n",
            "88/88 [==============================] - 14s 159ms/step - loss: 0.8496 - binary_accuracy: 0.7492 - val_loss: 1.6170 - val_binary_accuracy: 0.3960\n",
            "Epoch 11/20\n",
            "88/88 [==============================] - 14s 159ms/step - loss: 0.8193 - binary_accuracy: 0.7599 - val_loss: 1.6367 - val_binary_accuracy: 0.3989\n",
            "Epoch 12/20\n",
            "88/88 [==============================] - 14s 159ms/step - loss: 0.7971 - binary_accuracy: 0.7635 - val_loss: 1.6103 - val_binary_accuracy: 0.4046\n",
            "Epoch 13/20\n",
            "88/88 [==============================] - 14s 159ms/step - loss: 0.8138 - binary_accuracy: 0.7677 - val_loss: 1.6597 - val_binary_accuracy: 0.4017\n",
            "Epoch 14/20\n",
            "88/88 [==============================] - 14s 159ms/step - loss: 0.7951 - binary_accuracy: 0.7556 - val_loss: 1.6099 - val_binary_accuracy: 0.4245\n",
            "Epoch 15/20\n",
            "88/88 [==============================] - 14s 159ms/step - loss: 0.8238 - binary_accuracy: 0.7628 - val_loss: 1.6569 - val_binary_accuracy: 0.4160\n",
            "Epoch 16/20\n",
            "88/88 [==============================] - 14s 159ms/step - loss: 0.8122 - binary_accuracy: 0.7613 - val_loss: 1.5692 - val_binary_accuracy: 0.4416\n",
            "Epoch 17/20\n",
            "88/88 [==============================] - 14s 159ms/step - loss: 0.8085 - binary_accuracy: 0.7670 - val_loss: 1.5471 - val_binary_accuracy: 0.4501\n",
            "Epoch 18/20\n",
            "88/88 [==============================] - 14s 160ms/step - loss: 0.7670 - binary_accuracy: 0.7756 - val_loss: 1.4831 - val_binary_accuracy: 0.4701\n",
            "Epoch 19/20\n",
            "88/88 [==============================] - 14s 160ms/step - loss: 0.7853 - binary_accuracy: 0.7720 - val_loss: 1.5507 - val_binary_accuracy: 0.4644\n",
            "Epoch 20/20\n",
            "88/88 [==============================] - 14s 159ms/step - loss: 0.7715 - binary_accuracy: 0.7774 - val_loss: 1.5926 - val_binary_accuracy: 0.4530\n",
            "Epoch 1/10\n",
            "88/88 [==============================] - 54s 496ms/step - loss: 0.6142 - binary_accuracy: 0.8915 - val_loss: 3.7726 - val_binary_accuracy: 0.1994\n",
            "Epoch 2/10\n",
            "88/88 [==============================] - 42s 474ms/step - loss: 0.7122 - binary_accuracy: 0.7492 - val_loss: 160.7283 - val_binary_accuracy: 0.1994\n",
            "Epoch 3/10\n",
            "88/88 [==============================] - 42s 476ms/step - loss: 5.7598 - binary_accuracy: 0.6704 - val_loss: 6.4478 - val_binary_accuracy: 0.1994\n",
            "Epoch 4/10\n",
            "88/88 [==============================] - 42s 476ms/step - loss: 0.8974 - binary_accuracy: 0.7296 - val_loss: 0.6388 - val_binary_accuracy: 0.1994\n",
            "Epoch 5/10\n",
            "88/88 [==============================] - 42s 474ms/step - loss: 0.7050 - binary_accuracy: 0.4674 - val_loss: 0.5560 - val_binary_accuracy: 0.8006\n",
            "Epoch 6/10\n",
            "88/88 [==============================] - 42s 474ms/step - loss: 0.6358 - binary_accuracy: 0.5658 - val_loss: 0.5306 - val_binary_accuracy: 0.8006\n",
            "Epoch 7/10\n",
            "88/88 [==============================] - 42s 475ms/step - loss: 0.5865 - binary_accuracy: 0.7756 - val_loss: 0.5121 - val_binary_accuracy: 0.8006\n",
            "Epoch 8/10\n",
            "88/88 [==============================] - 42s 475ms/step - loss: 0.5623 - binary_accuracy: 0.7984 - val_loss: 0.5042 - val_binary_accuracy: 0.8006\n",
            "Epoch 9/10\n",
            "88/88 [==============================] - 42s 475ms/step - loss: 0.5517 - binary_accuracy: 0.7991 - val_loss: 0.5006 - val_binary_accuracy: 0.8006\n",
            "Epoch 10/10\n",
            "88/88 [==============================] - 42s 475ms/step - loss: 0.5465 - binary_accuracy: 0.7995 - val_loss: 0.4992 - val_binary_accuracy: 0.8006\n",
            "The AUC is 0.71130\n",
            "The AP is 0.77782\n",
            "The AUC is 0.71130\n",
            "The AP is 0.77782\n"
          ]
        }
      ],
      "source": [
        "auc_exp2, ap_exp2, models_exp = [], [], []\n",
        "for r in range(2):\n",
        "    X_exp_train = data_exp_g[r][\"train\"][\"X\"]\n",
        "    y_exp_train = data_exp_g[r][\"train\"][\"y\"]\n",
        "\n",
        "    X_exp_val = data_exp_g[r][\"val\"][\"X\"]\n",
        "    y_exp_val = data_exp_g[r][\"val\"][\"y\"]\n",
        "\n",
        "    X_exp_test = data_exp_g[r][\"test\"][\"X\"]\n",
        "    y_exp_test = data_exp_g[r][\"test\"][\"y\"]\n",
        "\n",
        "    # print(X_exp_train.shape)\n",
        "\n",
        "    tfds_exp_train = transfer_prefetch(X_exp_train, y_exp_train)\n",
        "    tfds_exp_val = transfer_prefetch(X_exp_val, y_exp_val)\n",
        "\n",
        "    # training\n",
        "    model = buiding_and_tuning_model(\n",
        "        tfds_exp_train, tfds_exp_val, 0.1, epochs_top=20, epochs_finetuning=10\n",
        "    )\n",
        "    models_exp.append(model)\n",
        "\n",
        "    # evaluation\n",
        "    auc_temp, ap_temp = [], []\n",
        "    for t in range(2):\n",
        "        X_exp_test_sub = data_exp_g[t][\"test\"][\"X\"]\n",
        "        y_exp_test_sub = data_exp_g[t][\"test\"][\"y\"]\n",
        "        tfds_exp_test = transfer_prefetch(X_exp_test_sub, y_exp_test_sub)\n",
        "        prob, auc, ap = model_evl(model, tfds_exp_test, y_exp_test_sub, True)\n",
        "        auc_temp.append(auc)\n",
        "        ap_temp.append(ap)\n",
        "    auc_exp2.append(auc_temp)\n",
        "    ap_exp2.append(ap_temp)\n"
      ]
    },
    {
      "cell_type": "markdown",
      "metadata": {
        "id": "O3CYKo19hOft"
      },
      "source": [
        "Visualization for the ROC and PR curves for the experiment."
      ]
    },
    {
      "cell_type": "code",
      "execution_count": null,
      "metadata": {
        "colab": {
          "base_uri": "https://localhost:8080/"
        },
        "id": "k_goRtHNfr5P",
        "outputId": "70e54cf0-d790-4713-bd30-4ebe599c2244"
      },
      "outputs": [
        {
          "name": "stdout",
          "output_type": "stream",
          "text": [
            "The AUC is 0.67286\n",
            "The AP is 0.73619\n",
            "The AUC is 0.71130\n",
            "The AP is 0.77782\n"
          ]
        }
      ],
      "source": [
        "y_test_prob, auc_list, ap_list = [], [], []\n",
        "\n",
        "# calculate and store the output, auc, ap\n",
        "for i in range(2):\n",
        "    model = models_exp[i]\n",
        "\n",
        "    X_exp_test_sub = data_exp_g[1][\"test\"][\"X\"]\n",
        "    y_exp_test_sub = data_exp_g[1][\"test\"][\"y\"]\n",
        "    tfds_exp_test = transfer_prefetch(X_rgb_test, y_test)\n",
        "\n",
        "    prob, auc, ap = model_evl(model, tfds_exp_test, y_test, True)\n",
        "\n",
        "    y_test_prob.append(prob)\n",
        "    auc_list.append(auc)\n",
        "    ap_list.append(ap)\n"
      ]
    },
    {
      "cell_type": "code",
      "execution_count": null,
      "metadata": {
        "id": "UwDnWoLXQ5Gl"
      },
      "outputs": [],
      "source": [
        "# init variables for visualization\n",
        "models = [\"80% Male + 20% Female\", \"80% Female + 20% Male\"]\n",
        "fpr_dict, tpr_dict = dict(), dict()\n",
        "pc_dict, rc_dict = dict(), dict()\n",
        "auc_dict, ap_dict = dict(), dict()\n",
        "\n",
        "# store the values for plotting\n",
        "for i in range(2):\n",
        "    fpr, tpr, thresholds = metrics.roc_curve(data_exp_g[i][\"test\"][\"y\"], y_test_prob[i])\n",
        "    pc, rc, thresholds = precision_recall_curve(\n",
        "        data_exp_g[i][\"test\"][\"y\"], y_test_prob[i]\n",
        "    )\n",
        "\n",
        "    fpr_dict[models[i]] = fpr\n",
        "    tpr_dict[models[i]] = tpr\n",
        "    pc_dict[models[i]] = pc\n",
        "    rc_dict[models[i]] = rc\n",
        "\n",
        "    auc_dict[models[i]] = auc_list[i]\n",
        "    ap_dict[models[i]] = ap_list[i]\n"
      ]
    },
    {
      "cell_type": "markdown",
      "metadata": {
        "id": "bC0aIaTziIQn"
      },
      "source": [
        "Plot the ROC and PR curves."
      ]
    },
    {
      "cell_type": "code",
      "execution_count": null,
      "metadata": {
        "colab": {
          "base_uri": "https://localhost:8080/",
          "height": 428
        },
        "id": "3yB8yDxZSBaM",
        "outputId": "b9af3cb0-86f7-47f6-dd27-11b7605ee697"
      },
      "outputs": [
        {
          "data": {
            "image/png": "[encoded data removed]",
            "text/plain": [
              "<Figure size 720x432 with 2 Axes>"
            ]
          },
          "metadata": {
            "image/png": {
              "height": 411,
              "width": 708
            }
          },
          "output_type": "display_data"
        }
      ],
      "source": [
        "# set format as retina\n",
        "%config InlineBackend.figure_format = \"retina\"\n",
        "\n",
        "# set theme\n",
        "sns.set_theme(style=\"whitegrid\")\n",
        "\n",
        "# set subplots to 1*2\n",
        "fig, axs = plt.subplots(1, 2, figsize=(10,6))\n",
        "\n",
        "# ROC curves\n",
        "for i in range(len(models)):\n",
        "    k = models[i]\n",
        "    axs[0].plot(\n",
        "          fpr_dict[k],\n",
        "          tpr_dict[k],\n",
        "          label=\"ROC curve of {}(AUC = {:.3f})\".format(k, auc_dict[k]),\n",
        "          lw = 1,\n",
        "          alpha = 0.9\n",
        "    )\n",
        "\n",
        "# PR curves\n",
        "# reference line\n",
        "axs[0].plot([0, 1], [0, 1],\n",
        "        linestyle=\"dashed\",\n",
        "        lw=1.5,\n",
        "        color=\"red\",\n",
        "        label=\"Random Guess\")\n",
        "\n",
        "axs[0].set_title(\"Receiver Operating Characteristic Curves\", fontsize = 10)\n",
        "\n",
        "axs[0].set_xlabel(\"False Positive Rate\", fontsize = 10)\n",
        "axs[0].set_ylabel(\"True Positive Rate\", fontsize = 10)\n",
        "\n",
        "axs[0].set_xlim(-0.05, 1)\n",
        "axs[0].set_ylim(0, 1.05)\n",
        "\n",
        "# PR curve for each model\n",
        "for i in range(len(models)):\n",
        "    k = models[i]\n",
        "    axs[1].plot(\n",
        "            rc_dict[k],\n",
        "            pc_dict[k],\n",
        "            label=\"PR curve of {}(AP = {:.3f})\".format(k, ap_dict[k]),\n",
        "            lw = 1,\n",
        "            alpha = 0.9\n",
        "    )\n",
        "\n",
        "\n",
        "# reference line\n",
        "axs[1].axhline(y = np.sum(y_val) / len(y_val),\n",
        "        linestyle=\"dashed\",\n",
        "        lw=1.5,\n",
        "        color=\"red\",\n",
        "        label=\"Random Guess\")\n",
        "\n",
        "axs[1].set_title(\"Precision Recall Curves\", fontsize = 10)\n",
        "\n",
        "axs[1].set_xlabel(\"Recall\", fontsize = 10)\n",
        "axs[1].set_ylabel(\"Precision\", fontsize = 10)\n",
        "\n",
        "axs[1].set_xlim(0, 1.05)\n",
        "axs[1].set_ylim(0, 1.05)\n",
        "\n",
        "for j in range(2):\n",
        "    axs[j].tick_params(labelsize=8)\n",
        "        \n",
        "    legend = axs[j].legend(prop={'size': 8},\n",
        "                           loc=\"upper center\", bbox_to_anchor=(0.5, -0.15))\n",
        "\n",
        "# use tight layout to save space\n",
        "plt.tight_layout()\n",
        "\n",
        "plt.show()"
      ]
    }
  ],
  "metadata": {
    "accelerator": "GPU",
    "colab": {
      "collapsed_sections": [],
      "machine_shape": "hm",
      "name": "30_final_transfer_learning_&_experiment.ipynb",
      "provenance": []
    },
    "interpreter": {
      "hash": "f38515062e2865a726c0b6997065476dfc4e8a8459005a9797c2f60ed67f0f78"
    },
    "kernelspec": {
      "display_name": "Python 3.9.7 ('base')",
      "language": "python",
      "name": "python3"
    },
    "language_info": {
      "codemirror_mode": {
        "name": "ipython",
        "version": 3
      },
      "file_extension": ".py",
      "mimetype": "text/x-python",
      "name": "python",
      "nbconvert_exporter": "python",
      "pygments_lexer": "ipython3",
      "version": "3.9.7"
    },
    "orig_nbformat": 4
  },
  "nbformat": 4,
  "nbformat_minor": 0
}
