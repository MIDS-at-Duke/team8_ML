{
 "cells": [
  {
   "cell_type": "code",
   "execution_count": 1,
   "metadata": {},
   "outputs": [],
   "source": [
    "import cv2\n",
    "import os\n",
    "import random\n",
    "import numpy as np\n",
    "import pandas as pd"
   ]
  },
  {
   "cell_type": "markdown",
   "metadata": {},
   "source": [
    "Grab the labels"
   ]
  },
  {
   "cell_type": "code",
   "execution_count": 2,
   "metadata": {},
   "outputs": [],
   "source": [
    "# set a seed\n",
    "random.seed(32)\n",
    "\n",
    "# define dir\n",
    "data_dir = \"../../crop_part1\"\n",
    "\n",
    "# random sampling\n",
    "n = 1000\n",
    "fnames_subset = random.sample(os.listdir(data_dir), n)"
   ]
  },
  {
   "cell_type": "markdown",
   "metadata": {},
   "source": [
    "Construct X as lists"
   ]
  },
  {
   "cell_type": "code",
   "execution_count": 3,
   "metadata": {},
   "outputs": [],
   "source": [
    "# X: flattened version\n",
    "# X_origin_dict: original version; key: index, value: 3-D np array\n",
    "X_rgb = list()\n",
    "X_origin_dict = dict()\n",
    "for i, fname in enumerate(fnames_subset):\n",
    "    # construct dir\n",
    "    dir = data_dir + \"/\" + fname\n",
    "    \n",
    "    # read the data\n",
    "    dat = cv2.imread(dir)\n",
    "    \n",
    "    # store the original data\n",
    "    X_origin_dict[i] = dat\n",
    "    \n",
    "    # store the data\n",
    "    X_rgb.append(dat)\n",
    "\n",
    "# convert to np array\n",
    "# X_rgb = np.array(X_rgb)\n",
    "# print(\"The shape of the X_rgb is:\", X_rgb.shape)\n"
   ]
  },
  {
   "cell_type": "markdown",
   "metadata": {},
   "source": [
    "Combine data set into a data frame"
   ]
  },
  {
   "cell_type": "code",
   "execution_count": 4,
   "metadata": {},
   "outputs": [],
   "source": [
    "df = pd.DataFrame(columns=[\"image\", \"age\", \"race\", \"gender\"])\n",
    "age = []\n",
    "race = []\n",
    "gender =[]\n",
    "for fname in fnames_subset:\n",
    "    temp = fname.split(\"_\")\n",
    "    age.append(temp[0])\n",
    "    race.append(temp[2])\n",
    "    gender.append(temp[1])\n",
    "    pass\n",
    "df.image = X_rgb\n",
    "df.age = [int(i) for i in age]\n",
    "df.race = [int(i) for i in race]\n",
    "df.gender = [int(i) for i in gender]"
   ]
  },
  {
   "cell_type": "code",
   "execution_count": 5,
   "metadata": {},
   "outputs": [
    {
     "data": {
      "text/html": [
       "<div>\n",
       "<style scoped>\n",
       "    .dataframe tbody tr th:only-of-type {\n",
       "        vertical-align: middle;\n",
       "    }\n",
       "\n",
       "    .dataframe tbody tr th {\n",
       "        vertical-align: top;\n",
       "    }\n",
       "\n",
       "    .dataframe thead th {\n",
       "        text-align: right;\n",
       "    }\n",
       "</style>\n",
       "<table border=\"1\" class=\"dataframe\">\n",
       "  <thead>\n",
       "    <tr style=\"text-align: right;\">\n",
       "      <th></th>\n",
       "      <th>image</th>\n",
       "      <th>age</th>\n",
       "      <th>race</th>\n",
       "      <th>gender</th>\n",
       "    </tr>\n",
       "  </thead>\n",
       "  <tbody>\n",
       "    <tr>\n",
       "      <th>0</th>\n",
       "      <td>[[[204, 215, 242], [204, 215, 242], [202, 215,...</td>\n",
       "      <td>1</td>\n",
       "      <td>4</td>\n",
       "      <td>1</td>\n",
       "    </tr>\n",
       "    <tr>\n",
       "      <th>1</th>\n",
       "      <td>[[[44, 52, 41], [22, 30, 19], [6, 13, 6], [6, ...</td>\n",
       "      <td>12</td>\n",
       "      <td>3</td>\n",
       "      <td>0</td>\n",
       "    </tr>\n",
       "    <tr>\n",
       "      <th>2</th>\n",
       "      <td>[[[74, 95, 126], [88, 109, 140], [86, 107, 138...</td>\n",
       "      <td>9</td>\n",
       "      <td>0</td>\n",
       "      <td>0</td>\n",
       "    </tr>\n",
       "    <tr>\n",
       "      <th>3</th>\n",
       "      <td>[[[87, 84, 80], [90, 87, 83], [96, 93, 89], [1...</td>\n",
       "      <td>6</td>\n",
       "      <td>0</td>\n",
       "      <td>0</td>\n",
       "    </tr>\n",
       "    <tr>\n",
       "      <th>4</th>\n",
       "      <td>[[[46, 63, 102], [52, 69, 108], [60, 77, 116],...</td>\n",
       "      <td>5</td>\n",
       "      <td>2</td>\n",
       "      <td>1</td>\n",
       "    </tr>\n",
       "  </tbody>\n",
       "</table>\n",
       "</div>"
      ],
      "text/plain": [
       "                                               image  age  race  gender\n",
       "0  [[[204, 215, 242], [204, 215, 242], [202, 215,...    1     4       1\n",
       "1  [[[44, 52, 41], [22, 30, 19], [6, 13, 6], [6, ...   12     3       0\n",
       "2  [[[74, 95, 126], [88, 109, 140], [86, 107, 138...    9     0       0\n",
       "3  [[[87, 84, 80], [90, 87, 83], [96, 93, 89], [1...    6     0       0\n",
       "4  [[[46, 63, 102], [52, 69, 108], [60, 77, 116],...    5     2       1"
      ]
     },
     "execution_count": 5,
     "metadata": {},
     "output_type": "execute_result"
    }
   ],
   "source": [
    "df.head()"
   ]
  },
  {
   "cell_type": "markdown",
   "metadata": {},
   "source": [
    "Subset into subgroup data frames"
   ]
  },
  {
   "cell_type": "code",
   "execution_count": 9,
   "metadata": {},
   "outputs": [],
   "source": [
    "# five different age groups: 0 - babies, 1 - children, 2 - young adults, 3 - middle-age adults, 4 - older adults\n",
    "age0 = df[df.age < 6].copy()\n",
    "age1 = df[(df.age > 5) & (df.age < 19)].copy()\n",
    "age2 = df[(df.age > 18) & (df.age < 40)].copy()\n",
    "age3 = df[(df.age > 39) & (df.age < 66)].copy()\n",
    "age4 = df[df.age > 65].copy()\n",
    "\n",
    "# five different race groups: 0 - white, 1 - black, 2 - asian, 3 - indian, 4 - others (hispanic, middle eastern)\n",
    "race0 = df[df.race == 0].copy()\n",
    "race1 = df[df.race == 1].copy()\n",
    "race2 = df[df.race == 2].copy()\n",
    "race3 = df[df.race == 3].copy()\n",
    "race4 = df[df.race == 4].copy()\n",
    "\n",
    "# two groups for white/nonwhite\n",
    "white = race0.copy()\n",
    "nonwhite = df[df.race != 0].copy()"
   ]
  }
 ],
 "metadata": {
  "interpreter": {
   "hash": "15295bfff4cb0dca9c485624db5bf3234e7c0f4cbcdd841627b0729483db6687"
  },
  "kernelspec": {
   "display_name": "Python 3.10.2 ('for_march')",
   "language": "python",
   "name": "python3"
  },
  "language_info": {
   "codemirror_mode": {
    "name": "ipython",
    "version": 3
   },
   "file_extension": ".py",
   "mimetype": "text/x-python",
   "name": "python",
   "nbconvert_exporter": "python",
   "pygments_lexer": "ipython3",
   "version": "3.10.2"
  },
  "orig_nbformat": 4
 },
 "nbformat": 4,
 "nbformat_minor": 2
}
