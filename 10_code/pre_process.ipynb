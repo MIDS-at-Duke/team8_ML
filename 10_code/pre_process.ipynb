{
 "cells": [
  {
   "cell_type": "code",
   "execution_count": 1,
   "metadata": {},
   "outputs": [],
   "source": [
    "import cv2\n",
    "import os\n",
    "import random\n",
    "import numpy as np\n",
    "import pandas as pd"
   ]
  },
  {
   "cell_type": "code",
   "execution_count": 2,
   "metadata": {},
   "outputs": [],
   "source": [
    "# define dir\n",
    "data_dir = \"../../crop_part1\"\n",
    "\n",
    "fnames_subset = os.listdir(data_dir)"
   ]
  },
  {
   "cell_type": "code",
   "execution_count": 26,
   "metadata": {},
   "outputs": [],
   "source": [
    "# remove two files from the data set that do not follow the naming convention, therefore have not been labelled correctly and can't be used\n",
    "del fnames_subset[8903]\n",
    "del fnames_subset[6680]\n"
   ]
  },
  {
   "cell_type": "markdown",
   "metadata": {},
   "source": [
    "Construct X as lists"
   ]
  },
  {
   "cell_type": "code",
   "execution_count": 27,
   "metadata": {},
   "outputs": [],
   "source": [
    "# X: flattened version\n",
    "# X_origin_dict: original version; key: index, value: 3-D np array\n",
    "X_rgb = list()\n",
    "X_origin_dict = dict()\n",
    "for i, fname in enumerate(fnames_subset):\n",
    "    # construct dir\n",
    "    dir = data_dir + \"/\" + fname\n",
    "    \n",
    "    # read the data\n",
    "    dat = cv2.imread(dir)\n",
    "    \n",
    "    # store the original data\n",
    "    X_origin_dict[i] = dat\n",
    "    \n",
    "    # store the data\n",
    "    X_rgb.append(dat)\n",
    "\n",
    "# convert to np array\n",
    "# X_rgb = np.array(X_rgb)\n",
    "# print(\"The shape of the X_rgb is:\", X_rgb.shape)"
   ]
  },
  {
   "cell_type": "markdown",
   "metadata": {},
   "source": [
    "Combine data into a data frame"
   ]
  },
  {
   "cell_type": "code",
   "execution_count": 28,
   "metadata": {},
   "outputs": [],
   "source": [
    "df = pd.DataFrame(columns=[\"image\", \"age\", \"race\", \"gender\"])\n",
    "age = []\n",
    "race = []\n",
    "gender =[]\n",
    "for fname in fnames_subset:\n",
    "    temp = fname.split(\"_\")\n",
    "    age.append(temp[0])\n",
    "    race.append(temp[2])\n",
    "    gender.append(temp[1])\n",
    "    pass"
   ]
  },
  {
   "cell_type": "code",
   "execution_count": 29,
   "metadata": {},
   "outputs": [],
   "source": [
    "# combine indian and asian labels into one \"asian\" label\n",
    "race = ['2' if i=='3' else i for i in race]\n",
    "# relabel \"other\" to 3\n",
    "race = ['3' if i=='4' else i for i in race]"
   ]
  },
  {
   "cell_type": "code",
   "execution_count": 31,
   "metadata": {},
   "outputs": [],
   "source": [
    "# assign lists into the dataframe\n",
    "df.image = X_rgb\n",
    "df.age = [int(i) for i in age]\n",
    "df.race = [int(i) for i in race]\n",
    "df.gender = [int(i) for i in gender]"
   ]
  },
  {
   "cell_type": "markdown",
   "metadata": {},
   "source": [
    "Create Data Frames of Skewed Data"
   ]
  },
  {
   "cell_type": "code",
   "execution_count": null,
   "metadata": {},
   "outputs": [],
   "source": [
    "# gender imbalance"
   ]
  }
 ],
 "metadata": {
  "interpreter": {
   "hash": "15295bfff4cb0dca9c485624db5bf3234e7c0f4cbcdd841627b0729483db6687"
  },
  "kernelspec": {
   "display_name": "Python 3.10.2 ('for_march')",
   "language": "python",
   "name": "python3"
  },
  "language_info": {
   "codemirror_mode": {
    "name": "ipython",
    "version": 3
   },
   "file_extension": ".py",
   "mimetype": "text/x-python",
   "name": "python",
   "nbconvert_exporter": "python",
   "pygments_lexer": "ipython3",
   "version": "3.10.2"
  },
  "orig_nbformat": 4
 },
 "nbformat": 4,
 "nbformat_minor": 2
}
