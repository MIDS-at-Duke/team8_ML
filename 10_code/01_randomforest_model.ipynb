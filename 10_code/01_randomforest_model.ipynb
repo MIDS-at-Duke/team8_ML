{
  "nbformat": 4,
  "nbformat_minor": 0,
  "metadata": {
    "colab": {
      "name": "RandomForest.ipynb",
      "provenance": [],
      "collapsed_sections": [],
      "machine_shape": "hm"
    },
    "kernelspec": {
      "name": "python3",
      "display_name": "Python 3"
    },
    "language_info": {
      "name": "python"
    },
    "accelerator": "GPU"
  },
  "cells": [
    {
      "cell_type": "markdown",
      "source": [
        "# Predicting Genders from Images Using Random Forest Classifier"
      ],
      "metadata": {
        "id": "HaYqKE-BkEa0"
      }
    },
    {
      "cell_type": "markdown",
      "source": [
        "Author: Haoliang Jiang"
      ],
      "metadata": {
        "id": "vPhXCYrFkMpa"
      }
    },
    {
      "cell_type": "code",
      "source": [
        "from sklearn import metrics\n",
        "import os\n",
        "import condacolab\n",
        "from google.colab import files\n",
        "import cv2\n",
        "import os\n",
        "import random\n",
        "import numpy as np\n",
        "import tarfile\n",
        "from sklearn.model_selection import train_test_split\n",
        "import cudf\n",
        "from cuml.ensemble import RandomForestClassifier as cuRFC\n",
        "from sklearn.preprocessing import StandardScaler\n",
        "from sklearn.model_selection import RandomizedSearchCV\n",
        "from sklearn.model_selection import GridSearchCV\n",
        "from cuml.ensemble import RandomForestClassifier as cuRFC\n",
        "import matplotlib.pyplot as plt\n",
        "import pickle"
      ],
      "metadata": {
        "id": "xcYf3DxDjWXg"
      },
      "execution_count": null,
      "outputs": []
    },
    {
      "cell_type": "markdown",
      "source": [
        "For this project, the image dataset is enormous, and it is not practical to train the model using local machines and a cpu. As a result, I will use Google Colab Pro and get connected to a GPU for this task.  I aim to use cuML module to build a random forest model as the baseline model for the final project of IDS 705. This notebook goes thru installing your required environments, data cleaning, model training, hyperparameter tuning, and metrics evaluation. It turns out that a random forest model is not a good classifier when being used on solving computer vision problems. The overfitting issue was not resolved even after a lot of hyperparameter tuning was implemented."
      ],
      "metadata": {
        "id": "UaR0GXRzkDHv"
      }
    },
    {
      "cell_type": "code",
      "source": [
        "!nvidia-smi"
      ],
      "metadata": {
        "colab": {
          "base_uri": "https://localhost:8080/"
        },
        "id": "x_abj4oyjQzs",
        "outputId": "1d6b92ad-0caf-4ad5-9cf6-aba6bdc324e5"
      },
      "execution_count": 1,
      "outputs": [
        {
          "output_type": "stream",
          "name": "stdout",
          "text": [
            "Tue Apr 12 13:45:43 2022       \n",
            "+-----------------------------------------------------------------------------+\n",
            "| NVIDIA-SMI 460.32.03    Driver Version: 460.32.03    CUDA Version: 11.2     |\n",
            "|-------------------------------+----------------------+----------------------+\n",
            "| GPU  Name        Persistence-M| Bus-Id        Disp.A | Volatile Uncorr. ECC |\n",
            "| Fan  Temp  Perf  Pwr:Usage/Cap|         Memory-Usage | GPU-Util  Compute M. |\n",
            "|                               |                      |               MIG M. |\n",
            "|===============================+======================+======================|\n",
            "|   0  Tesla P100-PCIE...  Off  | 00000000:00:04.0 Off |                    0 |\n",
            "| N/A   41C    P0    27W / 250W |      0MiB / 16280MiB |      0%      Default |\n",
            "|                               |                      |                  N/A |\n",
            "+-------------------------------+----------------------+----------------------+\n",
            "                                                                               \n",
            "+-----------------------------------------------------------------------------+\n",
            "| Processes:                                                                  |\n",
            "|  GPU   GI   CI        PID   Type   Process name                  GPU Memory |\n",
            "|        ID   ID                                                   Usage      |\n",
            "|=============================================================================|\n",
            "|  No running processes found                                                 |\n",
            "+-----------------------------------------------------------------------------+\n"
          ]
        }
      ]
    },
    {
      "cell_type": "code",
      "source": [
        "# This get the RAPIDS-Colab install files and test check your GPU.  Run this and the next cell only.\n",
        "# Please read the output of this cell.  If your Colab Instance is not RAPIDS compatible, it will warn you and give you remediation steps.\n",
        "!git clone https://github.com/rapidsai/rapidsai-csp-utils.git\n",
        "!python rapidsai-csp-utils/colab/env-check.py"
      ],
      "metadata": {
        "colab": {
          "base_uri": "https://localhost:8080/"
        },
        "id": "9CIfoDu7j0D6",
        "outputId": "b666231e-8fc6-40c7-a65f-47acd9e7d524"
      },
      "execution_count": 3,
      "outputs": [
        {
          "output_type": "stream",
          "name": "stdout",
          "text": [
            "Cloning into 'rapidsai-csp-utils'...\n",
            "remote: Enumerating objects: 300, done.\u001b[K\n",
            "remote: Counting objects: 100% (129/129), done.\u001b[K\n",
            "remote: Compressing objects: 100% (108/108), done.\u001b[K\n",
            "remote: Total 300 (delta 72), reused 43 (delta 21), pack-reused 171\u001b[K\n",
            "Receiving objects: 100% (300/300), 86.52 KiB | 4.12 MiB/s, done.\n",
            "Resolving deltas: 100% (134/134), done.\n",
            "***********************************************************************\n",
            "Woo! Your instance has the right kind of GPU, a Tesla P100-PCIE-16GB!\n",
            "***********************************************************************\n",
            "\n"
          ]
        }
      ]
    },
    {
      "cell_type": "code",
      "source": [
        "!bash rapidsai-csp-utils/colab/update_gcc.sh\n",
        "os._exit(00)"
      ],
      "metadata": {
        "id": "ruXCpPVGk3hY"
      },
      "execution_count": null,
      "outputs": []
    },
    {
      "cell_type": "code",
      "source": [
        "# This will install CondaColab.  This will restart your kernel one last time.  Run this cell by itself and only run the next cell once you see the session crash.\n",
        "condacolab.install()"
      ],
      "metadata": {
        "colab": {
          "base_uri": "https://localhost:8080/"
        },
        "id": "Wsmca3wRlKvu",
        "outputId": "308f082c-30a5-4c7b-ca75-b27f8fa0b31a"
      },
      "execution_count": 1,
      "outputs": [
        {
          "output_type": "stream",
          "name": "stdout",
          "text": [
            "⏬ Downloading https://github.com/jaimergp/miniforge/releases/latest/download/Mambaforge-colab-Linux-x86_64.sh...\n",
            "📦 Installing...\n",
            "📌 Adjusting configuration...\n",
            "🩹 Patching environment...\n",
            "⏲ Done in 0:00:24\n",
            "🔁 Restarting kernel...\n"
          ]
        }
      ]
    },
    {
      "cell_type": "code",
      "source": [
        "# you can now run the rest of the cells as normal\n",
        "condacolab.check()"
      ],
      "metadata": {
        "colab": {
          "base_uri": "https://localhost:8080/"
        },
        "id": "zpyq2PaTlw2Y",
        "outputId": "c34661d5-abf7-4a54-bde6-db7aae5a2065"
      },
      "execution_count": 1,
      "outputs": [
        {
          "output_type": "stream",
          "name": "stdout",
          "text": [
            "✨🍰✨ Everything looks OK!\n"
          ]
        }
      ]
    },
    {
      "cell_type": "code",
      "source": [
        "# Installing RAPIDS is now 'python rapidsai-csp-utils/colab/install_rapids.py <release> <packages>'\n",
        "# The <release> options are 'stable' and 'nightly'.  Leaving it blank or adding any other words will default to stable.\n",
        "!python rapidsai-csp-utils/colab/install_rapids.py stable\n",
        "os.environ['NUMBAPRO_NVVM'] = '/usr/local/cuda/nvvm/lib64/libnvvm.so'\n",
        "os.environ['NUMBAPRO_LIBDEVICE'] = '/usr/local/cuda/nvvm/libdevice/'\n",
        "os.environ['CONDA_PREFIX'] = '/usr/local'"
      ],
      "metadata": {
        "id": "v34urZcTmHUN"
      },
      "execution_count": null,
      "outputs": []
    },
    {
      "cell_type": "code",
      "source": [
        "uploaded = files.upload()"
      ],
      "metadata": {
        "colab": {
          "resources": {
            "http://localhost:8080/nbextensions/google.colab/files.js": {
              "data": "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",
              "ok": true,
              "headers": [
                [
                  "content-type",
                  "application/javascript"
                ]
              ],
              "status": 200,
              "status_text": ""
            }
          },
          "base_uri": "https://localhost:8080/",
          "height": 73
        },
        "id": "tE-xm_S0mMb3",
        "outputId": "1b8d6afb-f385-4077-fb2a-55c74e423aac"
      },
      "execution_count": 3,
      "outputs": [
        {
          "output_type": "display_data",
          "data": {
            "text/plain": [
              "<IPython.core.display.HTML object>"
            ],
            "text/html": [
              "\n",
              "     <input type=\"file\" id=\"files-b3acb859-a4c4-439b-965c-39e486b6d651\" name=\"files[]\" multiple disabled\n",
              "        style=\"border:none\" />\n",
              "     <output id=\"result-b3acb859-a4c4-439b-965c-39e486b6d651\">\n",
              "      Upload widget is only available when the cell has been executed in the\n",
              "      current browser session. Please rerun this cell to enable.\n",
              "      </output>\n",
              "      <script src=\"/nbextensions/google.colab/files.js\"></script> "
            ]
          },
          "metadata": {}
        },
        {
          "output_type": "stream",
          "name": "stdout",
          "text": [
            "Saving crop_part1.tar.gz to crop_part1.tar.gz\n"
          ]
        }
      ]
    },
    {
      "cell_type": "code",
      "source": [
        "! pip install opencv-python"
      ],
      "metadata": {
        "colab": {
          "base_uri": "https://localhost:8080/"
        },
        "id": "Jw3yRkjBrpra",
        "outputId": "920b7cf8-7608-4e61-d76a-88271ae6563a"
      },
      "execution_count": 14,
      "outputs": [
        {
          "output_type": "stream",
          "name": "stdout",
          "text": [
            "Collecting opencv-python\n",
            "  Downloading opencv_python-4.5.5.64-cp36-abi3-manylinux_2_17_x86_64.manylinux2014_x86_64.whl (60.5 MB)\n",
            "\u001b[K     |████████████████████████████████| 60.5 MB 55.0 MB/s \n",
            "\u001b[?25hRequirement already satisfied: numpy>=1.14.5 in /usr/local/lib/python3.7/site-packages (from opencv-python) (1.21.5)\n",
            "Installing collected packages: opencv-python\n",
            "Successfully installed opencv-python-4.5.5.64\n"
          ]
        }
      ]
    },
    {
      "cell_type": "code",
      "source": [
        "file = tarfile.open('crop_part1.tar.gz')\n",
        "# extracting file\n",
        "file.extractall('./crop_part1')\n",
        "file.close()"
      ],
      "metadata": {
        "id": "jJYTAzD7M-HX"
      },
      "execution_count": 16,
      "outputs": []
    },
    {
      "cell_type": "markdown",
      "source": [
        "# Read In Data"
      ],
      "metadata": {
        "id": "TW9AEJMsxG1m"
      }
    },
    {
      "cell_type": "code",
      "source": [
        "# set a seed\n",
        "random.seed(328)\n",
        "\n",
        "# define dir\n",
        "data_dir = \"./crop_part1/crop_part1\"\n",
        "\n",
        "# random sampling\n",
        "n = 1000\n",
        "fnames_subset = random.sample(os.listdir(data_dir), n)"
      ],
      "metadata": {
        "id": "Ssnf6OhOAQTO"
      },
      "execution_count": 17,
      "outputs": []
    },
    {
      "cell_type": "code",
      "source": [
        "y = [] # 0 (male) or 1 (female)\n",
        "for fname in fnames_subset:\n",
        "    temp = fname.split(\"_\")\n",
        "    y.append(temp[1])\n",
        "    pass\n",
        "\n",
        "y = np.array(y)"
      ],
      "metadata": {
        "id": "IP-TJ7hYw_pp"
      },
      "execution_count": 18,
      "outputs": []
    },
    {
      "cell_type": "code",
      "source": [
        "# X: flattened version\n",
        "# X_origin_dict: original version; key: index, value: 3-D np array\n",
        "X_rgb = list()\n",
        "X_origin_dict = dict()\n",
        "for i, fname in enumerate(fnames_subset):\n",
        "    # construct dir\n",
        "    dir = data_dir + \"/\" + fname\n",
        "    \n",
        "    # read the data\n",
        "    dat = cv2.imread(dir)\n",
        "    \n",
        "    # convert to rgb\n",
        "    dat = cv2.cvtColor(dat, cv2.COLOR_BGR2RGB)\n",
        "    \n",
        "    # store the original data\n",
        "    X_origin_dict[i] = dat\n",
        "    \n",
        "    # store the data\n",
        "    X_rgb.append(dat)\n",
        "\n",
        "# convert to np array\n",
        "X_rgb = np.array(X_rgb)"
      ],
      "metadata": {
        "id": "JPaXibJmxEDU"
      },
      "execution_count": 19,
      "outputs": []
    },
    {
      "cell_type": "code",
      "source": [
        "#y = np.delete(y, 7884)\n",
        "#X_rgb = np.delete(X_rgb, 7884)"
      ],
      "metadata": {
        "id": "fB-NWq2JxpWH"
      },
      "execution_count": 20,
      "outputs": []
    },
    {
      "cell_type": "markdown",
      "source": [
        "# Train-Test Split and Data Cleaning"
      ],
      "metadata": {
        "id": "89jd-DiX04iP"
      }
    },
    {
      "cell_type": "code",
      "source": [
        "#Train Test Split\n",
        "X_rgb_train, X_rgb_test, y_train, y_test = train_test_split(\n",
        "    X_rgb, y, test_size=0.1, random_state=329\n",
        ")\n",
        "\n",
        "X_rgb_train, X_rgb_val, y_train, y_val = train_test_split(\n",
        "    X_rgb_train, y_train, test_size=(0.1/0.9), random_state=525\n",
        ")"
      ],
      "metadata": {
        "id": "ZVKWF6UNz7YU"
      },
      "execution_count": 22,
      "outputs": []
    },
    {
      "cell_type": "code",
      "source": [
        "#Flatten X\n",
        "X_rgb_flattened_train = np.array([x.flatten() for x in X_rgb_train])\n",
        "X_rgb_flattened_val = np.array([x.flatten() for x in X_rgb_val])\n",
        "X_rgb_flattened_test = np.array([x.flatten() for x in X_rgb_test])"
      ],
      "metadata": {
        "id": "Ov566YCb2AVE"
      },
      "execution_count": 23,
      "outputs": []
    },
    {
      "cell_type": "code",
      "source": [
        "#Feature Scaling\n",
        "scaler = StandardScaler()\n",
        "scaler.fit(X_rgb_flattened_train)\n",
        "\n",
        "X_rgb_flattened_train_scaled = X_rgb_flattened_train.copy() \n",
        "X_rgb_flattened_train_scaled = scaler.transform(X_rgb_flattened_train).astype(np.float32)\n",
        "X_rgb_flattened_val_scaled = scaler.transform(X_rgb_flattened_val).astype(np.float32)\n",
        "X_rgb_flattened_test_scaled = scaler.transform(X_rgb_flattened_test).astype(np.float32)"
      ],
      "metadata": {
        "id": "DozIQi3x2Oar"
      },
      "execution_count": 24,
      "outputs": []
    },
    {
      "cell_type": "code",
      "source": [
        "X_train = cudf.DataFrame(X_rgb_flattened_train_scaled)"
      ],
      "metadata": {
        "id": "sXB-Rk_z4A0O"
      },
      "execution_count": 26,
      "outputs": []
    },
    {
      "cell_type": "code",
      "source": [
        "X_val = cudf.DataFrame(X_rgb_flattened_val_scaled)"
      ],
      "metadata": {
        "id": "0tMaGEmg4Hy1"
      },
      "execution_count": 27,
      "outputs": []
    },
    {
      "cell_type": "code",
      "source": [
        "X_test = cudf.DataFrame(X_rgb_flattened_test_scaled)"
      ],
      "metadata": {
        "id": "ggQzKjmd4dry"
      },
      "execution_count": 28,
      "outputs": []
    },
    {
      "cell_type": "code",
      "source": [
        "y_train = y_train.astype(np.int32)\n",
        "y_test = y_test.astype(np.int32)\n",
        "y_val = y_val.astype(np.int32)"
      ],
      "metadata": {
        "id": "SGlR3n66_Bra"
      },
      "execution_count": 29,
      "outputs": []
    },
    {
      "cell_type": "markdown",
      "source": [
        "# Modelling and Parameter Tuning"
      ],
      "metadata": {
        "id": "ggAX972YHL9D"
      }
    },
    {
      "cell_type": "code",
      "source": [
        "#Create a random forest model with all default parameters\n",
        "cuml_model = cuRFC()\n",
        "cuml_model.fit(X_rgb_flattened_train_scaled,y_train)"
      ],
      "metadata": {
        "colab": {
          "base_uri": "https://localhost:8080/"
        },
        "id": "95vHt5btC1Za",
        "outputId": "99c42608-d3d4-4d9e-c7ff-84cb42119343"
      },
      "execution_count": 36,
      "outputs": [
        {
          "output_type": "execute_result",
          "data": {
            "text/plain": [
              "RandomForestClassifier()"
            ]
          },
          "metadata": {},
          "execution_count": 36
        }
      ]
    },
    {
      "cell_type": "code",
      "source": [
        "#The accuracy score is awful, which means that hyperparameter tuning is required\n",
        "pred = cuml_model.predict(X_rgb_flattened_val_scaled)\n",
        "cuml_model.score(X_val, y_val)"
      ],
      "metadata": {
        "colab": {
          "base_uri": "https://localhost:8080/"
        },
        "id": "8FwDjCVQLQQX",
        "outputId": "167844b5-45f2-41c4-ebdc-472e4fcb023b"
      },
      "execution_count": 35,
      "outputs": [
        {
          "output_type": "execute_result",
          "data": {
            "text/plain": [
              "0.6200000047683716"
            ]
          },
          "metadata": {},
          "execution_count": 35
        }
      ]
    },
    {
      "cell_type": "markdown",
      "source": [
        "## Randomized Search Cross Validation\n",
        "First use randomized search to narrow down the range of the hyperparameters to be tuned. Here, I use cuML's random forest for modelling, which involves more hyperparameters than the sklearn version. n_bins refers to \"Maximum number of bins used by the split algorithm per feature. For large problems, particularly those with highly-skewed input data, increasing the number of bins may improve accuracy.\" n_streams refers to \"Number of parallel streams used for forest building.\" cuML's random forest uses gpu and parallel computing to speed up the training processes."
      ],
      "metadata": {
        "id": "j_74nmoAZPVN"
      }
    },
    {
      "cell_type": "code",
      "source": [
        "n_estimators = [int(x) for x in np.linspace(start = 100, stop = 1000, num = 10)]\n",
        "max_features = ['auto','sqrt']\n",
        "max_depth = [int(x) for x in np.linspace(10, 100, num = 10)]\n",
        "max_depth.append(-1)\n",
        "min_samples_split = [2,4,8,16,32]\n",
        "min_samples_leaf = [1,2,4,8,16]\n",
        "bootstrap = [True]\n",
        "#split_criterion = ['gini','entropy']\n",
        "max_samples = [0.25, 0.5, 0.75, 1]\n",
        "n_bins = [128, 256, 384, 512]\n",
        "n_streams = [4,6,8,10]\n",
        "random_grid = {'n_estimators': n_estimators,\n",
        "               'max_features': max_features,\n",
        "               'max_depth':max_depth,\n",
        "               'min_samples_split':min_samples_split,\n",
        "               'min_samples_leaf':min_samples_leaf,\n",
        "               'bootstrap':bootstrap,\n",
        "               #'split_criterion':split_criterion,\n",
        "               'max_samples':max_samples,\n",
        "               'n_bins':n_bins,\n",
        "               'n_streams':n_streams}"
      ],
      "metadata": {
        "id": "em7TTaEqLJGy"
      },
      "execution_count": 49,
      "outputs": []
    },
    {
      "cell_type": "markdown",
      "source": [
        "Now the randomized search cross validation method will figure out the best set of hyperparaameters to be picked. This is done to narrow down the range of hyperparameters that we should look into. And then I will use GridSearchCV to find the best combination of hyperparameters. Don't worry about the error message in the output. It just shows up because some combo of parameters cannot won't fit the model."
      ],
      "metadata": {
        "id": "wDmASdMNHnBE"
      }
    },
    {
      "cell_type": "code",
      "source": [
        "cuml_model = cuRFC()\n",
        "cuml_model_random = RandomizedSearchCV(estimator = cuml_model, \n",
        "                                       param_distributions = random_grid,\n",
        "                                       n_iter = 100,\n",
        "                                       cv = 3,\n",
        "                                       verbose = 2,\n",
        "                                       random_state = 188)\n",
        "cuml_model_random.fit(X_rgb_flattened_train_scaled,y_train)\n",
        "cuml_model_random.best_params_"
      ],
      "metadata": {
        "id": "O4nI5XVdQhu5"
      },
      "execution_count": null,
      "outputs": []
    },
    {
      "cell_type": "code",
      "source": [
        "cuml_model_random.best_params_"
      ],
      "metadata": {
        "colab": {
          "base_uri": "https://localhost:8080/"
        },
        "id": "ojJAqR60aQlr",
        "outputId": "8a066739-e991-4a96-bc39-cbaeb64dfc44"
      },
      "execution_count": 51,
      "outputs": [
        {
          "output_type": "execute_result",
          "data": {
            "text/plain": [
              "{'bootstrap': True,\n",
              " 'max_depth': 50,\n",
              " 'max_features': 'auto',\n",
              " 'max_samples': 1,\n",
              " 'min_samples_leaf': 4,\n",
              " 'min_samples_split': 2,\n",
              " 'n_bins': 512,\n",
              " 'n_estimators': 800,\n",
              " 'n_streams': 10}"
            ]
          },
          "metadata": {},
          "execution_count": 51
        }
      ]
    },
    {
      "cell_type": "code",
      "source": [
        "cumlll = cuRFC(bootstrap= True,\n",
        " max_depth= 50,\n",
        " max_features = 'auto',\n",
        " max_samples= 1,\n",
        " min_samples_leaf= 4,\n",
        " min_samples_split= 2,\n",
        " n_bins= 512,\n",
        " n_estimators= 800,\n",
        " n_streams = 10)\n",
        "cumlll.fit(X_rgb_flattened_train_scaled,y_train)"
      ],
      "metadata": {
        "colab": {
          "base_uri": "https://localhost:8080/"
        },
        "id": "qruGaK74DT_m",
        "outputId": "f17b6901-a368-4066-9350-eea6f521a9bf"
      },
      "execution_count": 42,
      "outputs": [
        {
          "output_type": "execute_result",
          "data": {
            "text/plain": [
              "RandomForestClassifier()"
            ]
          },
          "metadata": {},
          "execution_count": 42
        }
      ]
    },
    {
      "cell_type": "code",
      "source": [
        "print(cumlll.score(X_val, y_val))"
      ],
      "metadata": {
        "colab": {
          "base_uri": "https://localhost:8080/"
        },
        "id": "PaTja7WuM4lo",
        "outputId": "f5df9939-480f-4213-eb6a-e1add5bef1fe"
      },
      "execution_count": 43,
      "outputs": [
        {
          "output_type": "execute_result",
          "data": {
            "text/plain": [
              "0.6200000047683716"
            ]
          },
          "metadata": {},
          "execution_count": 43
        }
      ]
    },
    {
      "cell_type": "code",
      "source": [
        "print(cumlll.score(X_train, y_train))\n",
        "print(cumlll.score(X_test, y_test))"
      ],
      "metadata": {
        "colab": {
          "base_uri": "https://localhost:8080/"
        },
        "id": "kbl-hUrGNn1A",
        "outputId": "3d8d08cf-ceff-41d9-d36a-5636d33602fc"
      },
      "execution_count": 44,
      "outputs": [
        {
          "output_type": "stream",
          "name": "stdout",
          "text": [
            "1.0\n",
            "0.7099999785423279\n"
          ]
        }
      ]
    },
    {
      "cell_type": "markdown",
      "source": [
        "As we can see from the above accuracy scores, the model is definitely overfitting. The training accuracy reaches 100%, while the validationa and testing accuracies are in the 60s and 70s. As a result, a grid search cross validatio will be performed to see if the model performance can be improved. If not, we will conduct our experiments on the logit model and the deep neural network. "
      ],
      "metadata": {
        "id": "fb9Azj6QKRBN"
      }
    },
    {
      "cell_type": "markdown",
      "source": [
        "## Grid Search Cross Validation"
      ],
      "metadata": {
        "id": "6HgIvYL3LBsP"
      }
    },
    {
      "cell_type": "code",
      "source": [
        "# Create the parameter grid based on the results of random search \n",
        "param_grid = {\n",
        "    'bootstrap': [True],\n",
        "    'max_depth': [30, 50],\n",
        "    'max_features': ['auto'],\n",
        "    'max_samples':[1],\n",
        "    'min_samples_leaf': [4, 5],\n",
        "    'min_samples_split': [2, 3],\n",
        "    'n_bins':[512,524],\n",
        "    'n_estimators': [800, 900],\n",
        "    'n_streams':[10]\n",
        "}\n",
        "# Create a based model\n",
        "rf = cuRFC()\n",
        "# Instantiate the grid search model\n",
        "grid_search = GridSearchCV(estimator = rf, param_grid = param_grid, \n",
        "                          cv = 3, verbose = 2)\n",
        "grid_search.fit(X_rgb_flattened_train_scaled, y_train)\n",
        "grid_search.best_params_"
      ],
      "metadata": {
        "id": "DmjfHBcRP5ZG"
      },
      "execution_count": null,
      "outputs": []
    },
    {
      "cell_type": "code",
      "source": [
        "grid_search.best_params_"
      ],
      "metadata": {
        "colab": {
          "base_uri": "https://localhost:8080/"
        },
        "id": "w8PosmQZYzNj",
        "outputId": "df20fedc-0304-4460-f943-f3055e80e154"
      },
      "execution_count": 35,
      "outputs": [
        {
          "output_type": "execute_result",
          "data": {
            "text/plain": [
              "{'bootstrap': True,\n",
              " 'max_depth': 30,\n",
              " 'max_features': 'auto',\n",
              " 'max_samples': 1,\n",
              " 'min_samples_leaf': 4,\n",
              " 'min_samples_split': 2,\n",
              " 'n_bins': 512,\n",
              " 'n_estimators': 800,\n",
              " 'n_streams': 10}"
            ]
          },
          "metadata": {},
          "execution_count": 35
        }
      ]
    },
    {
      "cell_type": "code",
      "source": [
        "cumlll = cuRFC(bootstrap= True,\n",
        " max_depth= 30,\n",
        " max_features = 'auto',\n",
        " max_samples= 1,\n",
        " min_samples_leaf= 4,\n",
        " min_samples_split= 2,\n",
        " n_bins= 512,\n",
        " n_estimators= 800,\n",
        " n_streams = 10)\n",
        "cumlll.fit(X_rgb_flattened_train_scaled,y_train)"
      ],
      "metadata": {
        "colab": {
          "base_uri": "https://localhost:8080/"
        },
        "id": "yagEymdR72rB",
        "outputId": "fb2de728-0de9-4749-bb55-20b90d21669a"
      },
      "execution_count": 40,
      "outputs": [
        {
          "output_type": "execute_result",
          "data": {
            "text/plain": [
              "RandomForestClassifier()"
            ]
          },
          "metadata": {},
          "execution_count": 40
        }
      ]
    },
    {
      "cell_type": "code",
      "source": [
        "print(cumlll.score(X_val, y_val))\n",
        "print(cumlll.score(X_train, y_train))\n",
        "print(cumlll.score(X_test, y_test))"
      ],
      "metadata": {
        "colab": {
          "base_uri": "https://localhost:8080/"
        },
        "id": "6_V1L2rv8KQn",
        "outputId": "f785ee66-1818-4b75-ae44-b9ce222d3810"
      },
      "execution_count": 41,
      "outputs": [
        {
          "output_type": "stream",
          "name": "stdout",
          "text": [
            "0.6200000047683716\n",
            "1.0\n",
            "0.7099999785423279\n"
          ]
        }
      ]
    },
    {
      "cell_type": "markdown",
      "source": [
        "The grid search tries to trim each decision tree in the forest by lowering the max_depth hyperparameter. But as we can see, the accuracy does not vary at all. So the next tuning step is to do a grid search that optimizes the auc score instead of accuracy, just to boost the generalization performance."
      ],
      "metadata": {
        "id": "flomsgcvLK5F"
      }
    },
    {
      "cell_type": "code",
      "source": [
        "# Create the parameter grid based on the results of random search \n",
        "param_grid = {\n",
        "    'bootstrap': [True],\n",
        "    'max_depth': [15, 30],\n",
        "    'max_features': ['auto'],\n",
        "    'max_samples':[1],\n",
        "    'min_samples_leaf': [4, 8],\n",
        "    'min_samples_split': [2, 4],\n",
        "    'n_bins':[512],\n",
        "    'n_estimators': [800],\n",
        "    'n_streams':[10]\n",
        "}\n",
        "# Create a based model\n",
        "rf = cuRFC()\n",
        "# Instantiate the grid search model\n",
        "grid_search = GridSearchCV(estimator = rf, param_grid = param_grid, \n",
        "                          cv = 3, verbose = 2, scoring = \"roc_auc\")\n",
        "grid_search.fit(X_rgb_flattened_train_scaled, y_train)\n",
        "grid_search.best_params_"
      ],
      "metadata": {
        "id": "saMxwyXE9Oym"
      },
      "execution_count": null,
      "outputs": []
    },
    {
      "cell_type": "code",
      "source": [
        "grid_search.best_params_"
      ],
      "metadata": {
        "colab": {
          "base_uri": "https://localhost:8080/"
        },
        "id": "Ku8ioqRyOaLp",
        "outputId": "02783078-6038-4541-ef0c-152b3e863b82"
      },
      "execution_count": 48,
      "outputs": [
        {
          "output_type": "execute_result",
          "data": {
            "text/plain": [
              "{'bootstrap': True,\n",
              " 'max_depth': 15,\n",
              " 'max_features': 'auto',\n",
              " 'max_samples': 1,\n",
              " 'min_samples_leaf': 8,\n",
              " 'min_samples_split': 2,\n",
              " 'n_bins': 512,\n",
              " 'n_estimators': 800,\n",
              " 'n_streams': 10}"
            ]
          },
          "metadata": {},
          "execution_count": 48
        }
      ]
    },
    {
      "cell_type": "code",
      "source": [
        "cumlll = cuRFC(bootstrap= True,\n",
        " max_depth= 15,\n",
        " max_features = 'auto',\n",
        " max_samples= 1,\n",
        " min_samples_leaf= 8,\n",
        " min_samples_split= 2,\n",
        " n_bins= 512,\n",
        " n_estimators= 800,\n",
        " n_streams = 10)\n",
        "cumlll.fit(X_rgb_flattened_train_scaled,y_train)"
      ],
      "metadata": {
        "colab": {
          "base_uri": "https://localhost:8080/"
        },
        "id": "v9d50ZaLXt-3",
        "outputId": "73f7d634-9655-4d08-aa62-9216ab36dbea"
      },
      "execution_count": 49,
      "outputs": [
        {
          "output_type": "execute_result",
          "data": {
            "text/plain": [
              "RandomForestClassifier()"
            ]
          },
          "metadata": {},
          "execution_count": 49
        }
      ]
    },
    {
      "cell_type": "code",
      "source": [
        "print(cumlll.score(X_val, y_val))\n",
        "print(cumlll.score(X_train, y_train))\n",
        "print(cumlll.score(X_test, y_test))"
      ],
      "metadata": {
        "colab": {
          "base_uri": "https://localhost:8080/"
        },
        "id": "_6nYHFWiYtV5",
        "outputId": "bf0e6101-5e36-45c3-eb06-6d18f6989661"
      },
      "execution_count": 50,
      "outputs": [
        {
          "output_type": "stream",
          "name": "stdout",
          "text": [
            "0.6200000047683716\n",
            "0.9950000047683716\n",
            "0.699999988079071\n"
          ]
        }
      ]
    },
    {
      "cell_type": "markdown",
      "source": [
        "## Plot the AUC and PR Curve to Evaluate the performance on the Test Set"
      ],
      "metadata": {
        "id": "BzVQoa8MfZfQ"
      }
    },
    {
      "cell_type": "code",
      "source": [
        "y_pred_proba = cumlll.predict_proba(X_test)"
      ],
      "metadata": {
        "id": "nWGi8aEKfr39"
      },
      "execution_count": 53,
      "outputs": []
    },
    {
      "cell_type": "code",
      "source": [
        "fpr, tpr, _ = metrics.roc_curve(y_test, y_pred_proba[1].to_cupy().get())\n",
        "auc = metrics.roc_auc_score(y_test, y_pred_proba[1].to_cupy().get())\n",
        "leg1 = 'AUC = {:0.2f}'.format(auc)\n",
        "plt.figure(figsize = (12,8))\n",
        "plt.plot(fpr, tpr, label = leg1)\n",
        "plt.xlabel('False Positive Rate', fontsize = 18)\n",
        "plt.ylabel('True Positive Rate', fontsize = 18)\n",
        "plt.plot([0,1],[0,1], linestyle='--', color='Red', label = 'Random Guess')\n",
        "plt.legend(fontsize=14)\n",
        "plt.xticks(fontsize=14)\n",
        "plt.yticks(fontsize=14)\n",
        "plt.title(\"ROC curve of Random Forest Model\", fontsize = 22)\n",
        "plt.show();"
      ],
      "metadata": {
        "colab": {
          "base_uri": "https://localhost:8080/",
          "height": 531
        },
        "id": "_3izJxFoYyuT",
        "outputId": "f9f37414-f7eb-4278-c1e6-036f78462da5"
      },
      "execution_count": 66,
      "outputs": [
        {
          "output_type": "display_data",
          "data": {
            "text/plain": [
              "<Figure size 864x576 with 1 Axes>"
            ],
            "image/png": "[encoded data removed]"
          },
          "metadata": {
            "needs_background": "light"
          }
        }
      ]
    },
    {
      "cell_type": "code",
      "source": [
        "precision, recall, _ = metrics.precision_recall_curve(y_test, y_pred_proba[1].to_cupy().get())\n",
        "pre = metrics.average_precision_score(y_test, y_pred_proba[1].to_cupy().get())\n",
        "leg1 = 'AP = {:0.2f}'.format(pre)\n",
        "plt.figure(figsize = (12,8))\n",
        "plt.plot(precision, recall, label = leg1)\n",
        "plt.xlabel('Recall', fontsize = 18)\n",
        "plt.ylabel('Precision', fontsize = 18)\n",
        "plt.plot([1,0],[0,1], linestyle='--', color='Red', label = 'Random Guess')\n",
        "plt.legend(fontsize=14)\n",
        "plt.xticks(fontsize=14)\n",
        "plt.yticks(fontsize=14)\n",
        "plt.title(\"PR curve of Random Forest Model\", fontsize = 22)\n",
        "plt.show();"
      ],
      "metadata": {
        "colab": {
          "base_uri": "https://localhost:8080/",
          "height": 531
        },
        "id": "TxI5o4fihbIH",
        "outputId": "61d7d2b2-eafe-4728-fbe4-d64c5e830a17"
      },
      "execution_count": 68,
      "outputs": [
        {
          "output_type": "display_data",
          "data": {
            "text/plain": [
              "<Figure size 864x576 with 1 Axes>"
            ],
            "image/png": "[encoded data removed]"
          },
          "metadata": {
            "needs_background": "light"
          }
        }
      ]
    },
    {
      "cell_type": "markdown",
      "source": [
        "Even after a lot of hyperparameter tuning, the random forest model is definitely not ideal for dealing with computer vision problems. We believe that the RF model learns too much detail on each photo and thus has very poor generalization performance. "
      ],
      "metadata": {
        "id": "EpbLUug5inMK"
      }
    },
    {
      "cell_type": "markdown",
      "source": [
        "## Serialize the model for future usage."
      ],
      "metadata": {
        "id": "YhLpTEe6lbGB"
      }
    },
    {
      "cell_type": "code",
      "source": [
        "import pickle\n",
        "filename = 'finalized_rf_model.sav'\n",
        "pickle.dump(cumlll, open(filename, 'wb'))\n",
        "loaded_model = pickle.load(open(filename, 'rb'))"
      ],
      "metadata": {
        "id": "mhxeiat-lc8i"
      },
      "execution_count": 69,
      "outputs": []
    }
  ]
}